{
  "nbformat": 4,
  "nbformat_minor": 0,
  "metadata": {
    "colab": {
      "name": "Oreeva_House_Price.ipynb",
      "provenance": [],
      "collapsed_sections": []
    },
    "kernelspec": {
      "display_name": "Python 3",
      "name": "python3"
    },
    "language_info": {
      "name": "python"
    }
  },
  "cells": [
    {
      "cell_type": "code",
      "metadata": {
        "id": "4UhxIwW6CAKY"
      },
      "source": [
        "import warnings\n",
        "warnings.filterwarnings('ignore')\n",
        "import pandas as pd\n",
        "import numpy as np\n",
        "import seaborn as sns\n",
        "sns.set(color_codes=True)\n",
        "import matplotlib.pyplot as plt\n",
        "from math import sqrt\n",
        "from scipy.stats import norm, skew\n",
        "from scipy.special import boxcox1p\n",
        "    \n",
        "from sklearn.linear_model import ElasticNet, Lasso\n",
        "from sklearn.ensemble import RandomForestRegressor,  GradientBoostingRegressor\n",
        "from sklearn.kernel_ridge import KernelRidge\n",
        "from sklearn.pipeline import make_pipeline\n",
        "from sklearn.preprocessing import RobustScaler\n",
        "from sklearn import preprocessing\n",
        "from sklearn.model_selection import train_test_split\n",
        "from sklearn.tree import DecisionTreeRegressor\n",
        "from sklearn.model_selection import train_test_split\n",
        "from sklearn import datasets\n",
        "from sklearn.feature_selection import RFE\n",
        "from sklearn.preprocessing import LabelEncoder\n",
        "import xgboost as xgb"
      ],
      "execution_count": 1,
      "outputs": []
    },
    {
      "cell_type": "code",
      "metadata": {
        "id": "rU5rPPsqSgy-"
      },
      "source": [
        "df_train2017 = pd.read_csv(\"/content/drive/MyDrive/oreeva/2017.csv\")\n",
        "df_train2018 = pd.read_csv(\"/content/drive/MyDrive/oreeva/2018.csv\")\n",
        "df_test = pd.read_csv(\"/content/drive/MyDrive/oreeva/2019.csv\")"
      ],
      "execution_count": 2,
      "outputs": []
    },
    {
      "cell_type": "code",
      "metadata": {
        "colab": {
          "base_uri": "https://localhost:8080/"
        },
        "id": "6dmL3_e4bRkg",
        "outputId": "dbdc201f-609f-4c9f-da01-db842c26b247"
      },
      "source": [
        "print(f'df_train2017 {df_train2017.shape}')\n",
        "print(f'df_train2018 {df_train2018.shape}')\n",
        "print(f'df_test {df_test.shape}')"
      ],
      "execution_count": 3,
      "outputs": [
        {
          "output_type": "stream",
          "text": [
            "df_train2017 (992212, 43)\n",
            "df_train2018 (986565, 43)\n",
            "df_test (28323, 42)\n"
          ],
          "name": "stdout"
        }
      ]
    },
    {
      "cell_type": "code",
      "metadata": {
        "colab": {
          "base_uri": "https://localhost:8080/",
          "height": 317
        },
        "id": "Hh7Q4LnZ8pLh",
        "outputId": "0710f46f-150d-4650-dced-f9bd2422661c"
      },
      "source": [
        "df_train2017.describe()\n"
      ],
      "execution_count": 4,
      "outputs": [
        {
          "output_type": "execute_result",
          "data": {
            "text/html": [
              "<div>\n",
              "<style scoped>\n",
              "    .dataframe tbody tr th:only-of-type {\n",
              "        vertical-align: middle;\n",
              "    }\n",
              "\n",
              "    .dataframe tbody tr th {\n",
              "        vertical-align: top;\n",
              "    }\n",
              "\n",
              "    .dataframe thead th {\n",
              "        text-align: right;\n",
              "    }\n",
              "</style>\n",
              "<table border=\"1\" class=\"dataframe\">\n",
              "  <thead>\n",
              "    <tr style=\"text-align: right;\">\n",
              "      <th></th>\n",
              "      <th>price</th>\n",
              "      <th>number_of_rooms</th>\n",
              "      <th>total_floor_area</th>\n",
              "      <th>epc_energy_consumption_current</th>\n",
              "      <th>epc_lighting_cost_current</th>\n",
              "      <th>epc_heating_cost_current</th>\n",
              "      <th>epc_hot_water_cost_current</th>\n",
              "      <th>epc_flat_storey_count</th>\n",
              "      <th>epc_number_open_fireplaces</th>\n",
              "      <th>epc_floor_height</th>\n",
              "      <th>latitude</th>\n",
              "      <th>longitude</th>\n",
              "      <th>closeststop</th>\n",
              "      <th>crimesin3km_antisocial</th>\n",
              "      <th>closestschool</th>\n",
              "      <th>closestpark</th>\n",
              "      <th>address_id</th>\n",
              "      <th>distance_center</th>\n",
              "    </tr>\n",
              "  </thead>\n",
              "  <tbody>\n",
              "    <tr>\n",
              "      <th>count</th>\n",
              "      <td>9.922120e+05</td>\n",
              "      <td>488846.000000</td>\n",
              "      <td>550761.000000</td>\n",
              "      <td>550761.000000</td>\n",
              "      <td>550761.000000</td>\n",
              "      <td>550761.000000</td>\n",
              "      <td>550761.000000</td>\n",
              "      <td>46374.000000</td>\n",
              "      <td>490416.000000</td>\n",
              "      <td>308738.000000</td>\n",
              "      <td>981289.000000</td>\n",
              "      <td>981289.000000</td>\n",
              "      <td>970311.000000</td>\n",
              "      <td>981030.000000</td>\n",
              "      <td>929846.000000</td>\n",
              "      <td>907947.000000</td>\n",
              "      <td>9.922120e+05</td>\n",
              "      <td>981289.000000</td>\n",
              "    </tr>\n",
              "    <tr>\n",
              "      <th>mean</th>\n",
              "      <td>3.430209e+05</td>\n",
              "      <td>4.607099</td>\n",
              "      <td>91.285681</td>\n",
              "      <td>932.934124</td>\n",
              "      <td>80.054866</td>\n",
              "      <td>718.063476</td>\n",
              "      <td>142.841696</td>\n",
              "      <td>3.207465</td>\n",
              "      <td>0.200783</td>\n",
              "      <td>2.452155</td>\n",
              "      <td>52.340786</td>\n",
              "      <td>-1.353508</td>\n",
              "      <td>311.753490</td>\n",
              "      <td>2371.478555</td>\n",
              "      <td>485.204683</td>\n",
              "      <td>964.415709</td>\n",
              "      <td>9.772327e+07</td>\n",
              "      <td>6.210879</td>\n",
              "    </tr>\n",
              "    <tr>\n",
              "      <th>std</th>\n",
              "      <td>2.057961e+06</td>\n",
              "      <td>1.765542</td>\n",
              "      <td>54.153310</td>\n",
              "      <td>4616.730188</td>\n",
              "      <td>40.891643</td>\n",
              "      <td>552.759957</td>\n",
              "      <td>76.631545</td>\n",
              "      <td>2.540377</td>\n",
              "      <td>0.561604</td>\n",
              "      <td>0.640488</td>\n",
              "      <td>1.141627</td>\n",
              "      <td>1.329082</td>\n",
              "      <td>475.290107</td>\n",
              "      <td>2943.331264</td>\n",
              "      <td>432.445959</td>\n",
              "      <td>793.564470</td>\n",
              "      <td>4.938171e+06</td>\n",
              "      <td>7.306605</td>\n",
              "    </tr>\n",
              "    <tr>\n",
              "      <th>min</th>\n",
              "      <td>1.000000e+00</td>\n",
              "      <td>1.000000</td>\n",
              "      <td>0.000000</td>\n",
              "      <td>-1323.000000</td>\n",
              "      <td>-8.000000</td>\n",
              "      <td>-65.000000</td>\n",
              "      <td>-31.000000</td>\n",
              "      <td>0.000000</td>\n",
              "      <td>0.000000</td>\n",
              "      <td>0.000000</td>\n",
              "      <td>49.913207</td>\n",
              "      <td>-6.352647</td>\n",
              "      <td>0.532170</td>\n",
              "      <td>0.000000</td>\n",
              "      <td>0.000000</td>\n",
              "      <td>3.000000</td>\n",
              "      <td>8.857598e+07</td>\n",
              "      <td>0.003302</td>\n",
              "    </tr>\n",
              "    <tr>\n",
              "      <th>25%</th>\n",
              "      <td>1.400000e+05</td>\n",
              "      <td>3.000000</td>\n",
              "      <td>64.000000</td>\n",
              "      <td>196.000000</td>\n",
              "      <td>55.000000</td>\n",
              "      <td>401.000000</td>\n",
              "      <td>96.000000</td>\n",
              "      <td>2.000000</td>\n",
              "      <td>0.000000</td>\n",
              "      <td>2.330000</td>\n",
              "      <td>51.455900</td>\n",
              "      <td>-2.240896</td>\n",
              "      <td>96.812114</td>\n",
              "      <td>446.000000</td>\n",
              "      <td>243.000000</td>\n",
              "      <td>412.000000</td>\n",
              "      <td>9.336849e+07</td>\n",
              "      <td>1.791768</td>\n",
              "    </tr>\n",
              "    <tr>\n",
              "      <th>50%</th>\n",
              "      <td>2.248145e+05</td>\n",
              "      <td>4.000000</td>\n",
              "      <td>81.500000</td>\n",
              "      <td>262.000000</td>\n",
              "      <td>73.000000</td>\n",
              "      <td>606.000000</td>\n",
              "      <td>117.000000</td>\n",
              "      <td>3.000000</td>\n",
              "      <td>0.000000</td>\n",
              "      <td>2.400000</td>\n",
              "      <td>52.143151</td>\n",
              "      <td>-1.387420</td>\n",
              "      <td>161.098046</td>\n",
              "      <td>1430.000000</td>\n",
              "      <td>383.000000</td>\n",
              "      <td>712.000000</td>\n",
              "      <td>9.830963e+07</td>\n",
              "      <td>3.749439</td>\n",
              "    </tr>\n",
              "    <tr>\n",
              "      <th>75%</th>\n",
              "      <td>3.500000e+05</td>\n",
              "      <td>5.000000</td>\n",
              "      <td>105.300000</td>\n",
              "      <td>348.000000</td>\n",
              "      <td>96.000000</td>\n",
              "      <td>872.000000</td>\n",
              "      <td>164.000000</td>\n",
              "      <td>4.000000</td>\n",
              "      <td>0.000000</td>\n",
              "      <td>2.500000</td>\n",
              "      <td>53.364162</td>\n",
              "      <td>-0.258715</td>\n",
              "      <td>295.766537</td>\n",
              "      <td>3048.000000</td>\n",
              "      <td>576.000000</td>\n",
              "      <td>1241.000000</td>\n",
              "      <td>1.021145e+08</td>\n",
              "      <td>7.717438</td>\n",
              "    </tr>\n",
              "    <tr>\n",
              "      <th>max</th>\n",
              "      <td>7.075042e+08</td>\n",
              "      <td>90.000000</td>\n",
              "      <td>5327.890000</td>\n",
              "      <td>358454.000000</td>\n",
              "      <td>6760.000000</td>\n",
              "      <td>48391.000000</td>\n",
              "      <td>1395.000000</td>\n",
              "      <td>55.000000</td>\n",
              "      <td>50.000000</td>\n",
              "      <td>230.000000</td>\n",
              "      <td>55.797415</td>\n",
              "      <td>1.757928</td>\n",
              "      <td>4784.667983</td>\n",
              "      <td>23074.000000</td>\n",
              "      <td>4695.000000</td>\n",
              "      <td>4838.000000</td>\n",
              "      <td>1.056134e+08</td>\n",
              "      <td>83.744964</td>\n",
              "    </tr>\n",
              "  </tbody>\n",
              "</table>\n",
              "</div>"
            ],
            "text/plain": [
              "              price  number_of_rooms  ...    address_id  distance_center\n",
              "count  9.922120e+05    488846.000000  ...  9.922120e+05    981289.000000\n",
              "mean   3.430209e+05         4.607099  ...  9.772327e+07         6.210879\n",
              "std    2.057961e+06         1.765542  ...  4.938171e+06         7.306605\n",
              "min    1.000000e+00         1.000000  ...  8.857598e+07         0.003302\n",
              "25%    1.400000e+05         3.000000  ...  9.336849e+07         1.791768\n",
              "50%    2.248145e+05         4.000000  ...  9.830963e+07         3.749439\n",
              "75%    3.500000e+05         5.000000  ...  1.021145e+08         7.717438\n",
              "max    7.075042e+08        90.000000  ...  1.056134e+08        83.744964\n",
              "\n",
              "[8 rows x 18 columns]"
            ]
          },
          "metadata": {
            "tags": []
          },
          "execution_count": 4
        }
      ]
    },
    {
      "cell_type": "code",
      "metadata": {
        "colab": {
          "base_uri": "https://localhost:8080/",
          "height": 317
        },
        "id": "KZcFmVIo9D1P",
        "outputId": "222b04d4-1371-4021-cc80-a778cd61ead9"
      },
      "source": [
        "df_train2018.describe()"
      ],
      "execution_count": 5,
      "outputs": [
        {
          "output_type": "execute_result",
          "data": {
            "text/html": [
              "<div>\n",
              "<style scoped>\n",
              "    .dataframe tbody tr th:only-of-type {\n",
              "        vertical-align: middle;\n",
              "    }\n",
              "\n",
              "    .dataframe tbody tr th {\n",
              "        vertical-align: top;\n",
              "    }\n",
              "\n",
              "    .dataframe thead th {\n",
              "        text-align: right;\n",
              "    }\n",
              "</style>\n",
              "<table border=\"1\" class=\"dataframe\">\n",
              "  <thead>\n",
              "    <tr style=\"text-align: right;\">\n",
              "      <th></th>\n",
              "      <th>price</th>\n",
              "      <th>number_of_rooms</th>\n",
              "      <th>total_floor_area</th>\n",
              "      <th>epc_energy_consumption_current</th>\n",
              "      <th>epc_lighting_cost_current</th>\n",
              "      <th>epc_heating_cost_current</th>\n",
              "      <th>epc_hot_water_cost_current</th>\n",
              "      <th>epc_flat_storey_count</th>\n",
              "      <th>epc_number_open_fireplaces</th>\n",
              "      <th>epc_floor_height</th>\n",
              "      <th>latitude</th>\n",
              "      <th>longitude</th>\n",
              "      <th>closeststop</th>\n",
              "      <th>crimesin3km_antisocial</th>\n",
              "      <th>closestschool</th>\n",
              "      <th>closestpark</th>\n",
              "      <th>address_id</th>\n",
              "      <th>distance_center</th>\n",
              "    </tr>\n",
              "  </thead>\n",
              "  <tbody>\n",
              "    <tr>\n",
              "      <th>count</th>\n",
              "      <td>9.865650e+05</td>\n",
              "      <td>361287.000000</td>\n",
              "      <td>409595.000000</td>\n",
              "      <td>409595.000000</td>\n",
              "      <td>409595.000000</td>\n",
              "      <td>409595.000000</td>\n",
              "      <td>409595.000000</td>\n",
              "      <td>39583.000000</td>\n",
              "      <td>362585.000000</td>\n",
              "      <td>216794.000000</td>\n",
              "      <td>906888.000000</td>\n",
              "      <td>906888.000000</td>\n",
              "      <td>896594.000000</td>\n",
              "      <td>906668.000000</td>\n",
              "      <td>857402.000000</td>\n",
              "      <td>838429.000000</td>\n",
              "      <td>9.865650e+05</td>\n",
              "      <td>906888.000000</td>\n",
              "    </tr>\n",
              "    <tr>\n",
              "      <th>mean</th>\n",
              "      <td>3.453821e+05</td>\n",
              "      <td>4.506971</td>\n",
              "      <td>88.307018</td>\n",
              "      <td>1049.659930</td>\n",
              "      <td>77.419304</td>\n",
              "      <td>679.006654</td>\n",
              "      <td>138.278373</td>\n",
              "      <td>3.123765</td>\n",
              "      <td>0.201081</td>\n",
              "      <td>2.454311</td>\n",
              "      <td>52.365887</td>\n",
              "      <td>-1.379345</td>\n",
              "      <td>310.677958</td>\n",
              "      <td>2339.645078</td>\n",
              "      <td>481.820775</td>\n",
              "      <td>963.748329</td>\n",
              "      <td>9.940130e+07</td>\n",
              "      <td>6.168990</td>\n",
              "    </tr>\n",
              "    <tr>\n",
              "      <th>std</th>\n",
              "      <td>1.818853e+06</td>\n",
              "      <td>1.680315</td>\n",
              "      <td>51.231621</td>\n",
              "      <td>4979.396762</td>\n",
              "      <td>40.717142</td>\n",
              "      <td>521.660996</td>\n",
              "      <td>73.737421</td>\n",
              "      <td>2.412517</td>\n",
              "      <td>0.586876</td>\n",
              "      <td>0.552198</td>\n",
              "      <td>1.146690</td>\n",
              "      <td>1.325793</td>\n",
              "      <td>476.008688</td>\n",
              "      <td>2864.454167</td>\n",
              "      <td>431.092765</td>\n",
              "      <td>791.441957</td>\n",
              "      <td>5.677736e+06</td>\n",
              "      <td>7.203666</td>\n",
              "    </tr>\n",
              "    <tr>\n",
              "      <th>min</th>\n",
              "      <td>1.000000e+00</td>\n",
              "      <td>1.000000</td>\n",
              "      <td>0.000000</td>\n",
              "      <td>-229.000000</td>\n",
              "      <td>-1.000000</td>\n",
              "      <td>-801.000000</td>\n",
              "      <td>-1.000000</td>\n",
              "      <td>0.000000</td>\n",
              "      <td>0.000000</td>\n",
              "      <td>0.000000</td>\n",
              "      <td>49.913412</td>\n",
              "      <td>-6.318531</td>\n",
              "      <td>0.915098</td>\n",
              "      <td>0.000000</td>\n",
              "      <td>0.000000</td>\n",
              "      <td>5.000000</td>\n",
              "      <td>8.857593e+07</td>\n",
              "      <td>0.003302</td>\n",
              "    </tr>\n",
              "    <tr>\n",
              "      <th>25%</th>\n",
              "      <td>1.460000e+05</td>\n",
              "      <td>3.000000</td>\n",
              "      <td>63.000000</td>\n",
              "      <td>195.000000</td>\n",
              "      <td>54.000000</td>\n",
              "      <td>385.000000</td>\n",
              "      <td>94.000000</td>\n",
              "      <td>2.000000</td>\n",
              "      <td>0.000000</td>\n",
              "      <td>2.320000</td>\n",
              "      <td>51.460335</td>\n",
              "      <td>-2.254189</td>\n",
              "      <td>96.677427</td>\n",
              "      <td>453.000000</td>\n",
              "      <td>241.000000</td>\n",
              "      <td>413.000000</td>\n",
              "      <td>9.431985e+07</td>\n",
              "      <td>1.802819</td>\n",
              "    </tr>\n",
              "    <tr>\n",
              "      <th>50%</th>\n",
              "      <td>2.300000e+05</td>\n",
              "      <td>4.000000</td>\n",
              "      <td>80.000000</td>\n",
              "      <td>262.000000</td>\n",
              "      <td>71.000000</td>\n",
              "      <td>578.000000</td>\n",
              "      <td>114.000000</td>\n",
              "      <td>3.000000</td>\n",
              "      <td>0.000000</td>\n",
              "      <td>2.400000</td>\n",
              "      <td>52.223907</td>\n",
              "      <td>-1.420463</td>\n",
              "      <td>160.018906</td>\n",
              "      <td>1436.000000</td>\n",
              "      <td>380.000000</td>\n",
              "      <td>713.000000</td>\n",
              "      <td>1.003003e+08</td>\n",
              "      <td>3.759811</td>\n",
              "    </tr>\n",
              "    <tr>\n",
              "      <th>75%</th>\n",
              "      <td>3.550000e+05</td>\n",
              "      <td>5.000000</td>\n",
              "      <td>102.000000</td>\n",
              "      <td>350.000000</td>\n",
              "      <td>92.000000</td>\n",
              "      <td>825.000000</td>\n",
              "      <td>157.000000</td>\n",
              "      <td>4.000000</td>\n",
              "      <td>0.000000</td>\n",
              "      <td>2.520000</td>\n",
              "      <td>53.381303</td>\n",
              "      <td>-0.291268</td>\n",
              "      <td>292.025261</td>\n",
              "      <td>3031.000000</td>\n",
              "      <td>572.000000</td>\n",
              "      <td>1241.000000</td>\n",
              "      <td>1.053053e+08</td>\n",
              "      <td>7.691601</td>\n",
              "    </tr>\n",
              "    <tr>\n",
              "      <th>max</th>\n",
              "      <td>5.692000e+08</td>\n",
              "      <td>91.000000</td>\n",
              "      <td>3571.440000</td>\n",
              "      <td>416354.000000</td>\n",
              "      <td>5505.000000</td>\n",
              "      <td>62707.000000</td>\n",
              "      <td>1411.000000</td>\n",
              "      <td>63.000000</td>\n",
              "      <td>75.000000</td>\n",
              "      <td>204.000000</td>\n",
              "      <td>55.797415</td>\n",
              "      <td>1.758397</td>\n",
              "      <td>4815.169126</td>\n",
              "      <td>23074.000000</td>\n",
              "      <td>4743.000000</td>\n",
              "      <td>4786.000000</td>\n",
              "      <td>1.056136e+08</td>\n",
              "      <td>83.567883</td>\n",
              "    </tr>\n",
              "  </tbody>\n",
              "</table>\n",
              "</div>"
            ],
            "text/plain": [
              "              price  number_of_rooms  ...    address_id  distance_center\n",
              "count  9.865650e+05    361287.000000  ...  9.865650e+05    906888.000000\n",
              "mean   3.453821e+05         4.506971  ...  9.940130e+07         6.168990\n",
              "std    1.818853e+06         1.680315  ...  5.677736e+06         7.203666\n",
              "min    1.000000e+00         1.000000  ...  8.857593e+07         0.003302\n",
              "25%    1.460000e+05         3.000000  ...  9.431985e+07         1.802819\n",
              "50%    2.300000e+05         4.000000  ...  1.003003e+08         3.759811\n",
              "75%    3.550000e+05         5.000000  ...  1.053053e+08         7.691601\n",
              "max    5.692000e+08        91.000000  ...  1.056136e+08        83.567883\n",
              "\n",
              "[8 rows x 18 columns]"
            ]
          },
          "metadata": {
            "tags": []
          },
          "execution_count": 5
        }
      ]
    },
    {
      "cell_type": "code",
      "metadata": {
        "colab": {
          "base_uri": "https://localhost:8080/"
        },
        "id": "o-czqN4RTOBG",
        "outputId": "e6cd5789-897c-44e8-847e-b3adbadba8e3"
      },
      "source": [
        "df_train = pd.concat([df_train2017,df_train2018])\n",
        "len_train = len(df_train)\n",
        "len_train"
      ],
      "execution_count": 6,
      "outputs": [
        {
          "output_type": "execute_result",
          "data": {
            "text/plain": [
              "1978777"
            ]
          },
          "metadata": {
            "tags": []
          },
          "execution_count": 6
        }
      ]
    },
    {
      "cell_type": "code",
      "metadata": {
        "id": "tDeUsWhTWgG8"
      },
      "source": [
        "def check_df_concat(df1,df2,df_concat):\n",
        "  if (df1.shape[0] + df2.shape[0]) == df_concat.shape[0]:\n",
        "    return f\"Correctly Joined. Shape : {df_concat.shape}\" \n",
        "  return \"Error\""
      ],
      "execution_count": 7,
      "outputs": []
    },
    {
      "cell_type": "code",
      "metadata": {
        "colab": {
          "base_uri": "https://localhost:8080/",
          "height": 36
        },
        "id": "7BN4vfpOcGd4",
        "outputId": "bb8aaaea-6c0c-49e3-e5f7-de6edad6a663"
      },
      "source": [
        "check_df_concat(df_train2017,df_train2018,df_train)"
      ],
      "execution_count": 8,
      "outputs": [
        {
          "output_type": "execute_result",
          "data": {
            "application/vnd.google.colaboratory.intrinsic+json": {
              "type": "string"
            },
            "text/plain": [
              "'Correctly Joined. Shape : (1978777, 43)'"
            ]
          },
          "metadata": {
            "tags": []
          },
          "execution_count": 8
        }
      ]
    },
    {
      "cell_type": "markdown",
      "metadata": {
        "id": "ksEFTLA58AIU"
      },
      "source": [
        "#Data Lookup"
      ]
    },
    {
      "cell_type": "markdown",
      "metadata": {
        "id": "WlE8vXGAvXgI"
      },
      "source": [
        "####Train Dataset"
      ]
    },
    {
      "cell_type": "code",
      "metadata": {
        "colab": {
          "base_uri": "https://localhost:8080/",
          "height": 0
        },
        "id": "uTcouhHYhw_6",
        "outputId": "6a14527b-cf05-4cec-e3aa-99ba368cf071"
      },
      "source": [
        "df_train.head()"
      ],
      "execution_count": 9,
      "outputs": [
        {
          "output_type": "execute_result",
          "data": {
            "text/html": [
              "<div>\n",
              "<style scoped>\n",
              "    .dataframe tbody tr th:only-of-type {\n",
              "        vertical-align: middle;\n",
              "    }\n",
              "\n",
              "    .dataframe tbody tr th {\n",
              "        vertical-align: top;\n",
              "    }\n",
              "\n",
              "    .dataframe thead th {\n",
              "        text-align: right;\n",
              "    }\n",
              "</style>\n",
              "<table border=\"1\" class=\"dataframe\">\n",
              "  <thead>\n",
              "    <tr style=\"text-align: right;\">\n",
              "      <th></th>\n",
              "      <th>transaction_id</th>\n",
              "      <th>created</th>\n",
              "      <th>duration</th>\n",
              "      <th>price</th>\n",
              "      <th>old_new</th>\n",
              "      <th>ppd_category</th>\n",
              "      <th>property_type</th>\n",
              "      <th>flat</th>\n",
              "      <th>floor_level</th>\n",
              "      <th>number_of_rooms</th>\n",
              "      <th>total_floor_area</th>\n",
              "      <th>epc_current_energy_rating</th>\n",
              "      <th>epc_potential_energy_rating</th>\n",
              "      <th>epc_property_type</th>\n",
              "      <th>epc_built_form</th>\n",
              "      <th>epc_energy_consumption_current</th>\n",
              "      <th>epc_lighting_cost_current</th>\n",
              "      <th>epc_heating_cost_current</th>\n",
              "      <th>epc_hot_water_cost_current</th>\n",
              "      <th>epc_flat_storey_count</th>\n",
              "      <th>epc_glazed_area</th>\n",
              "      <th>epc_number_open_fireplaces</th>\n",
              "      <th>epc_windows_description</th>\n",
              "      <th>epc_windows_energy_eff</th>\n",
              "      <th>epc_walls_description</th>\n",
              "      <th>epc_walls_energy_eff</th>\n",
              "      <th>epc_roof_description</th>\n",
              "      <th>epc_roof_energy_eff</th>\n",
              "      <th>epc_floor_height</th>\n",
              "      <th>postcode</th>\n",
              "      <th>city</th>\n",
              "      <th>street</th>\n",
              "      <th>building_name</th>\n",
              "      <th>building_number</th>\n",
              "      <th>latitude</th>\n",
              "      <th>longitude</th>\n",
              "      <th>postcode_sector</th>\n",
              "      <th>closeststop</th>\n",
              "      <th>crimesin3km_antisocial</th>\n",
              "      <th>closestschool</th>\n",
              "      <th>closestpark</th>\n",
              "      <th>address_id</th>\n",
              "      <th>distance_center</th>\n",
              "    </tr>\n",
              "  </thead>\n",
              "  <tbody>\n",
              "    <tr>\n",
              "      <th>0</th>\n",
              "      <td>{5CF9903C-EF46-7F13-E053-6C04A8C074B1}</td>\n",
              "      <td>2017-06-22</td>\n",
              "      <td>F</td>\n",
              "      <td>86787</td>\n",
              "      <td>Y</td>\n",
              "      <td>B</td>\n",
              "      <td>T</td>\n",
              "      <td>NaN</td>\n",
              "      <td>NaN</td>\n",
              "      <td>NaN</td>\n",
              "      <td>NaN</td>\n",
              "      <td>NaN</td>\n",
              "      <td>NaN</td>\n",
              "      <td>NaN</td>\n",
              "      <td>NaN</td>\n",
              "      <td>NaN</td>\n",
              "      <td>NaN</td>\n",
              "      <td>NaN</td>\n",
              "      <td>NaN</td>\n",
              "      <td>NaN</td>\n",
              "      <td>NaN</td>\n",
              "      <td>NaN</td>\n",
              "      <td>NaN</td>\n",
              "      <td>NaN</td>\n",
              "      <td>NaN</td>\n",
              "      <td>NaN</td>\n",
              "      <td>NaN</td>\n",
              "      <td>NaN</td>\n",
              "      <td>NaN</td>\n",
              "      <td>NG19 8RX</td>\n",
              "      <td>MANSFIELD</td>\n",
              "      <td>PICCADILLY CLOSE</td>\n",
              "      <td>NaN</td>\n",
              "      <td>24</td>\n",
              "      <td>53.177751</td>\n",
              "      <td>-1.191828</td>\n",
              "      <td>NG19 8</td>\n",
              "      <td>130.419369</td>\n",
              "      <td>741.0</td>\n",
              "      <td>735.0</td>\n",
              "      <td>674.0</td>\n",
              "      <td>102877980</td>\n",
              "      <td>3.658300</td>\n",
              "    </tr>\n",
              "    <tr>\n",
              "      <th>1</th>\n",
              "      <td>{5F54B81D-F9BF-2B45-E053-6B04A8C01FB0}</td>\n",
              "      <td>2017-10-13</td>\n",
              "      <td>F</td>\n",
              "      <td>805000</td>\n",
              "      <td>N</td>\n",
              "      <td>A</td>\n",
              "      <td>D</td>\n",
              "      <td>NaN</td>\n",
              "      <td>NaN</td>\n",
              "      <td>9.0</td>\n",
              "      <td>173.04</td>\n",
              "      <td>E</td>\n",
              "      <td>D</td>\n",
              "      <td>House</td>\n",
              "      <td>Detached</td>\n",
              "      <td>297.0</td>\n",
              "      <td>189.0</td>\n",
              "      <td>1489.0</td>\n",
              "      <td>259.0</td>\n",
              "      <td>NaN</td>\n",
              "      <td>Normal</td>\n",
              "      <td>0.0</td>\n",
              "      <td>Partial double glazing</td>\n",
              "      <td>Average</td>\n",
              "      <td>Cavity wall, as built, insulated (assumed)</td>\n",
              "      <td>Good</td>\n",
              "      <td>Pitched, insulated (assumed)</td>\n",
              "      <td>Average</td>\n",
              "      <td>2.7</td>\n",
              "      <td>SN8 3LP</td>\n",
              "      <td>WILTSHIRE</td>\n",
              "      <td>FOREST HILL</td>\n",
              "      <td>NaN</td>\n",
              "      <td>3</td>\n",
              "      <td>51.380891</td>\n",
              "      <td>-1.605473</td>\n",
              "      <td>SN8 3</td>\n",
              "      <td>446.805795</td>\n",
              "      <td>10.0</td>\n",
              "      <td>633.0</td>\n",
              "      <td>NaN</td>\n",
              "      <td>97804281</td>\n",
              "      <td>27.205352</td>\n",
              "    </tr>\n",
              "    <tr>\n",
              "      <th>2</th>\n",
              "      <td>{4C4EE000-1146-1854-E050-A8C063054F34}</td>\n",
              "      <td>2017-03-08</td>\n",
              "      <td>F</td>\n",
              "      <td>275000</td>\n",
              "      <td>N</td>\n",
              "      <td>A</td>\n",
              "      <td>D</td>\n",
              "      <td>NaN</td>\n",
              "      <td>NaN</td>\n",
              "      <td>NaN</td>\n",
              "      <td>NaN</td>\n",
              "      <td>NaN</td>\n",
              "      <td>NaN</td>\n",
              "      <td>NaN</td>\n",
              "      <td>NaN</td>\n",
              "      <td>NaN</td>\n",
              "      <td>NaN</td>\n",
              "      <td>NaN</td>\n",
              "      <td>NaN</td>\n",
              "      <td>NaN</td>\n",
              "      <td>NaN</td>\n",
              "      <td>NaN</td>\n",
              "      <td>NaN</td>\n",
              "      <td>NaN</td>\n",
              "      <td>NaN</td>\n",
              "      <td>NaN</td>\n",
              "      <td>NaN</td>\n",
              "      <td>NaN</td>\n",
              "      <td>NaN</td>\n",
              "      <td>DY5 3XJ</td>\n",
              "      <td>DUDLEY</td>\n",
              "      <td>PATTERDALE WAY</td>\n",
              "      <td>NaN</td>\n",
              "      <td>36</td>\n",
              "      <td>52.469943</td>\n",
              "      <td>-2.134401</td>\n",
              "      <td>DY5 3</td>\n",
              "      <td>310.743404</td>\n",
              "      <td>1576.0</td>\n",
              "      <td>845.0</td>\n",
              "      <td>745.0</td>\n",
              "      <td>101429204</td>\n",
              "      <td>5.659612</td>\n",
              "    </tr>\n",
              "    <tr>\n",
              "      <th>3</th>\n",
              "      <td>{5F54B81D-EAA3-2B45-E053-6B04A8C01FB0}</td>\n",
              "      <td>2017-10-27</td>\n",
              "      <td>L</td>\n",
              "      <td>220000</td>\n",
              "      <td>N</td>\n",
              "      <td>A</td>\n",
              "      <td>T</td>\n",
              "      <td>NaN</td>\n",
              "      <td>NaN</td>\n",
              "      <td>NaN</td>\n",
              "      <td>NaN</td>\n",
              "      <td>NaN</td>\n",
              "      <td>NaN</td>\n",
              "      <td>NaN</td>\n",
              "      <td>NaN</td>\n",
              "      <td>NaN</td>\n",
              "      <td>NaN</td>\n",
              "      <td>NaN</td>\n",
              "      <td>NaN</td>\n",
              "      <td>NaN</td>\n",
              "      <td>NaN</td>\n",
              "      <td>NaN</td>\n",
              "      <td>NaN</td>\n",
              "      <td>NaN</td>\n",
              "      <td>NaN</td>\n",
              "      <td>NaN</td>\n",
              "      <td>NaN</td>\n",
              "      <td>NaN</td>\n",
              "      <td>NaN</td>\n",
              "      <td>B93 8SP</td>\n",
              "      <td>SOLIHULL</td>\n",
              "      <td>KINGSLAND DRIVE</td>\n",
              "      <td>NaN</td>\n",
              "      <td>63</td>\n",
              "      <td>52.377534</td>\n",
              "      <td>-1.762286</td>\n",
              "      <td>B93 8</td>\n",
              "      <td>265.388640</td>\n",
              "      <td>184.0</td>\n",
              "      <td>817.0</td>\n",
              "      <td>686.0</td>\n",
              "      <td>100150188</td>\n",
              "      <td>4.190032</td>\n",
              "    </tr>\n",
              "    <tr>\n",
              "      <th>4</th>\n",
              "      <td>{5CF9903C-2479-7F13-E053-6C04A8C074B1}</td>\n",
              "      <td>2017-05-05</td>\n",
              "      <td>F</td>\n",
              "      <td>237000</td>\n",
              "      <td>N</td>\n",
              "      <td>A</td>\n",
              "      <td>D</td>\n",
              "      <td>NaN</td>\n",
              "      <td>NaN</td>\n",
              "      <td>NaN</td>\n",
              "      <td>105.00</td>\n",
              "      <td>B</td>\n",
              "      <td>A</td>\n",
              "      <td>House</td>\n",
              "      <td>Detached</td>\n",
              "      <td>95.0</td>\n",
              "      <td>67.0</td>\n",
              "      <td>320.0</td>\n",
              "      <td>87.0</td>\n",
              "      <td>NaN</td>\n",
              "      <td>NaN</td>\n",
              "      <td>NaN</td>\n",
              "      <td>High performance glazing</td>\n",
              "      <td>Very Good</td>\n",
              "      <td>Average thermal transmittance 0.24 W/m²K</td>\n",
              "      <td>Very Good</td>\n",
              "      <td>Average thermal transmittance 0.14 W/m²K</td>\n",
              "      <td>Very Good</td>\n",
              "      <td>NaN</td>\n",
              "      <td>LE10 2PG</td>\n",
              "      <td>BLABY</td>\n",
              "      <td>RUBY CLOSE</td>\n",
              "      <td>NaN</td>\n",
              "      <td>1</td>\n",
              "      <td>52.531956</td>\n",
              "      <td>-1.376669</td>\n",
              "      <td>LE10 2</td>\n",
              "      <td>236.354546</td>\n",
              "      <td>643.0</td>\n",
              "      <td>582.0</td>\n",
              "      <td>761.0</td>\n",
              "      <td>93361793</td>\n",
              "      <td>14.267637</td>\n",
              "    </tr>\n",
              "  </tbody>\n",
              "</table>\n",
              "</div>"
            ],
            "text/plain": [
              "                             transaction_id  ... distance_center\n",
              "0  {5CF9903C-EF46-7F13-E053-6C04A8C074B1}    ...        3.658300\n",
              "1  {5F54B81D-F9BF-2B45-E053-6B04A8C01FB0}    ...       27.205352\n",
              "2  {4C4EE000-1146-1854-E050-A8C063054F34}    ...        5.659612\n",
              "3  {5F54B81D-EAA3-2B45-E053-6B04A8C01FB0}    ...        4.190032\n",
              "4  {5CF9903C-2479-7F13-E053-6C04A8C074B1}    ...       14.267637\n",
              "\n",
              "[5 rows x 43 columns]"
            ]
          },
          "metadata": {
            "tags": []
          },
          "execution_count": 9
        }
      ]
    },
    {
      "cell_type": "code",
      "metadata": {
        "colab": {
          "base_uri": "https://localhost:8080/"
        },
        "id": "N7j1KN0x23fM",
        "outputId": "0e6a2192-012a-4215-d6ba-4cdcfa1c3c6f"
      },
      "source": [
        "print(\"Len train set: \",len(df_train))\n",
        "print(\"Shape of train set: \", df_train.shape)"
      ],
      "execution_count": 10,
      "outputs": [
        {
          "output_type": "stream",
          "text": [
            "Len train set:  1978777\n",
            "Shape of train set:  (1978777, 43)\n"
          ],
          "name": "stdout"
        }
      ]
    },
    {
      "cell_type": "code",
      "metadata": {
        "colab": {
          "base_uri": "https://localhost:8080/",
          "height": 0
        },
        "id": "VyfFS2BUdIi3",
        "outputId": "5b3ffc75-ea8d-4013-b4f0-c2091b67562c"
      },
      "source": [
        "df_train.describe()"
      ],
      "execution_count": 11,
      "outputs": [
        {
          "output_type": "execute_result",
          "data": {
            "text/html": [
              "<div>\n",
              "<style scoped>\n",
              "    .dataframe tbody tr th:only-of-type {\n",
              "        vertical-align: middle;\n",
              "    }\n",
              "\n",
              "    .dataframe tbody tr th {\n",
              "        vertical-align: top;\n",
              "    }\n",
              "\n",
              "    .dataframe thead th {\n",
              "        text-align: right;\n",
              "    }\n",
              "</style>\n",
              "<table border=\"1\" class=\"dataframe\">\n",
              "  <thead>\n",
              "    <tr style=\"text-align: right;\">\n",
              "      <th></th>\n",
              "      <th>price</th>\n",
              "      <th>number_of_rooms</th>\n",
              "      <th>total_floor_area</th>\n",
              "      <th>epc_energy_consumption_current</th>\n",
              "      <th>epc_lighting_cost_current</th>\n",
              "      <th>epc_heating_cost_current</th>\n",
              "      <th>epc_hot_water_cost_current</th>\n",
              "      <th>epc_flat_storey_count</th>\n",
              "      <th>epc_number_open_fireplaces</th>\n",
              "      <th>epc_floor_height</th>\n",
              "      <th>latitude</th>\n",
              "      <th>longitude</th>\n",
              "      <th>closeststop</th>\n",
              "      <th>crimesin3km_antisocial</th>\n",
              "      <th>closestschool</th>\n",
              "      <th>closestpark</th>\n",
              "      <th>address_id</th>\n",
              "      <th>distance_center</th>\n",
              "    </tr>\n",
              "  </thead>\n",
              "  <tbody>\n",
              "    <tr>\n",
              "      <th>count</th>\n",
              "      <td>1.978777e+06</td>\n",
              "      <td>850133.000000</td>\n",
              "      <td>960356.000000</td>\n",
              "      <td>960356.000000</td>\n",
              "      <td>960356.000000</td>\n",
              "      <td>960356.000000</td>\n",
              "      <td>960356.000000</td>\n",
              "      <td>85957.000000</td>\n",
              "      <td>853001.000000</td>\n",
              "      <td>525532.000000</td>\n",
              "      <td>1.888177e+06</td>\n",
              "      <td>1.888177e+06</td>\n",
              "      <td>1.866905e+06</td>\n",
              "      <td>1.887698e+06</td>\n",
              "      <td>1.787248e+06</td>\n",
              "      <td>1.746376e+06</td>\n",
              "      <td>1.978777e+06</td>\n",
              "      <td>1.888177e+06</td>\n",
              "    </tr>\n",
              "    <tr>\n",
              "      <th>mean</th>\n",
              "      <td>3.441981e+05</td>\n",
              "      <td>4.564547</td>\n",
              "      <td>90.015271</td>\n",
              "      <td>982.718065</td>\n",
              "      <td>78.930790</td>\n",
              "      <td>701.405613</td>\n",
              "      <td>140.895424</td>\n",
              "      <td>3.168922</td>\n",
              "      <td>0.200909</td>\n",
              "      <td>2.453044</td>\n",
              "      <td>5.235284e+01</td>\n",
              "      <td>-1.365917e+00</td>\n",
              "      <td>3.112370e+02</td>\n",
              "      <td>2.356189e+03</td>\n",
              "      <td>4.835813e+02</td>\n",
              "      <td>9.640953e+02</td>\n",
              "      <td>9.855989e+07</td>\n",
              "      <td>6.190759e+00</td>\n",
              "    </tr>\n",
              "    <tr>\n",
              "      <th>std</th>\n",
              "      <td>1.942431e+06</td>\n",
              "      <td>1.730543</td>\n",
              "      <td>52.947399</td>\n",
              "      <td>4775.125172</td>\n",
              "      <td>40.838095</td>\n",
              "      <td>540.060623</td>\n",
              "      <td>75.444502</td>\n",
              "      <td>2.482652</td>\n",
              "      <td>0.572482</td>\n",
              "      <td>0.605628</td>\n",
              "      <td>1.144130e+00</td>\n",
              "      <td>1.327566e+00</td>\n",
              "      <td>4.756355e+02</td>\n",
              "      <td>2.905756e+03</td>\n",
              "      <td>4.318005e+02</td>\n",
              "      <td>7.925460e+02</td>\n",
              "      <td>5.385521e+06</td>\n",
              "      <td>7.257374e+00</td>\n",
              "    </tr>\n",
              "    <tr>\n",
              "      <th>min</th>\n",
              "      <td>1.000000e+00</td>\n",
              "      <td>1.000000</td>\n",
              "      <td>0.000000</td>\n",
              "      <td>-1323.000000</td>\n",
              "      <td>-8.000000</td>\n",
              "      <td>-801.000000</td>\n",
              "      <td>-31.000000</td>\n",
              "      <td>0.000000</td>\n",
              "      <td>0.000000</td>\n",
              "      <td>0.000000</td>\n",
              "      <td>4.991321e+01</td>\n",
              "      <td>-6.352647e+00</td>\n",
              "      <td>5.321700e-01</td>\n",
              "      <td>0.000000e+00</td>\n",
              "      <td>0.000000e+00</td>\n",
              "      <td>3.000000e+00</td>\n",
              "      <td>8.857593e+07</td>\n",
              "      <td>3.301802e-03</td>\n",
              "    </tr>\n",
              "    <tr>\n",
              "      <th>25%</th>\n",
              "      <td>1.440000e+05</td>\n",
              "      <td>3.000000</td>\n",
              "      <td>64.000000</td>\n",
              "      <td>196.000000</td>\n",
              "      <td>54.000000</td>\n",
              "      <td>394.000000</td>\n",
              "      <td>95.000000</td>\n",
              "      <td>2.000000</td>\n",
              "      <td>0.000000</td>\n",
              "      <td>2.330000</td>\n",
              "      <td>5.145793e+01</td>\n",
              "      <td>-2.247356e+00</td>\n",
              "      <td>9.674732e+01</td>\n",
              "      <td>4.490000e+02</td>\n",
              "      <td>2.420000e+02</td>\n",
              "      <td>4.120000e+02</td>\n",
              "      <td>9.381703e+07</td>\n",
              "      <td>1.796913e+00</td>\n",
              "    </tr>\n",
              "    <tr>\n",
              "      <th>50%</th>\n",
              "      <td>2.265000e+05</td>\n",
              "      <td>4.000000</td>\n",
              "      <td>81.000000</td>\n",
              "      <td>262.000000</td>\n",
              "      <td>72.000000</td>\n",
              "      <td>594.000000</td>\n",
              "      <td>116.000000</td>\n",
              "      <td>3.000000</td>\n",
              "      <td>0.000000</td>\n",
              "      <td>2.400000</td>\n",
              "      <td>5.219065e+01</td>\n",
              "      <td>-1.402552e+00</td>\n",
              "      <td>1.605978e+02</td>\n",
              "      <td>1.433000e+03</td>\n",
              "      <td>3.820000e+02</td>\n",
              "      <td>7.120000e+02</td>\n",
              "      <td>9.918091e+07</td>\n",
              "      <td>3.754652e+00</td>\n",
              "    </tr>\n",
              "    <tr>\n",
              "      <th>75%</th>\n",
              "      <td>3.520000e+05</td>\n",
              "      <td>5.000000</td>\n",
              "      <td>104.000000</td>\n",
              "      <td>349.000000</td>\n",
              "      <td>95.000000</td>\n",
              "      <td>852.000000</td>\n",
              "      <td>161.000000</td>\n",
              "      <td>4.000000</td>\n",
              "      <td>0.000000</td>\n",
              "      <td>2.510000</td>\n",
              "      <td>5.337324e+01</td>\n",
              "      <td>-2.731810e-01</td>\n",
              "      <td>2.938576e+02</td>\n",
              "      <td>3.040000e+03</td>\n",
              "      <td>5.740000e+02</td>\n",
              "      <td>1.241000e+03</td>\n",
              "      <td>1.036150e+08</td>\n",
              "      <td>7.704068e+00</td>\n",
              "    </tr>\n",
              "    <tr>\n",
              "      <th>max</th>\n",
              "      <td>7.075042e+08</td>\n",
              "      <td>91.000000</td>\n",
              "      <td>5327.890000</td>\n",
              "      <td>416354.000000</td>\n",
              "      <td>6760.000000</td>\n",
              "      <td>62707.000000</td>\n",
              "      <td>1411.000000</td>\n",
              "      <td>63.000000</td>\n",
              "      <td>75.000000</td>\n",
              "      <td>230.000000</td>\n",
              "      <td>5.579742e+01</td>\n",
              "      <td>1.758397e+00</td>\n",
              "      <td>4.815169e+03</td>\n",
              "      <td>2.307400e+04</td>\n",
              "      <td>4.743000e+03</td>\n",
              "      <td>4.838000e+03</td>\n",
              "      <td>1.056136e+08</td>\n",
              "      <td>8.374496e+01</td>\n",
              "    </tr>\n",
              "  </tbody>\n",
              "</table>\n",
              "</div>"
            ],
            "text/plain": [
              "              price  number_of_rooms  ...    address_id  distance_center\n",
              "count  1.978777e+06    850133.000000  ...  1.978777e+06     1.888177e+06\n",
              "mean   3.441981e+05         4.564547  ...  9.855989e+07     6.190759e+00\n",
              "std    1.942431e+06         1.730543  ...  5.385521e+06     7.257374e+00\n",
              "min    1.000000e+00         1.000000  ...  8.857593e+07     3.301802e-03\n",
              "25%    1.440000e+05         3.000000  ...  9.381703e+07     1.796913e+00\n",
              "50%    2.265000e+05         4.000000  ...  9.918091e+07     3.754652e+00\n",
              "75%    3.520000e+05         5.000000  ...  1.036150e+08     7.704068e+00\n",
              "max    7.075042e+08        91.000000  ...  1.056136e+08     8.374496e+01\n",
              "\n",
              "[8 rows x 18 columns]"
            ]
          },
          "metadata": {
            "tags": []
          },
          "execution_count": 11
        }
      ]
    },
    {
      "cell_type": "markdown",
      "metadata": {
        "id": "P6WgCqlUvfrS"
      },
      "source": [
        "####Test Dataset"
      ]
    },
    {
      "cell_type": "code",
      "metadata": {
        "colab": {
          "base_uri": "https://localhost:8080/",
          "height": 0
        },
        "id": "XVTkKAbXKrnH",
        "outputId": "7a94962b-34ca-4d8a-92ce-04304eb9b3fe"
      },
      "source": [
        "df_test.describe()\n"
      ],
      "execution_count": 12,
      "outputs": [
        {
          "output_type": "execute_result",
          "data": {
            "text/html": [
              "<div>\n",
              "<style scoped>\n",
              "    .dataframe tbody tr th:only-of-type {\n",
              "        vertical-align: middle;\n",
              "    }\n",
              "\n",
              "    .dataframe tbody tr th {\n",
              "        vertical-align: top;\n",
              "    }\n",
              "\n",
              "    .dataframe thead th {\n",
              "        text-align: right;\n",
              "    }\n",
              "</style>\n",
              "<table border=\"1\" class=\"dataframe\">\n",
              "  <thead>\n",
              "    <tr style=\"text-align: right;\">\n",
              "      <th></th>\n",
              "      <th>number_of_rooms</th>\n",
              "      <th>total_floor_area</th>\n",
              "      <th>epc_energy_consumption_current</th>\n",
              "      <th>epc_lighting_cost_current</th>\n",
              "      <th>epc_heating_cost_current</th>\n",
              "      <th>epc_hot_water_cost_current</th>\n",
              "      <th>epc_flat_storey_count</th>\n",
              "      <th>epc_number_open_fireplaces</th>\n",
              "      <th>epc_floor_height</th>\n",
              "      <th>latitude</th>\n",
              "      <th>longitude</th>\n",
              "      <th>closeststop</th>\n",
              "      <th>crimesin3km_antisocial</th>\n",
              "      <th>closestschool</th>\n",
              "      <th>closestpark</th>\n",
              "      <th>address_id</th>\n",
              "      <th>distance_center</th>\n",
              "    </tr>\n",
              "  </thead>\n",
              "  <tbody>\n",
              "    <tr>\n",
              "      <th>count</th>\n",
              "      <td>25775.000000</td>\n",
              "      <td>28323.000000</td>\n",
              "      <td>28323.000000</td>\n",
              "      <td>28323.000000</td>\n",
              "      <td>28323.000000</td>\n",
              "      <td>28323.000000</td>\n",
              "      <td>2606.000000</td>\n",
              "      <td>25850.000000</td>\n",
              "      <td>15239.000000</td>\n",
              "      <td>28321.000000</td>\n",
              "      <td>28321.000000</td>\n",
              "      <td>28052.000000</td>\n",
              "      <td>28320.000000</td>\n",
              "      <td>26890.000000</td>\n",
              "      <td>26364.000000</td>\n",
              "      <td>2.832300e+04</td>\n",
              "      <td>28321.000000</td>\n",
              "    </tr>\n",
              "    <tr>\n",
              "      <th>mean</th>\n",
              "      <td>4.482211</td>\n",
              "      <td>89.842777</td>\n",
              "      <td>1059.175123</td>\n",
              "      <td>77.230160</td>\n",
              "      <td>672.075178</td>\n",
              "      <td>137.459270</td>\n",
              "      <td>2.988872</td>\n",
              "      <td>0.211141</td>\n",
              "      <td>2.450256</td>\n",
              "      <td>52.344054</td>\n",
              "      <td>-1.378285</td>\n",
              "      <td>297.752091</td>\n",
              "      <td>2250.969880</td>\n",
              "      <td>464.329900</td>\n",
              "      <td>948.511569</td>\n",
              "      <td>9.418641e+07</td>\n",
              "      <td>6.097563</td>\n",
              "    </tr>\n",
              "    <tr>\n",
              "      <th>std</th>\n",
              "      <td>1.580803</td>\n",
              "      <td>58.958723</td>\n",
              "      <td>4812.350197</td>\n",
              "      <td>59.975968</td>\n",
              "      <td>452.811068</td>\n",
              "      <td>71.059309</td>\n",
              "      <td>2.073938</td>\n",
              "      <td>0.557207</td>\n",
              "      <td>0.273533</td>\n",
              "      <td>1.145298</td>\n",
              "      <td>1.335869</td>\n",
              "      <td>454.904724</td>\n",
              "      <td>2665.934581</td>\n",
              "      <td>400.751073</td>\n",
              "      <td>773.612523</td>\n",
              "      <td>3.329168e+06</td>\n",
              "      <td>7.058303</td>\n",
              "    </tr>\n",
              "    <tr>\n",
              "      <th>min</th>\n",
              "      <td>1.000000</td>\n",
              "      <td>1.240000</td>\n",
              "      <td>-30.000000</td>\n",
              "      <td>-1.000000</td>\n",
              "      <td>-1.000000</td>\n",
              "      <td>-1.000000</td>\n",
              "      <td>0.000000</td>\n",
              "      <td>0.000000</td>\n",
              "      <td>0.000000</td>\n",
              "      <td>49.987482</td>\n",
              "      <td>-5.691800</td>\n",
              "      <td>2.286049</td>\n",
              "      <td>0.000000</td>\n",
              "      <td>0.000000</td>\n",
              "      <td>13.000000</td>\n",
              "      <td>8.857593e+07</td>\n",
              "      <td>0.028571</td>\n",
              "    </tr>\n",
              "    <tr>\n",
              "      <th>25%</th>\n",
              "      <td>3.000000</td>\n",
              "      <td>65.000000</td>\n",
              "      <td>197.000000</td>\n",
              "      <td>54.000000</td>\n",
              "      <td>395.000000</td>\n",
              "      <td>94.000000</td>\n",
              "      <td>2.000000</td>\n",
              "      <td>0.000000</td>\n",
              "      <td>2.330000</td>\n",
              "      <td>51.444818</td>\n",
              "      <td>-2.248804</td>\n",
              "      <td>97.357629</td>\n",
              "      <td>474.000000</td>\n",
              "      <td>240.000000</td>\n",
              "      <td>408.000000</td>\n",
              "      <td>9.122862e+07</td>\n",
              "      <td>1.777685</td>\n",
              "    </tr>\n",
              "    <tr>\n",
              "      <th>50%</th>\n",
              "      <td>4.000000</td>\n",
              "      <td>81.000000</td>\n",
              "      <td>262.000000</td>\n",
              "      <td>71.000000</td>\n",
              "      <td>583.000000</td>\n",
              "      <td>114.000000</td>\n",
              "      <td>3.000000</td>\n",
              "      <td>0.000000</td>\n",
              "      <td>2.400000</td>\n",
              "      <td>52.201565</td>\n",
              "      <td>-1.415831</td>\n",
              "      <td>157.941862</td>\n",
              "      <td>1428.000000</td>\n",
              "      <td>375.000000</td>\n",
              "      <td>706.000000</td>\n",
              "      <td>9.411824e+07</td>\n",
              "      <td>3.732491</td>\n",
              "    </tr>\n",
              "    <tr>\n",
              "      <th>75%</th>\n",
              "      <td>5.000000</td>\n",
              "      <td>102.000000</td>\n",
              "      <td>348.000000</td>\n",
              "      <td>92.000000</td>\n",
              "      <td>818.000000</td>\n",
              "      <td>156.000000</td>\n",
              "      <td>4.000000</td>\n",
              "      <td>0.000000</td>\n",
              "      <td>2.520000</td>\n",
              "      <td>53.372771</td>\n",
              "      <td>-0.295174</td>\n",
              "      <td>281.528629</td>\n",
              "      <td>2939.250000</td>\n",
              "      <td>558.000000</td>\n",
              "      <td>1217.000000</td>\n",
              "      <td>9.710424e+07</td>\n",
              "      <td>7.662969</td>\n",
              "    </tr>\n",
              "    <tr>\n",
              "      <th>max</th>\n",
              "      <td>40.000000</td>\n",
              "      <td>6886.100000</td>\n",
              "      <td>182162.000000</td>\n",
              "      <td>8253.000000</td>\n",
              "      <td>9140.000000</td>\n",
              "      <td>961.000000</td>\n",
              "      <td>28.000000</td>\n",
              "      <td>11.000000</td>\n",
              "      <td>20.000000</td>\n",
              "      <td>55.777929</td>\n",
              "      <td>1.754483</td>\n",
              "      <td>4757.317580</td>\n",
              "      <td>21896.000000</td>\n",
              "      <td>4593.000000</td>\n",
              "      <td>4798.000000</td>\n",
              "      <td>9.999101e+07</td>\n",
              "      <td>80.603386</td>\n",
              "    </tr>\n",
              "  </tbody>\n",
              "</table>\n",
              "</div>"
            ],
            "text/plain": [
              "       number_of_rooms  total_floor_area  ...    address_id  distance_center\n",
              "count     25775.000000      28323.000000  ...  2.832300e+04     28321.000000\n",
              "mean          4.482211         89.842777  ...  9.418641e+07         6.097563\n",
              "std           1.580803         58.958723  ...  3.329168e+06         7.058303\n",
              "min           1.000000          1.240000  ...  8.857593e+07         0.028571\n",
              "25%           3.000000         65.000000  ...  9.122862e+07         1.777685\n",
              "50%           4.000000         81.000000  ...  9.411824e+07         3.732491\n",
              "75%           5.000000        102.000000  ...  9.710424e+07         7.662969\n",
              "max          40.000000       6886.100000  ...  9.999101e+07        80.603386\n",
              "\n",
              "[8 rows x 17 columns]"
            ]
          },
          "metadata": {
            "tags": []
          },
          "execution_count": 12
        }
      ]
    },
    {
      "cell_type": "markdown",
      "metadata": {
        "id": "1rPhPEbYttFA"
      },
      "source": [
        "#Correlation of features with target variable."
      ]
    },
    {
      "cell_type": "code",
      "metadata": {
        "colab": {
          "base_uri": "https://localhost:8080/"
        },
        "id": "HzzEaqjq4acG",
        "outputId": "f3986b36-bb98-4455-fe1a-88a5dd8bb790"
      },
      "source": [
        "df_train.columns.sort_values()"
      ],
      "execution_count": 13,
      "outputs": [
        {
          "output_type": "execute_result",
          "data": {
            "text/plain": [
              "Index(['address_id', 'building_name', 'building_number', 'city', 'closestpark',\n",
              "       'closestschool', 'closeststop', 'created', 'crimesin3km_antisocial',\n",
              "       'distance_center', 'duration', 'epc_built_form',\n",
              "       'epc_current_energy_rating', 'epc_energy_consumption_current',\n",
              "       'epc_flat_storey_count', 'epc_floor_height', 'epc_glazed_area',\n",
              "       'epc_heating_cost_current', 'epc_hot_water_cost_current',\n",
              "       'epc_lighting_cost_current', 'epc_number_open_fireplaces',\n",
              "       'epc_potential_energy_rating', 'epc_property_type',\n",
              "       'epc_roof_description', 'epc_roof_energy_eff', 'epc_walls_description',\n",
              "       'epc_walls_energy_eff', 'epc_windows_description',\n",
              "       'epc_windows_energy_eff', 'flat', 'floor_level', 'latitude',\n",
              "       'longitude', 'number_of_rooms', 'old_new', 'postcode',\n",
              "       'postcode_sector', 'ppd_category', 'price', 'property_type', 'street',\n",
              "       'total_floor_area', 'transaction_id'],\n",
              "      dtype='object')"
            ]
          },
          "metadata": {
            "tags": []
          },
          "execution_count": 13
        }
      ]
    },
    {
      "cell_type": "code",
      "metadata": {
        "colab": {
          "base_uri": "https://localhost:8080/"
        },
        "id": "14eImyCmpEUW",
        "outputId": "c61862fc-772c-4e55-a422-c9d41f1c8adb"
      },
      "source": [
        "# df_train.corr()\n",
        "co = pd.DataFrame((df_train.corr())['price'].sort_values(ascending=False))\n",
        "print(co)\n"
      ],
      "execution_count": 14,
      "outputs": [
        {
          "output_type": "stream",
          "text": [
            "                                   price\n",
            "price                           1.000000\n",
            "total_floor_area                0.118270\n",
            "epc_lighting_cost_current       0.093115\n",
            "number_of_rooms                 0.085685\n",
            "epc_heating_cost_current        0.077295\n",
            "crimesin3km_antisocial          0.075663\n",
            "epc_flat_storey_count           0.065098\n",
            "epc_number_open_fireplaces      0.046245\n",
            "longitude                       0.042186\n",
            "address_id                      0.026956\n",
            "epc_floor_height                0.021534\n",
            "epc_hot_water_cost_current      0.019407\n",
            "closestschool                   0.013722\n",
            "epc_energy_consumption_current  0.009113\n",
            "closeststop                    -0.001349\n",
            "closestpark                    -0.007773\n",
            "distance_center                -0.016440\n",
            "latitude                       -0.049843\n"
          ],
          "name": "stdout"
        }
      ]
    },
    {
      "cell_type": "markdown",
      "metadata": {
        "id": "ltczq3YUAG4I"
      },
      "source": [
        "Result shows that the total_floor_area, epc ratings, and as expected the rooms have strong relation with price. \n",
        "Negative values shows the inverse realtion with price. (Property which are near to city center are tends to be more expensive. "
      ]
    },
    {
      "cell_type": "code",
      "metadata": {
        "colab": {
          "base_uri": "https://localhost:8080/"
        },
        "id": "tuFdaZ72-Ke7",
        "outputId": "553dcf96-ccee-41a4-fac1-d8c15f32f770"
      },
      "source": [
        "# df_train.corr()\n",
        "cor = (df_train.corr()**2)['price'].sort_values(ascending=False)\n",
        "print(cor)"
      ],
      "execution_count": 15,
      "outputs": [
        {
          "output_type": "stream",
          "text": [
            "price                             1.000000\n",
            "total_floor_area                  0.013988\n",
            "epc_lighting_cost_current         0.008670\n",
            "number_of_rooms                   0.007342\n",
            "epc_heating_cost_current          0.005975\n",
            "crimesin3km_antisocial            0.005725\n",
            "epc_flat_storey_count             0.004238\n",
            "latitude                          0.002484\n",
            "epc_number_open_fireplaces        0.002139\n",
            "longitude                         0.001780\n",
            "address_id                        0.000727\n",
            "epc_floor_height                  0.000464\n",
            "epc_hot_water_cost_current        0.000377\n",
            "distance_center                   0.000270\n",
            "closestschool                     0.000188\n",
            "epc_energy_consumption_current    0.000083\n",
            "closestpark                       0.000060\n",
            "closeststop                       0.000002\n",
            "Name: price, dtype: float64\n"
          ],
          "name": "stdout"
        }
      ]
    },
    {
      "cell_type": "code",
      "metadata": {
        "colab": {
          "base_uri": "https://localhost:8080/",
          "height": 223
        },
        "id": "CmUmjgbZGnwQ",
        "outputId": "6b64cc97-616e-4287-c84c-394b807c7d04"
      },
      "source": [
        "cities = pd.DataFrame(df_train['city'].value_counts())\n",
        "print(len(cities))\n",
        "cities.head(5)"
      ],
      "execution_count": 16,
      "outputs": [
        {
          "output_type": "stream",
          "text": [
            "350\n"
          ],
          "name": "stdout"
        },
        {
          "output_type": "execute_result",
          "data": {
            "text/html": [
              "<div>\n",
              "<style scoped>\n",
              "    .dataframe tbody tr th:only-of-type {\n",
              "        vertical-align: middle;\n",
              "    }\n",
              "\n",
              "    .dataframe tbody tr th {\n",
              "        vertical-align: top;\n",
              "    }\n",
              "\n",
              "    .dataframe thead th {\n",
              "        text-align: right;\n",
              "    }\n",
              "</style>\n",
              "<table border=\"1\" class=\"dataframe\">\n",
              "  <thead>\n",
              "    <tr style=\"text-align: right;\">\n",
              "      <th></th>\n",
              "      <th>city</th>\n",
              "    </tr>\n",
              "  </thead>\n",
              "  <tbody>\n",
              "    <tr>\n",
              "      <th>BIRMINGHAM</th>\n",
              "      <td>29598</td>\n",
              "    </tr>\n",
              "    <tr>\n",
              "      <th>LEEDS</th>\n",
              "      <td>27379</td>\n",
              "    </tr>\n",
              "    <tr>\n",
              "      <th>CORNWALL</th>\n",
              "      <td>23777</td>\n",
              "    </tr>\n",
              "    <tr>\n",
              "      <th>COUNTY-DURHAM</th>\n",
              "      <td>19268</td>\n",
              "    </tr>\n",
              "    <tr>\n",
              "      <th>CHESHIRE-EAST</th>\n",
              "      <td>17943</td>\n",
              "    </tr>\n",
              "  </tbody>\n",
              "</table>\n",
              "</div>"
            ],
            "text/plain": [
              "                city\n",
              "BIRMINGHAM     29598\n",
              "LEEDS          27379\n",
              "CORNWALL       23777\n",
              "COUNTY-DURHAM  19268\n",
              "CHESHIRE-EAST  17943"
            ]
          },
          "metadata": {
            "tags": []
          },
          "execution_count": 16
        }
      ]
    },
    {
      "cell_type": "code",
      "metadata": {
        "colab": {
          "base_uri": "https://localhost:8080/"
        },
        "id": "xHiqawjDLa-o",
        "outputId": "933f5f58-f2bf-43e2-f707-0a53faf2b5b2"
      },
      "source": [
        "df_train.total_floor_area.value_counts()"
      ],
      "execution_count": 17,
      "outputs": [
        {
          "output_type": "execute_result",
          "data": {
            "text/plain": [
              "0.0000      24354\n",
              "84.0000      9362\n",
              "80.0000      9160\n",
              "78.0000      9067\n",
              "70.0000      8947\n",
              "            ...  \n",
              "79.3150         1\n",
              "123.3091        1\n",
              "76.7870         1\n",
              "43.2920         1\n",
              "178.0400        1\n",
              "Name: total_floor_area, Length: 33855, dtype: int64"
            ]
          },
          "metadata": {
            "tags": []
          },
          "execution_count": 17
        }
      ]
    },
    {
      "cell_type": "markdown",
      "metadata": {
        "id": "u0hY_ha9IUT_"
      },
      "source": [
        "Latitude and Longitude are the loc of property."
      ]
    },
    {
      "cell_type": "markdown",
      "metadata": {
        "id": "6sUet__S88rW"
      },
      "source": [
        "#Missing Values \n"
      ]
    },
    {
      "cell_type": "code",
      "metadata": {
        "colab": {
          "base_uri": "https://localhost:8080/",
          "height": 1000
        },
        "id": "lCprKRf8wLFJ",
        "outputId": "c6c2c991-02d1-4df3-a2fa-d733575e34b9"
      },
      "source": [
        "plt.figure(figsize=(20,15))\n",
        "sns.heatmap(df_train.isna(),yticklabels=False,cbar=False)\n"
      ],
      "execution_count": 18,
      "outputs": [
        {
          "output_type": "execute_result",
          "data": {
            "text/plain": [
              "<matplotlib.axes._subplots.AxesSubplot at 0x7f0c2933ce90>"
            ]
          },
          "metadata": {
            "tags": []
          },
          "execution_count": 18
        },
        {
          "output_type": "display_data",
          "data": {
            "image/png": "[encoded data removed]",
            "text/plain": [
              "<Figure size 1440x1080 with 1 Axes>"
            ]
          },
          "metadata": {
            "tags": [],
            "needs_background": "light"
          }
        }
      ]
    },
    {
      "cell_type": "markdown",
      "metadata": {
        "id": "kTJbzZJjqmS4"
      },
      "source": [
        "A very informative plot, here we can see which columns/features have null/nan values in training dataset. \n",
        "\n",
        "**White strips shows the presence of null/nan values.**\n"
      ]
    },
    {
      "cell_type": "code",
      "metadata": {
        "id": "GpdHfZUpYS7W"
      },
      "source": [
        "# df_train['epc_energy_consumption_current'].isna().sum()\n",
        "#Filtering out the features which have nan values\n",
        "\n",
        "# df_train_missing_data = pd.DataFrame(df_train.isna().sum().sort_values(ascending=False), columns=['#Missing_Values'])\n",
        "# df_train_missing_data = df_train_missing_data[df_train_missing_data['#Missing_Values'] > 0]\n",
        "# df_train_missing_data"
      ],
      "execution_count": 19,
      "outputs": []
    },
    {
      "cell_type": "code",
      "metadata": {
        "id": "wfphW4AU7aEV"
      },
      "source": [
        "# energy_fea=['epc_built_form',\n",
        "#        'epc_current_energy_rating', 'epc_energy_consumption_current',\n",
        "#        'epc_flat_storey_count', 'epc_floor_height', 'epc_glazed_area',\n",
        "#        'epc_heating_cost_current', 'epc_hot_water_cost_current',\n",
        "#        'epc_lighting_cost_current', 'epc_number_open_fireplaces',\n",
        "#        'epc_potential_energy_rating', 'epc_property_type',\n",
        "#        'epc_roof_description', 'epc_roof_energy_eff', 'epc_walls_description',\n",
        "#        'epc_walls_energy_eff', 'epc_windows_description',\n",
        "#        'epc_windows_energy_eff']"
      ],
      "execution_count": 20,
      "outputs": []
    },
    {
      "cell_type": "markdown",
      "metadata": {
        "id": "gJruXXeQ9hMF"
      },
      "source": [
        "##Splitting Categorical and Numerical Features"
      ]
    },
    {
      "cell_type": "code",
      "metadata": {
        "id": "dO6eQNv0rzU2",
        "colab": {
          "base_uri": "https://localhost:8080/"
        },
        "outputId": "b289dd3a-caaf-40b4-c745-b77fae3ae00f"
      },
      "source": [
        "continuous = []\n",
        "categorical = []\n",
        "\n",
        "for i in df_train.columns:\n",
        "    if df_train[i].dtype == \"object\":\n",
        "        categorical.append(i)\n",
        "    else: continuous.append(i)\n",
        "\n",
        "print(\"Continuous:\", continuous)\n",
        "print(\"-\")\n",
        "print(\"Categorical:\", categorical)"
      ],
      "execution_count": 21,
      "outputs": [
        {
          "output_type": "stream",
          "text": [
            "Continuous: ['price', 'number_of_rooms', 'total_floor_area', 'epc_energy_consumption_current', 'epc_lighting_cost_current', 'epc_heating_cost_current', 'epc_hot_water_cost_current', 'epc_flat_storey_count', 'epc_number_open_fireplaces', 'epc_floor_height', 'latitude', 'longitude', 'closeststop', 'crimesin3km_antisocial', 'closestschool', 'closestpark', 'address_id', 'distance_center']\n",
            "-\n",
            "Categorical: ['transaction_id', 'created', 'duration', 'old_new', 'ppd_category', 'property_type', 'flat', 'floor_level', 'epc_current_energy_rating', 'epc_potential_energy_rating', 'epc_property_type', 'epc_built_form', 'epc_glazed_area', 'epc_windows_description', 'epc_windows_energy_eff', 'epc_walls_description', 'epc_walls_energy_eff', 'epc_roof_description', 'epc_roof_energy_eff', 'postcode', 'city', 'street', 'building_name', 'building_number', 'postcode_sector']\n"
          ],
          "name": "stdout"
        }
      ]
    },
    {
      "cell_type": "markdown",
      "metadata": {
        "id": "jqopS1YJJ2YK"
      },
      "source": [
        "####Categorical"
      ]
    },
    {
      "cell_type": "code",
      "metadata": {
        "colab": {
          "base_uri": "https://localhost:8080/",
          "height": 576
        },
        "id": "qr5zJS0UJhBU",
        "outputId": "e5fbcf7e-399e-48f2-c878-4436b5a8aa76"
      },
      "source": [
        "isna_sum = df_train[categorical].isna().sum()\n",
        "NaN_columns = [i for i in isna_sum.index if df_train[i].isna().sum() !=0]\n",
        "df_NaN_values = df_train[NaN_columns]\n",
        "missing_categorical = pd.DataFrame(df_NaN_values.isna().sum(), columns = [\"Missing values\"])\n",
        "missing_categorical.sort_values([\"Missing values\"], axis = 0, ascending = False)"
      ],
      "execution_count": 22,
      "outputs": [
        {
          "output_type": "execute_result",
          "data": {
            "text/html": [
              "<div>\n",
              "<style scoped>\n",
              "    .dataframe tbody tr th:only-of-type {\n",
              "        vertical-align: middle;\n",
              "    }\n",
              "\n",
              "    .dataframe tbody tr th {\n",
              "        vertical-align: top;\n",
              "    }\n",
              "\n",
              "    .dataframe thead th {\n",
              "        text-align: right;\n",
              "    }\n",
              "</style>\n",
              "<table border=\"1\" class=\"dataframe\">\n",
              "  <thead>\n",
              "    <tr style=\"text-align: right;\">\n",
              "      <th></th>\n",
              "      <th>Missing values</th>\n",
              "    </tr>\n",
              "  </thead>\n",
              "  <tbody>\n",
              "    <tr>\n",
              "      <th>flat</th>\n",
              "      <td>1789035</td>\n",
              "    </tr>\n",
              "    <tr>\n",
              "      <th>floor_level</th>\n",
              "      <td>1781232</td>\n",
              "    </tr>\n",
              "    <tr>\n",
              "      <th>building_name</th>\n",
              "      <td>1682501</td>\n",
              "    </tr>\n",
              "    <tr>\n",
              "      <th>epc_roof_energy_eff</th>\n",
              "      <td>1141996</td>\n",
              "    </tr>\n",
              "    <tr>\n",
              "      <th>epc_glazed_area</th>\n",
              "      <td>1128643</td>\n",
              "    </tr>\n",
              "    <tr>\n",
              "      <th>epc_built_form</th>\n",
              "      <td>1065392</td>\n",
              "    </tr>\n",
              "    <tr>\n",
              "      <th>epc_walls_energy_eff</th>\n",
              "      <td>1031382</td>\n",
              "    </tr>\n",
              "    <tr>\n",
              "      <th>epc_windows_energy_eff</th>\n",
              "      <td>1026231</td>\n",
              "    </tr>\n",
              "    <tr>\n",
              "      <th>epc_roof_description</th>\n",
              "      <td>1018815</td>\n",
              "    </tr>\n",
              "    <tr>\n",
              "      <th>epc_walls_description</th>\n",
              "      <td>1018476</td>\n",
              "    </tr>\n",
              "    <tr>\n",
              "      <th>epc_windows_description</th>\n",
              "      <td>1018429</td>\n",
              "    </tr>\n",
              "    <tr>\n",
              "      <th>epc_property_type</th>\n",
              "      <td>1018421</td>\n",
              "    </tr>\n",
              "    <tr>\n",
              "      <th>epc_potential_energy_rating</th>\n",
              "      <td>1018421</td>\n",
              "    </tr>\n",
              "    <tr>\n",
              "      <th>epc_current_energy_rating</th>\n",
              "      <td>1018421</td>\n",
              "    </tr>\n",
              "    <tr>\n",
              "      <th>building_number</th>\n",
              "      <td>185866</td>\n",
              "    </tr>\n",
              "    <tr>\n",
              "      <th>city</th>\n",
              "      <td>34</td>\n",
              "    </tr>\n",
              "    <tr>\n",
              "      <th>street</th>\n",
              "      <td>1</td>\n",
              "    </tr>\n",
              "  </tbody>\n",
              "</table>\n",
              "</div>"
            ],
            "text/plain": [
              "                             Missing values\n",
              "flat                                1789035\n",
              "floor_level                         1781232\n",
              "building_name                       1682501\n",
              "epc_roof_energy_eff                 1141996\n",
              "epc_glazed_area                     1128643\n",
              "epc_built_form                      1065392\n",
              "epc_walls_energy_eff                1031382\n",
              "epc_windows_energy_eff              1026231\n",
              "epc_roof_description                1018815\n",
              "epc_walls_description               1018476\n",
              "epc_windows_description             1018429\n",
              "epc_property_type                   1018421\n",
              "epc_potential_energy_rating         1018421\n",
              "epc_current_energy_rating           1018421\n",
              "building_number                      185866\n",
              "city                                     34\n",
              "street                                    1"
            ]
          },
          "metadata": {
            "tags": []
          },
          "execution_count": 22
        }
      ]
    },
    {
      "cell_type": "code",
      "metadata": {
        "colab": {
          "base_uri": "https://localhost:8080/"
        },
        "id": "9ypdxl7NJxYh",
        "outputId": "8809e043-a7c2-4f42-b6c5-8f84e23a38d7"
      },
      "source": [
        "print(df_train.street.mode()[0])\n",
        "print(df_train.city.mode()[0])\n"
      ],
      "execution_count": 23,
      "outputs": [
        {
          "output_type": "stream",
          "text": [
            "HIGH STREET\n",
            "BIRMINGHAM\n"
          ],
          "name": "stdout"
        }
      ]
    },
    {
      "cell_type": "code",
      "metadata": {
        "id": "lrE9O5PWQxBQ"
      },
      "source": [
        "df_m1_train = df_train.copy()"
      ],
      "execution_count": 24,
      "outputs": []
    },
    {
      "cell_type": "code",
      "metadata": {
        "id": "9kfiZzpEQEzp"
      },
      "source": [
        "# p'flat',\n",
        "# 'floor_level',\n",
        "# 'building_name',\n",
        "# 'epc_roof_energy_eff',\n",
        "# 'epc_glazed_area',\n",
        "# 'epc_built_form',\n",
        "# 'epc_walls_energy_eff',\n",
        "# 'epc_windows_energy_eff',\n",
        "# 'epc_roof_description',\n",
        "# 'epc_walls_description',\n",
        "# 'epc_windows_description',\n",
        "# 'epc_property_type',\n",
        "# 'epc_potential_energy_rating',\n",
        "# 'epc_current_energy_rating',\n",
        "# 'building_number','city','street']"
      ],
      "execution_count": 25,
      "outputs": []
    },
    {
      "cell_type": "code",
      "metadata": {
        "id": "OrbNlpIWNoiZ"
      },
      "source": [
        "for i in ['flat','floor_level','building_name','epc_roof_energy_eff',\n",
        "          'epc_glazed_area','epc_built_form','epc_walls_energy_eff',\n",
        "          'epc_windows_energy_eff','epc_roof_description',\n",
        "          'epc_walls_description','epc_windows_description','epc_property_type',\n",
        "          'epc_potential_energy_rating','epc_current_energy_rating',\n",
        "          'building_number',]:\n",
        "          df_m1_train[i].fillna(\"NA\", inplace = True)"
      ],
      "execution_count": 26,
      "outputs": []
    },
    {
      "cell_type": "code",
      "metadata": {
        "id": "rh10pWmeRF07"
      },
      "source": [
        "for i in ['city','street']:\n",
        "  df_m1_train[i].fillna(df_m1_train[i].mode()[0], inplace = True)"
      ],
      "execution_count": 27,
      "outputs": []
    },
    {
      "cell_type": "code",
      "metadata": {
        "colab": {
          "base_uri": "https://localhost:8080/"
        },
        "id": "a-pt_MTNRWv2",
        "outputId": "832e5240-c4e6-412b-882c-7d9e6448dfe3"
      },
      "source": [
        "df_m1_train[categorical].isna().sum()"
      ],
      "execution_count": 28,
      "outputs": [
        {
          "output_type": "execute_result",
          "data": {
            "text/plain": [
              "transaction_id                 0\n",
              "created                        0\n",
              "duration                       0\n",
              "old_new                        0\n",
              "ppd_category                   0\n",
              "property_type                  0\n",
              "flat                           0\n",
              "floor_level                    0\n",
              "epc_current_energy_rating      0\n",
              "epc_potential_energy_rating    0\n",
              "epc_property_type              0\n",
              "epc_built_form                 0\n",
              "epc_glazed_area                0\n",
              "epc_windows_description        0\n",
              "epc_windows_energy_eff         0\n",
              "epc_walls_description          0\n",
              "epc_walls_energy_eff           0\n",
              "epc_roof_description           0\n",
              "epc_roof_energy_eff            0\n",
              "postcode                       0\n",
              "city                           0\n",
              "street                         0\n",
              "building_name                  0\n",
              "building_number                0\n",
              "postcode_sector                0\n",
              "dtype: int64"
            ]
          },
          "metadata": {
            "tags": []
          },
          "execution_count": 28
        }
      ]
    },
    {
      "cell_type": "markdown",
      "metadata": {
        "id": "ImKBNkGrR4wy"
      },
      "source": [
        "####Numerical"
      ]
    },
    {
      "cell_type": "code",
      "metadata": {
        "colab": {
          "base_uri": "https://localhost:8080/",
          "height": 545
        },
        "id": "gxDPDCiYRkIi",
        "outputId": "acc4d800-6486-4c33-fc3e-8a94493c258c"
      },
      "source": [
        "isna_sum = df_train[continuous].isna().sum()\n",
        "NaN_columns = [i for i in isna_sum.index if df_train[i].isna().sum() !=0]\n",
        "df_NaN_values = df_train[NaN_columns]\n",
        "missing_continuous = pd.DataFrame(df_NaN_values.isna().sum(), columns = [\"Missing values\"])\n",
        "missing_continuous.sort_values([\"Missing values\"], axis = 0, ascending = False)\n",
        "\n"
      ],
      "execution_count": 29,
      "outputs": [
        {
          "output_type": "execute_result",
          "data": {
            "text/html": [
              "<div>\n",
              "<style scoped>\n",
              "    .dataframe tbody tr th:only-of-type {\n",
              "        vertical-align: middle;\n",
              "    }\n",
              "\n",
              "    .dataframe tbody tr th {\n",
              "        vertical-align: top;\n",
              "    }\n",
              "\n",
              "    .dataframe thead th {\n",
              "        text-align: right;\n",
              "    }\n",
              "</style>\n",
              "<table border=\"1\" class=\"dataframe\">\n",
              "  <thead>\n",
              "    <tr style=\"text-align: right;\">\n",
              "      <th></th>\n",
              "      <th>Missing values</th>\n",
              "    </tr>\n",
              "  </thead>\n",
              "  <tbody>\n",
              "    <tr>\n",
              "      <th>epc_flat_storey_count</th>\n",
              "      <td>1892820</td>\n",
              "    </tr>\n",
              "    <tr>\n",
              "      <th>epc_floor_height</th>\n",
              "      <td>1453245</td>\n",
              "    </tr>\n",
              "    <tr>\n",
              "      <th>number_of_rooms</th>\n",
              "      <td>1128644</td>\n",
              "    </tr>\n",
              "    <tr>\n",
              "      <th>epc_number_open_fireplaces</th>\n",
              "      <td>1125776</td>\n",
              "    </tr>\n",
              "    <tr>\n",
              "      <th>total_floor_area</th>\n",
              "      <td>1018421</td>\n",
              "    </tr>\n",
              "    <tr>\n",
              "      <th>epc_energy_consumption_current</th>\n",
              "      <td>1018421</td>\n",
              "    </tr>\n",
              "    <tr>\n",
              "      <th>epc_lighting_cost_current</th>\n",
              "      <td>1018421</td>\n",
              "    </tr>\n",
              "    <tr>\n",
              "      <th>epc_heating_cost_current</th>\n",
              "      <td>1018421</td>\n",
              "    </tr>\n",
              "    <tr>\n",
              "      <th>epc_hot_water_cost_current</th>\n",
              "      <td>1018421</td>\n",
              "    </tr>\n",
              "    <tr>\n",
              "      <th>closestpark</th>\n",
              "      <td>232401</td>\n",
              "    </tr>\n",
              "    <tr>\n",
              "      <th>closestschool</th>\n",
              "      <td>191529</td>\n",
              "    </tr>\n",
              "    <tr>\n",
              "      <th>closeststop</th>\n",
              "      <td>111872</td>\n",
              "    </tr>\n",
              "    <tr>\n",
              "      <th>crimesin3km_antisocial</th>\n",
              "      <td>91079</td>\n",
              "    </tr>\n",
              "    <tr>\n",
              "      <th>latitude</th>\n",
              "      <td>90600</td>\n",
              "    </tr>\n",
              "    <tr>\n",
              "      <th>longitude</th>\n",
              "      <td>90600</td>\n",
              "    </tr>\n",
              "    <tr>\n",
              "      <th>distance_center</th>\n",
              "      <td>90600</td>\n",
              "    </tr>\n",
              "  </tbody>\n",
              "</table>\n",
              "</div>"
            ],
            "text/plain": [
              "                                Missing values\n",
              "epc_flat_storey_count                  1892820\n",
              "epc_floor_height                       1453245\n",
              "number_of_rooms                        1128644\n",
              "epc_number_open_fireplaces             1125776\n",
              "total_floor_area                       1018421\n",
              "epc_energy_consumption_current         1018421\n",
              "epc_lighting_cost_current              1018421\n",
              "epc_heating_cost_current               1018421\n",
              "epc_hot_water_cost_current             1018421\n",
              "closestpark                             232401\n",
              "closestschool                           191529\n",
              "closeststop                             111872\n",
              "crimesin3km_antisocial                   91079\n",
              "latitude                                 90600\n",
              "longitude                                90600\n",
              "distance_center                          90600"
            ]
          },
          "metadata": {
            "tags": []
          },
          "execution_count": 29
        }
      ]
    },
    {
      "cell_type": "code",
      "metadata": {
        "id": "CLgJ53bvSJD4"
      },
      "source": [
        "for i in ( ['epc_flat_storey_count', \n",
        "          'epc_number_open_fireplaces', 'epc_floor_height', \n",
        "          'latitude', 'longitude']):\n",
        "  df_m1_train[i].fillna(0, inplace = True)\n",
        "\n",
        "\n",
        "for j in  (['epc_energy_consumption_current', 'epc_lighting_cost_current',\n",
        "  'epc_heating_cost_current','epc_hot_water_cost_current']):\n",
        "  df_m1_train[j].fillna(-1, inplace = True)"
      ],
      "execution_count": 30,
      "outputs": []
    },
    {
      "cell_type": "code",
      "metadata": {
        "id": "Re4N5pOMSmKY"
      },
      "source": [
        "for i in (['number_of_rooms', 'total_floor_area','closeststop', 'crimesin3km_antisocial', \n",
        "          'closestschool', 'closestpark', 'distance_center']):\n",
        "          df_m1_train[i].fillna(df_m1_train[i].median(),inplace = True)"
      ],
      "execution_count": 31,
      "outputs": []
    },
    {
      "cell_type": "code",
      "metadata": {
        "colab": {
          "base_uri": "https://localhost:8080/"
        },
        "id": "rqQn_xf0Vm-_",
        "outputId": "7f12b723-67f0-4b03-adfa-b729e2eee3c5"
      },
      "source": [
        "df_m1_train[continuous].isna().sum()"
      ],
      "execution_count": 32,
      "outputs": [
        {
          "output_type": "execute_result",
          "data": {
            "text/plain": [
              "price                             0\n",
              "number_of_rooms                   0\n",
              "total_floor_area                  0\n",
              "epc_energy_consumption_current    0\n",
              "epc_lighting_cost_current         0\n",
              "epc_heating_cost_current          0\n",
              "epc_hot_water_cost_current        0\n",
              "epc_flat_storey_count             0\n",
              "epc_number_open_fireplaces        0\n",
              "epc_floor_height                  0\n",
              "latitude                          0\n",
              "longitude                         0\n",
              "closeststop                       0\n",
              "crimesin3km_antisocial            0\n",
              "closestschool                     0\n",
              "closestpark                       0\n",
              "address_id                        0\n",
              "distance_center                   0\n",
              "dtype: int64"
            ]
          },
          "metadata": {
            "tags": []
          },
          "execution_count": 32
        }
      ]
    },
    {
      "cell_type": "code",
      "metadata": {
        "id": "d9YaozasWxBo"
      },
      "source": [
        ""
      ],
      "execution_count": 32,
      "outputs": []
    },
    {
      "cell_type": "markdown",
      "metadata": {
        "id": "TzFCGoWVW4Dp"
      },
      "source": [
        "###Analysis"
      ]
    },
    {
      "cell_type": "code",
      "metadata": {
        "colab": {
          "base_uri": "https://localhost:8080/"
        },
        "id": "pmPRMO_SW0qg",
        "outputId": "781007b4-849f-4cc0-a9d1-5f07eb30510f"
      },
      "source": [
        "df_m1_train.shape"
      ],
      "execution_count": 33,
      "outputs": [
        {
          "output_type": "execute_result",
          "data": {
            "text/plain": [
              "(1978777, 43)"
            ]
          },
          "metadata": {
            "tags": []
          },
          "execution_count": 33
        }
      ]
    },
    {
      "cell_type": "code",
      "metadata": {
        "id": "aLOkU8SoW9Cp"
      },
      "source": [
        "\n",
        "big_skew = [feature for feature in continuous if abs(df_m1_train[feature].skew()) > 0.75]"
      ],
      "execution_count": 34,
      "outputs": []
    },
    {
      "cell_type": "code",
      "metadata": {
        "colab": {
          "base_uri": "https://localhost:8080/"
        },
        "id": "3nPycr0jXJ75",
        "outputId": "64a8712a-0c11-4c43-bdcf-29fae5d3e314"
      },
      "source": [
        "big_skew"
      ],
      "execution_count": 35,
      "outputs": [
        {
          "output_type": "execute_result",
          "data": {
            "text/plain": [
              "['price',\n",
              " 'number_of_rooms',\n",
              " 'total_floor_area',\n",
              " 'epc_energy_consumption_current',\n",
              " 'epc_lighting_cost_current',\n",
              " 'epc_heating_cost_current',\n",
              " 'epc_hot_water_cost_current',\n",
              " 'epc_flat_storey_count',\n",
              " 'epc_number_open_fireplaces',\n",
              " 'epc_floor_height',\n",
              " 'latitude',\n",
              " 'closeststop',\n",
              " 'crimesin3km_antisocial',\n",
              " 'closestschool',\n",
              " 'closestpark',\n",
              " 'distance_center']"
            ]
          },
          "metadata": {
            "tags": []
          },
          "execution_count": 35
        }
      ]
    },
    {
      "cell_type": "code",
      "metadata": {
        "id": "PBtIRM71XLTR"
      },
      "source": [
        "for feature in big_skew:\n",
        "    df_m1_train[feature] = boxcox1p(df_m1_train[feature], 0.15)\n"
      ],
      "execution_count": 36,
      "outputs": []
    },
    {
      "cell_type": "code",
      "metadata": {
        "colab": {
          "base_uri": "https://localhost:8080/"
        },
        "id": "nWST60jQXXNd",
        "outputId": "d00ab944-04d6-4037-fbec-6328fbc43339"
      },
      "source": [
        "print(\"Skew:\", round(df_m1_train['price'].skew(),2))"
      ],
      "execution_count": 37,
      "outputs": [
        {
          "output_type": "stream",
          "text": [
            "Skew: 1.16\n"
          ],
          "name": "stdout"
        }
      ]
    },
    {
      "cell_type": "code",
      "metadata": {
        "colab": {
          "base_uri": "https://localhost:8080/"
        },
        "id": "bdvqtxq3YQct",
        "outputId": "b89bcdb7-adeb-4ceb-a014-e59641df38ba"
      },
      "source": [
        "df_m1_train.columns"
      ],
      "execution_count": 38,
      "outputs": [
        {
          "output_type": "execute_result",
          "data": {
            "text/plain": [
              "Index(['transaction_id', 'created', 'duration', 'price', 'old_new',\n",
              "       'ppd_category', 'property_type', 'flat', 'floor_level',\n",
              "       'number_of_rooms', 'total_floor_area', 'epc_current_energy_rating',\n",
              "       'epc_potential_energy_rating', 'epc_property_type', 'epc_built_form',\n",
              "       'epc_energy_consumption_current', 'epc_lighting_cost_current',\n",
              "       'epc_heating_cost_current', 'epc_hot_water_cost_current',\n",
              "       'epc_flat_storey_count', 'epc_glazed_area',\n",
              "       'epc_number_open_fireplaces', 'epc_windows_description',\n",
              "       'epc_windows_energy_eff', 'epc_walls_description',\n",
              "       'epc_walls_energy_eff', 'epc_roof_description', 'epc_roof_energy_eff',\n",
              "       'epc_floor_height', 'postcode', 'city', 'street', 'building_name',\n",
              "       'building_number', 'latitude', 'longitude', 'postcode_sector',\n",
              "       'closeststop', 'crimesin3km_antisocial', 'closestschool', 'closestpark',\n",
              "       'address_id', 'distance_center'],\n",
              "      dtype='object')"
            ]
          },
          "metadata": {
            "tags": []
          },
          "execution_count": 38
        }
      ]
    },
    {
      "cell_type": "code",
      "metadata": {
        "colab": {
          "base_uri": "https://localhost:8080/"
        },
        "id": "C2HtjeGcYx9v",
        "outputId": "84b2c946-6492-4c3b-a8b3-9ad7c80043ca"
      },
      "source": [
        "len(df_m1_train.created.unique())"
      ],
      "execution_count": 39,
      "outputs": [
        {
          "output_type": "execute_result",
          "data": {
            "text/plain": [
              "728"
            ]
          },
          "metadata": {
            "tags": []
          },
          "execution_count": 39
        }
      ]
    }
  ]
}