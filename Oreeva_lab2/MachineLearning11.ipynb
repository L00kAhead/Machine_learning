{
  "nbformat": 4,
  "nbformat_minor": 0,
  "metadata": {
    "kernelspec": {
      "display_name": "Python 3",
      "language": "python",
      "name": "python3"
    },
    "language_info": {
      "codemirror_mode": {
        "name": "ipython",
        "version": 3
      },
      "file_extension": ".py",
      "mimetype": "text/x-python",
      "name": "python",
      "nbconvert_exporter": "python",
      "pygments_lexer": "ipython3",
      "version": "3.8.5"
    },
    "colab": {
      "name": "MachineLearning11.ipynb",
      "provenance": []
    }
  },
  "cells": [
    {
      "cell_type": "code",
      "metadata": {
        "id": "zCJfNAqf5pVR"
      },
      "source": [
        "import numpy as np\n",
        "import pandas as pd\n",
        "import matplotlib.pyplot as plt\n",
        "import seaborn as sns\n",
        "import mpl_toolkits\n",
        "%matplotlib inline\n",
        "\n"
      ],
      "execution_count": null,
      "outputs": []
    },
    {
      "cell_type": "code",
      "metadata": {
        "id": "-D6s7kS_5pVT"
      },
      "source": [
        "data17 = pd.read_csv(\"2017.csv\")"
      ],
      "execution_count": null,
      "outputs": []
    },
    {
      "cell_type": "code",
      "metadata": {
        "id": "cPrSQ41b5pVU"
      },
      "source": [
        "data18 = pd.read_csv(\"2018.csv\")"
      ],
      "execution_count": null,
      "outputs": []
    },
    {
      "cell_type": "code",
      "metadata": {
        "id": "y9QqmuqZ5pVU"
      },
      "source": [
        "combine_data = pd.concat([data17, data18])"
      ],
      "execution_count": null,
      "outputs": []
    },
    {
      "cell_type": "code",
      "metadata": {
        "id": "Lm11TkgD5pVU",
        "outputId": "15b3cf45-6aaa-4c5f-9b8d-3649a891ddf2"
      },
      "source": [
        "combine_data['flat'].describe()"
      ],
      "execution_count": null,
      "outputs": [
        {
          "output_type": "execute_result",
          "data": {
            "text/plain": [
              "count     189742\n",
              "unique      3379\n",
              "top            1\n",
              "freq       13630\n",
              "Name: flat, dtype: object"
            ]
          },
          "metadata": {
            "tags": []
          },
          "execution_count": 5
        }
      ]
    },
    {
      "cell_type": "code",
      "metadata": {
        "id": "tvOhrSZl5pVV",
        "outputId": "58237b93-03c9-4aaf-8231-cf248bca1e4c"
      },
      "source": [
        "combine_data['floor_level'].describe()"
      ],
      "execution_count": null,
      "outputs": [
        {
          "output_type": "execute_result",
          "data": {
            "text/plain": [
              "count     197545\n",
              "unique        26\n",
              "top          1st\n",
              "freq       63262\n",
              "Name: floor_level, dtype: object"
            ]
          },
          "metadata": {
            "tags": []
          },
          "execution_count": 6
        }
      ]
    },
    {
      "cell_type": "code",
      "metadata": {
        "id": "tkX59kzw5pVV",
        "outputId": "dac8ec49-1749-4120-cd81-f7da5993caed"
      },
      "source": [
        "combine_data['latitude'].describe()"
      ],
      "execution_count": null,
      "outputs": [
        {
          "output_type": "execute_result",
          "data": {
            "text/plain": [
              "count    1.888177e+06\n",
              "mean     5.235284e+01\n",
              "std      1.144130e+00\n",
              "min      4.991321e+01\n",
              "25%      5.145793e+01\n",
              "50%      5.219065e+01\n",
              "75%      5.337324e+01\n",
              "max      5.579742e+01\n",
              "Name: latitude, dtype: float64"
            ]
          },
          "metadata": {
            "tags": []
          },
          "execution_count": 7
        }
      ]
    },
    {
      "cell_type": "code",
      "metadata": {
        "id": "gAf2bvCR5pVW",
        "outputId": "676f6256-5bef-492c-b75c-03af59436409"
      },
      "source": [
        "combine_data['longitude'].describe()"
      ],
      "execution_count": null,
      "outputs": [
        {
          "output_type": "execute_result",
          "data": {
            "text/plain": [
              "count    1.888177e+06\n",
              "mean    -1.365917e+00\n",
              "std      1.327566e+00\n",
              "min     -6.352647e+00\n",
              "25%     -2.247356e+00\n",
              "50%     -1.402552e+00\n",
              "75%     -2.731810e-01\n",
              "max      1.758397e+00\n",
              "Name: longitude, dtype: float64"
            ]
          },
          "metadata": {
            "tags": []
          },
          "execution_count": 8
        }
      ]
    },
    {
      "cell_type": "code",
      "metadata": {
        "id": "XO0_mjk75pVW",
        "outputId": "8aea5b11-dc98-464c-ceb2-b038e38e913c"
      },
      "source": [
        "combine_data['number_of_rooms'].describe()"
      ],
      "execution_count": null,
      "outputs": [
        {
          "output_type": "execute_result",
          "data": {
            "text/plain": [
              "count    850133.000000\n",
              "mean          4.564547\n",
              "std           1.730543\n",
              "min           1.000000\n",
              "25%           3.000000\n",
              "50%           4.000000\n",
              "75%           5.000000\n",
              "max          91.000000\n",
              "Name: number_of_rooms, dtype: float64"
            ]
          },
          "metadata": {
            "tags": []
          },
          "execution_count": 9
        }
      ]
    },
    {
      "cell_type": "code",
      "metadata": {
        "id": "jrQynjix5pVX",
        "outputId": "d3a6fd61-219b-489c-d2b2-ca174495455e"
      },
      "source": [
        "combine_data['old_new'].describe()"
      ],
      "execution_count": null,
      "outputs": [
        {
          "output_type": "execute_result",
          "data": {
            "text/plain": [
              "count     1978777\n",
              "unique          2\n",
              "top             N\n",
              "freq      1768260\n",
              "Name: old_new, dtype: object"
            ]
          },
          "metadata": {
            "tags": []
          },
          "execution_count": 10
        }
      ]
    },
    {
      "cell_type": "code",
      "metadata": {
        "id": "S7x1Aj6-5pVX",
        "outputId": "f05591f7-6272-41d0-f07b-0072c1336527"
      },
      "source": [
        "combine_data['postcode'].describe()"
      ],
      "execution_count": null,
      "outputs": [
        {
          "output_type": "execute_result",
          "data": {
            "text/plain": [
              "count      1978777\n",
              "unique      767762\n",
              "top       YO10 3FT\n",
              "freq           493\n",
              "Name: postcode, dtype: object"
            ]
          },
          "metadata": {
            "tags": []
          },
          "execution_count": 11
        }
      ]
    },
    {
      "cell_type": "code",
      "metadata": {
        "id": "iqIsNBHG5pVY",
        "outputId": "dba23365-04b1-4def-ca6e-4f8613e2332a"
      },
      "source": [
        "combine_data['postcode_sector'].describe()"
      ],
      "execution_count": null,
      "outputs": [
        {
          "output_type": "execute_result",
          "data": {
            "text/plain": [
              "count     1978777\n",
              "unique       8340\n",
              "top         E16 2\n",
              "freq         1659\n",
              "Name: postcode_sector, dtype: object"
            ]
          },
          "metadata": {
            "tags": []
          },
          "execution_count": 12
        }
      ]
    },
    {
      "cell_type": "code",
      "metadata": {
        "id": "30DK-cHZ5pVY",
        "outputId": "05d6b77f-6466-40ea-dda4-735a41999f04"
      },
      "source": [
        "combine_data['ppd_category'].describe()"
      ],
      "execution_count": null,
      "outputs": [
        {
          "output_type": "execute_result",
          "data": {
            "text/plain": [
              "count     1978777\n",
              "unique          2\n",
              "top             A\n",
              "freq      1701330\n",
              "Name: ppd_category, dtype: object"
            ]
          },
          "metadata": {
            "tags": []
          },
          "execution_count": 13
        }
      ]
    },
    {
      "cell_type": "code",
      "metadata": {
        "id": "iDJ27_5s5pVY",
        "outputId": "3da1811b-58f1-4f04-f5b0-cb5aea60bcc9"
      },
      "source": [
        "combine_data['property_type'].describe()"
      ],
      "execution_count": null,
      "outputs": [
        {
          "output_type": "execute_result",
          "data": {
            "text/plain": [
              "count     1978777\n",
              "unique          5\n",
              "top             T\n",
              "freq       541990\n",
              "Name: property_type, dtype: object"
            ]
          },
          "metadata": {
            "tags": []
          },
          "execution_count": 14
        }
      ]
    },
    {
      "cell_type": "code",
      "metadata": {
        "id": "m1szfHb75pVZ",
        "outputId": "6c00bbb9-b134-4bcc-a862-5205170b8cdc"
      },
      "source": [
        "combine_data['street'].describe()"
      ],
      "execution_count": null,
      "outputs": [
        {
          "output_type": "execute_result",
          "data": {
            "text/plain": [
              "count         1978776\n",
              "unique         232912\n",
              "top       HIGH STREET\n",
              "freq            15531\n",
              "Name: street, dtype: object"
            ]
          },
          "metadata": {
            "tags": []
          },
          "execution_count": 15
        }
      ]
    },
    {
      "cell_type": "code",
      "metadata": {
        "id": "iFCqaf_q5pVZ",
        "outputId": "9d9943ec-8fe3-400c-94c9-d94464f8e9c4"
      },
      "source": [
        "combine_data['total_floor_area'].describe()"
      ],
      "execution_count": null,
      "outputs": [
        {
          "output_type": "execute_result",
          "data": {
            "text/plain": [
              "count    960356.000000\n",
              "mean         90.015271\n",
              "std          52.947399\n",
              "min           0.000000\n",
              "25%          64.000000\n",
              "50%          81.000000\n",
              "75%         104.000000\n",
              "max        5327.890000\n",
              "Name: total_floor_area, dtype: float64"
            ]
          },
          "metadata": {
            "tags": []
          },
          "execution_count": 16
        }
      ]
    },
    {
      "cell_type": "code",
      "metadata": {
        "id": "taRe6Ohb5pVZ",
        "outputId": "6326bb7c-22d7-4fcb-bdb6-4efbbbd97360"
      },
      "source": [
        "print(combine_data.info())"
      ],
      "execution_count": null,
      "outputs": [
        {
          "output_type": "stream",
          "text": [
            "<class 'pandas.core.frame.DataFrame'>\n",
            "Int64Index: 1978777 entries, 0 to 986564\n",
            "Data columns (total 43 columns):\n",
            " #   Column                          Dtype  \n",
            "---  ------                          -----  \n",
            " 0   transaction_id                  object \n",
            " 1   created                         object \n",
            " 2   duration                        object \n",
            " 3   price                           int64  \n",
            " 4   old_new                         object \n",
            " 5   ppd_category                    object \n",
            " 6   property_type                   object \n",
            " 7   flat                            object \n",
            " 8   floor_level                     object \n",
            " 9   number_of_rooms                 float64\n",
            " 10  total_floor_area                float64\n",
            " 11  epc_current_energy_rating       object \n",
            " 12  epc_potential_energy_rating     object \n",
            " 13  epc_property_type               object \n",
            " 14  epc_built_form                  object \n",
            " 15  epc_energy_consumption_current  float64\n",
            " 16  epc_lighting_cost_current       float64\n",
            " 17  epc_heating_cost_current        float64\n",
            " 18  epc_hot_water_cost_current      float64\n",
            " 19  epc_flat_storey_count           float64\n",
            " 20  epc_glazed_area                 object \n",
            " 21  epc_number_open_fireplaces      float64\n",
            " 22  epc_windows_description         object \n",
            " 23  epc_windows_energy_eff          object \n",
            " 24  epc_walls_description           object \n",
            " 25  epc_walls_energy_eff            object \n",
            " 26  epc_roof_description            object \n",
            " 27  epc_roof_energy_eff             object \n",
            " 28  epc_floor_height                float64\n",
            " 29  postcode                        object \n",
            " 30  city                            object \n",
            " 31  street                          object \n",
            " 32  building_name                   object \n",
            " 33  building_number                 object \n",
            " 34  latitude                        float64\n",
            " 35  longitude                       float64\n",
            " 36  postcode_sector                 object \n",
            " 37  closeststop                     float64\n",
            " 38  crimesin3km_antisocial          float64\n",
            " 39  closestschool                   float64\n",
            " 40  closestpark                     float64\n",
            " 41  address_id                      int64  \n",
            " 42  distance_center                 float64\n",
            "dtypes: float64(16), int64(2), object(25)\n",
            "memory usage: 664.3+ MB\n",
            "None\n"
          ],
          "name": "stdout"
        }
      ]
    },
    {
      "cell_type": "code",
      "metadata": {
        "id": "jiutsvo75pVa",
        "outputId": "5bcc1d0d-fb95-4c0f-839d-fc5951b35253"
      },
      "source": [
        "print(combine_data['flat'].isnull().sum())"
      ],
      "execution_count": null,
      "outputs": [
        {
          "output_type": "stream",
          "text": [
            "1789035\n"
          ],
          "name": "stdout"
        }
      ]
    },
    {
      "cell_type": "code",
      "metadata": {
        "id": "Wa5G_Z6g5pVa",
        "outputId": "38458bf2-d7a8-4463-9a31-54e14e093d77"
      },
      "source": [
        "print(combine_data['floor_level'].isnull().sum())"
      ],
      "execution_count": null,
      "outputs": [
        {
          "output_type": "stream",
          "text": [
            "1781232\n"
          ],
          "name": "stdout"
        }
      ]
    },
    {
      "cell_type": "code",
      "metadata": {
        "id": "hDKKeYrV5pVa",
        "outputId": "7754f808-e9e3-4092-e279-5b9f059b9a6b"
      },
      "source": [
        "print(combine_data['latitude'].isnull().sum())"
      ],
      "execution_count": null,
      "outputs": [
        {
          "output_type": "stream",
          "text": [
            "90600\n"
          ],
          "name": "stdout"
        }
      ]
    },
    {
      "cell_type": "code",
      "metadata": {
        "id": "bni87f_U5pVa",
        "outputId": "1b73a4bb-d078-43db-d49a-6b62ed687550"
      },
      "source": [
        "print(combine_data['longitude'].isnull().sum())"
      ],
      "execution_count": null,
      "outputs": [
        {
          "output_type": "stream",
          "text": [
            "90600\n"
          ],
          "name": "stdout"
        }
      ]
    },
    {
      "cell_type": "code",
      "metadata": {
        "id": "mnsYPEQt5pVb",
        "outputId": "6f5c071b-66d0-475a-f851-81187ad439d1"
      },
      "source": [
        "print(combine_data['number_of_rooms'].isnull().sum())"
      ],
      "execution_count": null,
      "outputs": [
        {
          "output_type": "stream",
          "text": [
            "1128644\n"
          ],
          "name": "stdout"
        }
      ]
    },
    {
      "cell_type": "code",
      "metadata": {
        "id": "id7VBaGf5pVb",
        "outputId": "7b79d238-0bc9-4808-93cb-30917e0cb233"
      },
      "source": [
        "print(combine_data['old_new'].isnull().sum())"
      ],
      "execution_count": null,
      "outputs": [
        {
          "output_type": "stream",
          "text": [
            "0\n"
          ],
          "name": "stdout"
        }
      ]
    },
    {
      "cell_type": "code",
      "metadata": {
        "id": "ktL2OCc95pVb",
        "outputId": "fc9e6ead-f291-4335-ba8c-40ed243c040e"
      },
      "source": [
        "print(combine_data['postcode'].isnull().sum())"
      ],
      "execution_count": null,
      "outputs": [
        {
          "output_type": "stream",
          "text": [
            "0\n"
          ],
          "name": "stdout"
        }
      ]
    },
    {
      "cell_type": "code",
      "metadata": {
        "id": "QXUaRcbd5pVb",
        "outputId": "7e143651-f8c2-4231-8d38-a20df9496841"
      },
      "source": [
        "print(combine_data['postcode_sector'].isnull().sum())"
      ],
      "execution_count": null,
      "outputs": [
        {
          "output_type": "stream",
          "text": [
            "0\n"
          ],
          "name": "stdout"
        }
      ]
    },
    {
      "cell_type": "code",
      "metadata": {
        "id": "Zx5ouYDu5pVc",
        "outputId": "015b05d7-8959-4608-aedf-be84516722a9"
      },
      "source": [
        "print(combine_data['ppd_category'].isnull().sum())"
      ],
      "execution_count": null,
      "outputs": [
        {
          "output_type": "stream",
          "text": [
            "0\n"
          ],
          "name": "stdout"
        }
      ]
    },
    {
      "cell_type": "code",
      "metadata": {
        "id": "4mLCsQJo5pVc",
        "outputId": "2c8f1aa7-96c0-42c6-8fbe-5051aae0297d"
      },
      "source": [
        "print(combine_data['property_type'].isnull().sum())"
      ],
      "execution_count": null,
      "outputs": [
        {
          "output_type": "stream",
          "text": [
            "0\n"
          ],
          "name": "stdout"
        }
      ]
    },
    {
      "cell_type": "code",
      "metadata": {
        "id": "JNUFks925pVc",
        "outputId": "e08c7647-3997-4d30-c950-8bfabcaacdc8"
      },
      "source": [
        "print(combine_data['street'].isnull().sum())"
      ],
      "execution_count": null,
      "outputs": [
        {
          "output_type": "stream",
          "text": [
            "1\n"
          ],
          "name": "stdout"
        }
      ]
    },
    {
      "cell_type": "code",
      "metadata": {
        "id": "CI8Z7ELW5pVc",
        "outputId": "1468b9b9-7f14-404b-8cec-25998e75e066"
      },
      "source": [
        "print(combine_data['total_floor_area'].isnull().sum())"
      ],
      "execution_count": null,
      "outputs": [
        {
          "output_type": "stream",
          "text": [
            "1018421\n"
          ],
          "name": "stdout"
        }
      ]
    },
    {
      "cell_type": "code",
      "metadata": {
        "id": "G5rV8ByB5pVd",
        "outputId": "a6e76e3b-a27d-4f52-d6fd-b89ebcbce885"
      },
      "source": [
        "df.flat.unique()"
      ],
      "execution_count": null,
      "outputs": [
        {
          "output_type": "error",
          "ename": "NameError",
          "evalue": "name 'df' is not defined",
          "traceback": [
            "\u001b[1;31m---------------------------------------------------------------------------\u001b[0m",
            "\u001b[1;31mNameError\u001b[0m                                 Traceback (most recent call last)",
            "\u001b[1;32m<ipython-input-30-f72b249bf5ad>\u001b[0m in \u001b[0;36m<module>\u001b[1;34m\u001b[0m\n\u001b[1;32m----> 1\u001b[1;33m \u001b[0mdf\u001b[0m\u001b[1;33m.\u001b[0m\u001b[0mflat\u001b[0m\u001b[1;33m.\u001b[0m\u001b[0munique\u001b[0m\u001b[1;33m(\u001b[0m\u001b[1;33m)\u001b[0m\u001b[1;33m\u001b[0m\u001b[1;33m\u001b[0m\u001b[0m\n\u001b[0m",
            "\u001b[1;31mNameError\u001b[0m: name 'df' is not defined"
          ]
        }
      ]
    },
    {
      "cell_type": "code",
      "metadata": {
        "id": "sBL2YYNe5pVd",
        "outputId": "ccfe9071-a78c-48f8-c16a-0db6708d28ce"
      },
      "source": [
        "combine_data.flat.unique()"
      ],
      "execution_count": null,
      "outputs": [
        {
          "output_type": "execute_result",
          "data": {
            "text/plain": [
              "array([nan, 'P M 509', 'P M 109', ..., 'COTTAGE 3', '4400', '64A'],\n",
              "      dtype=object)"
            ]
          },
          "metadata": {
            "tags": []
          },
          "execution_count": 31
        }
      ]
    },
    {
      "cell_type": "code",
      "metadata": {
        "id": "lMQZsaPA5pVd",
        "outputId": "baea0dca-dfb2-4b80-e832-1f601b31f358"
      },
      "source": [
        "combine_data.floor_level.unique()"
      ],
      "execution_count": null,
      "outputs": [
        {
          "output_type": "execute_result",
          "data": {
            "text/plain": [
              "array([nan, '1st', 'ground floor', '3rd', 'Ground', '5th', '2nd',\n",
              "       'mid floor', 'top floor', '6th', '4th', 'Basement', '20th', '10th',\n",
              "       '7th', '15th', '8th', '9th', '12th', '11th', '17th', '14th',\n",
              "       '13th', '18th', '16th', '21st or above', '19th'], dtype=object)"
            ]
          },
          "metadata": {
            "tags": []
          },
          "execution_count": 32
        }
      ]
    },
    {
      "cell_type": "code",
      "metadata": {
        "id": "7Ztfqr-35pVd",
        "outputId": "b67e269a-0298-42b1-94c0-88b737ea0b74"
      },
      "source": [
        "combine_data.latitude.unique()"
      ],
      "execution_count": null,
      "outputs": [
        {
          "output_type": "execute_result",
          "data": {
            "text/plain": [
              "array([53.177751, 51.380891, 52.469943, ..., 51.791576, 50.664687,\n",
              "       51.315924])"
            ]
          },
          "metadata": {
            "tags": []
          },
          "execution_count": 33
        }
      ]
    },
    {
      "cell_type": "code",
      "metadata": {
        "id": "2H4zsb2-5pVe",
        "outputId": "25e99498-3f00-48ec-c5c3-4ed78b0786ce"
      },
      "source": [
        "combine_data.longitude.unique()"
      ],
      "execution_count": null,
      "outputs": [
        {
          "output_type": "execute_result",
          "data": {
            "text/plain": [
              "array([-1.191828, -1.605473, -2.134401, ..., -0.278515, -1.271613,\n",
              "       -0.279389])"
            ]
          },
          "metadata": {
            "tags": []
          },
          "execution_count": 34
        }
      ]
    },
    {
      "cell_type": "code",
      "metadata": {
        "id": "kFcNSY3W5pVe",
        "outputId": "27667f4c-ab22-4070-9790-393e6b0fd933"
      },
      "source": [
        "combine_data.number_of_rooms.unique()"
      ],
      "execution_count": null,
      "outputs": [
        {
          "output_type": "execute_result",
          "data": {
            "text/plain": [
              "array([nan,  9.,  6.,  5.,  4.,  3.,  7., 10.,  2.,  8., 11.,  1., 22.,\n",
              "       13., 12., 14., 15., 18., 20., 25., 54., 17., 83., 45., 23., 16.,\n",
              "       55., 19., 71., 48., 26., 40., 32., 41., 50., 21., 77., 34., 78.,\n",
              "       33., 51., 28., 39., 30., 35., 82., 42., 85., 90., 60., 27., 57.,\n",
              "       44., 80., 43., 59., 66., 91., 37., 86., 29., 47., 79., 88., 24.,\n",
              "       75.])"
            ]
          },
          "metadata": {
            "tags": []
          },
          "execution_count": 35
        }
      ]
    },
    {
      "cell_type": "code",
      "metadata": {
        "id": "SPZE3s_55pVe",
        "outputId": "613e5f73-0b7b-479d-cf17-ccbf44932e97"
      },
      "source": [
        "combine_data.old_new.unique()"
      ],
      "execution_count": null,
      "outputs": [
        {
          "output_type": "execute_result",
          "data": {
            "text/plain": [
              "array(['Y', 'N'], dtype=object)"
            ]
          },
          "metadata": {
            "tags": []
          },
          "execution_count": 36
        }
      ]
    },
    {
      "cell_type": "code",
      "metadata": {
        "id": "BB3ZIGyL5pVe",
        "outputId": "15e32f2f-d5f4-4b41-8a36-0ba112930817"
      },
      "source": [
        "combine_data.postcode.unique()"
      ],
      "execution_count": null,
      "outputs": [
        {
          "output_type": "execute_result",
          "data": {
            "text/plain": [
              "array(['NG19 8RX', 'SN8 3LP', 'DY5 3XJ', ..., 'AL4 9BQ', 'PO30 3BP',\n",
              "       'KT18 7EH'], dtype=object)"
            ]
          },
          "metadata": {
            "tags": []
          },
          "execution_count": 37
        }
      ]
    },
    {
      "cell_type": "code",
      "metadata": {
        "id": "UT-X9b8t5pVf",
        "outputId": "24233877-84d1-4e98-8128-8c673b857a91"
      },
      "source": [
        "combine_data.postcode_sector.unique()"
      ],
      "execution_count": null,
      "outputs": [
        {
          "output_type": "execute_result",
          "data": {
            "text/plain": [
              "array(['NG19 8', 'SN8 3', 'DY5 3', ..., 'SO57 7', 'CB2 6', 'EC2R 8'],\n",
              "      dtype=object)"
            ]
          },
          "metadata": {
            "tags": []
          },
          "execution_count": 38
        }
      ]
    },
    {
      "cell_type": "code",
      "metadata": {
        "id": "SexlKOCr5pVf",
        "outputId": "d71aa84c-738d-44f2-f028-9a9e8a1ae919"
      },
      "source": [
        "combine_data.ppd_category.unique()"
      ],
      "execution_count": null,
      "outputs": [
        {
          "output_type": "execute_result",
          "data": {
            "text/plain": [
              "array(['B', 'A'], dtype=object)"
            ]
          },
          "metadata": {
            "tags": []
          },
          "execution_count": 39
        }
      ]
    },
    {
      "cell_type": "code",
      "metadata": {
        "id": "xUn0YGxH5pVf",
        "outputId": "f5957a47-6109-456a-f2a1-734309426cea"
      },
      "source": [
        "combine_data.property_type.unique()"
      ],
      "execution_count": null,
      "outputs": [
        {
          "output_type": "execute_result",
          "data": {
            "text/plain": [
              "array(['T', 'D', 'S', 'F', 'O'], dtype=object)"
            ]
          },
          "metadata": {
            "tags": []
          },
          "execution_count": 40
        }
      ]
    },
    {
      "cell_type": "code",
      "metadata": {
        "id": "-Z8JJrmP5pVf",
        "outputId": "d0844e9e-421d-41c3-bf37-34d8b6985af9"
      },
      "source": [
        "combine_data.street.unique()"
      ],
      "execution_count": null,
      "outputs": [
        {
          "output_type": "execute_result",
          "data": {
            "text/plain": [
              "array(['PICCADILLY CLOSE', 'FOREST HILL', 'PATTERDALE WAY', ...,\n",
              "       'STANES ROAD', 'TOWER HILL LANE', 'BIRCHMORE LANE'], dtype=object)"
            ]
          },
          "metadata": {
            "tags": []
          },
          "execution_count": 41
        }
      ]
    },
    {
      "cell_type": "code",
      "metadata": {
        "id": "i2Nyn7zY5pVg",
        "outputId": "3ffc1c68-ce5f-4247-b84d-e2e86d7780af"
      },
      "source": [
        "combine_data.total_floor_area.unique()"
      ],
      "execution_count": null,
      "outputs": [
        {
          "output_type": "execute_result",
          "data": {
            "text/plain": [
              "array([    nan, 173.04 , 105.   , ..., 309.25 , 113.622,  54.296])"
            ]
          },
          "metadata": {
            "tags": []
          },
          "execution_count": 42
        }
      ]
    },
    {
      "cell_type": "code",
      "metadata": {
        "id": "rsprPuWb5pVg",
        "outputId": "8ca16b96-1439-4a84-ed78-c7f073611738"
      },
      "source": [
        "combine_data['address_id'].describe()"
      ],
      "execution_count": null,
      "outputs": [
        {
          "output_type": "execute_result",
          "data": {
            "text/plain": [
              "count    1.978777e+06\n",
              "mean     9.855989e+07\n",
              "std      5.385521e+06\n",
              "min      8.857593e+07\n",
              "25%      9.381703e+07\n",
              "50%      9.918091e+07\n",
              "75%      1.036150e+08\n",
              "max      1.056136e+08\n",
              "Name: address_id, dtype: float64"
            ]
          },
          "metadata": {
            "tags": []
          },
          "execution_count": 7
        }
      ]
    },
    {
      "cell_type": "code",
      "metadata": {
        "id": "iOtfG8Jy5pVg",
        "outputId": "3a6c2f67-45c8-4aef-b333-4c119e453240"
      },
      "source": [
        "print(combine_data['address_id'].isnull().sum())"
      ],
      "execution_count": null,
      "outputs": [
        {
          "output_type": "stream",
          "text": [
            "0\n"
          ],
          "name": "stdout"
        }
      ]
    },
    {
      "cell_type": "code",
      "metadata": {
        "id": "ChZaN_DO5pVg",
        "outputId": "651ae16f-92bc-4901-acf6-596e4309f123"
      },
      "source": [
        "combine_data.address_id.unique()"
      ],
      "execution_count": null,
      "outputs": [
        {
          "output_type": "execute_result",
          "data": {
            "text/plain": [
              "array([102877980,  97804281, 101429204, ...,  91529444,  98714471,\n",
              "       101977493], dtype=int64)"
            ]
          },
          "metadata": {
            "tags": []
          },
          "execution_count": 9
        }
      ]
    },
    {
      "cell_type": "code",
      "metadata": {
        "id": "rwKQBRxc5pVh",
        "outputId": "d5430472-6aa5-40a2-f077-97f0a750ee37"
      },
      "source": [
        "combine_data['building_name'].describe()"
      ],
      "execution_count": null,
      "outputs": [
        {
          "output_type": "execute_result",
          "data": {
            "text/plain": [
              "count     296276\n",
              "unique     91522\n",
              "top         UNIT\n",
              "freq        4568\n",
              "Name: building_name, dtype: object"
            ]
          },
          "metadata": {
            "tags": []
          },
          "execution_count": 10
        }
      ]
    },
    {
      "cell_type": "code",
      "metadata": {
        "id": "BBibaUTc5pVh",
        "outputId": "4646b73e-2c5d-4e8a-8d09-8fba91032968"
      },
      "source": [
        "print(combine_data['building_name'].isnull().sum())"
      ],
      "execution_count": null,
      "outputs": [
        {
          "output_type": "stream",
          "text": [
            "1682501\n"
          ],
          "name": "stdout"
        }
      ]
    },
    {
      "cell_type": "code",
      "metadata": {
        "id": "C5K2kog05pVh",
        "outputId": "96c416b5-345c-48f9-f288-36cf891f04e2"
      },
      "source": [
        "combine_data.building_name.unique()"
      ],
      "execution_count": null,
      "outputs": [
        {
          "output_type": "execute_result",
          "data": {
            "text/plain": [
              "array([nan, 'BRIDGE HOUSE', 'PACKHAM COURT', ..., 'SUNNINGDALE GARDENS',\n",
              "       'SOUTHVIEW BUSINESS PARK', 'PEN-Y-BONT YARD'], dtype=object)"
            ]
          },
          "metadata": {
            "tags": []
          },
          "execution_count": 12
        }
      ]
    },
    {
      "cell_type": "code",
      "metadata": {
        "id": "NTAOFgDN5pVh",
        "outputId": "6fd0bbca-ed9f-4464-9bac-2a74ab891650"
      },
      "source": [
        "combine_data['building_number'].describe()"
      ],
      "execution_count": null,
      "outputs": [
        {
          "output_type": "execute_result",
          "data": {
            "text/plain": [
              "count     1792911\n",
              "unique       7893\n",
              "top             1\n",
              "freq        64478\n",
              "Name: building_number, dtype: object"
            ]
          },
          "metadata": {
            "tags": []
          },
          "execution_count": 13
        }
      ]
    },
    {
      "cell_type": "code",
      "metadata": {
        "id": "i-wxjFz45pVh",
        "outputId": "b7020ab5-08e2-422a-a960-b9cd42a7e3f0"
      },
      "source": [
        "print(combine_data['building_number'].isnull().sum())"
      ],
      "execution_count": null,
      "outputs": [
        {
          "output_type": "stream",
          "text": [
            "185866\n"
          ],
          "name": "stdout"
        }
      ]
    },
    {
      "cell_type": "code",
      "metadata": {
        "id": "gMCg7ctJ5pVi",
        "outputId": "d244dfeb-ae38-4bb9-ca4f-1accfae85fc2"
      },
      "source": [
        "combine_data.building_number.unique()"
      ],
      "execution_count": null,
      "outputs": [
        {
          "output_type": "execute_result",
          "data": {
            "text/plain": [
              "array(['24', '3', '36', ..., '452G', '33F', '219-221'], dtype=object)"
            ]
          },
          "metadata": {
            "tags": []
          },
          "execution_count": 15
        }
      ]
    },
    {
      "cell_type": "code",
      "metadata": {
        "id": "Wg97QMDD5pVi",
        "outputId": "f7cf51f9-80ea-4929-ecc7-598fba5a7f02"
      },
      "source": [
        "combine_data['city'].describe()"
      ],
      "execution_count": null,
      "outputs": [
        {
          "output_type": "execute_result",
          "data": {
            "text/plain": [
              "count        1978743\n",
              "unique           350\n",
              "top       BIRMINGHAM\n",
              "freq           29598\n",
              "Name: city, dtype: object"
            ]
          },
          "metadata": {
            "tags": []
          },
          "execution_count": 16
        }
      ]
    },
    {
      "cell_type": "code",
      "metadata": {
        "id": "Dt51wiF75pVi",
        "outputId": "7130dc62-2ba8-41e8-b6fc-efcd809b86ba"
      },
      "source": [
        "print(combine_data['city'].isnull().sum())"
      ],
      "execution_count": null,
      "outputs": [
        {
          "output_type": "stream",
          "text": [
            "34\n"
          ],
          "name": "stdout"
        }
      ]
    },
    {
      "cell_type": "code",
      "metadata": {
        "id": "rlil2F3l5pVi",
        "outputId": "cb6b9aef-c45d-4fbe-b531-dbf09b61a6fa"
      },
      "source": [
        "combine_data.city.unique()"
      ],
      "execution_count": null,
      "outputs": [
        {
          "output_type": "execute_result",
          "data": {
            "text/plain": [
              "array(['MANSFIELD', 'WILTSHIRE', 'DUDLEY', 'SOLIHULL', 'BLABY', 'DOVER',\n",
              "       'CAERPHILLY', 'WORTHING', 'MANCHESTER', 'CHELMSFORD', 'LEEDS',\n",
              "       'NOTTINGHAM', 'ARUN', 'EPSOM-AND-EWELL', 'SEVENOAKS',\n",
              "       'STRATFORD-ON-AVON', 'HEREFORDSHIRE-COUNTY-OF', 'BABERGH',\n",
              "       'KINGSTON-UPON-HULL-CITY-OF', 'TORBAY', 'STOCKPORT', 'BOLTON',\n",
              "       'COUNTY-DURHAM', 'EPPING-FOREST', 'BATH-AND-NORTH-EAST-SOMERSET',\n",
              "       'NORTH-LINCOLNSHIRE', 'NEWCASTLE-UNDER-LYME', 'CASTLE-POINT',\n",
              "       'BARKING-AND-DAGENHAM', 'NORWICH', 'CORNWALL', 'HARINGEY',\n",
              "       'DACORUM', 'EAST-HAMPSHIRE', 'WEST-LINDSEY', 'SEFTON', 'RUSHMOOR',\n",
              "       'WALSALL', 'SCARBOROUGH', 'BOURNEMOUTH', 'BOSTON', 'TEST-VALLEY',\n",
              "       'HAVERING', 'RUNNYMEDE', 'KIRKLEES', 'CONWY', 'WARRINGTON',\n",
              "       'CARDIFF', 'WEST-LANCASHIRE', 'LAMBETH', 'HORSHAM', 'POWYS',\n",
              "       'WIGAN', 'BIRMINGHAM', 'STOCKTON-ON-TEES', 'CHELTENHAM', 'DERBY',\n",
              "       'SANDWELL', 'LEICESTER', 'GWYNEDD', 'ROTHERHAM', 'BRIDGEND',\n",
              "       'PETERBOROUGH', 'WESTMINSTER', 'EAST-DORSET', 'RHONDDA-CYNON-TAF',\n",
              "       'TOWER-HAMLETS', 'RUSHCLIFFE', 'SOUTH-SOMERSET', 'LIVERPOOL',\n",
              "       'GREENWICH', 'SELBY', 'BRENT', 'SOUTHWARK', 'WIRRAL',\n",
              "       'VALE-OF-GLAMORGAN', 'CHARNWOOD', 'SALFORD', 'NEWHAM', 'GRAVESHAM',\n",
              "       'MONMOUTHSHIRE', 'SOUTH-NORFOLK', 'MERTON', 'CALDERDALE',\n",
              "       'WALTHAM-FOREST', 'MELTON', 'PURBECK', 'NEWCASTLE-UPON-TYNE',\n",
              "       'AYLESBURY-VALE', 'HASTINGS', 'COLCHESTER', 'WAKEFIELD',\n",
              "       'SHROPSHIRE', 'TAUNTON-DEANE', 'SOUTH-KESTEVEN', 'WYCHAVON',\n",
              "       'GATESHEAD', 'STAFFORD', 'MERTHYR-TYDFIL', 'NORTH-KESTEVEN',\n",
              "       'SWANSEA', 'GUILDFORD', 'HART', 'ROCHFORD', 'NORTH-SOMERSET',\n",
              "       'FOREST-OF-DEAN', 'NORTH-HERTFORDSHIRE', 'SOUTH-GLOUCESTERSHIRE',\n",
              "       'HAMBLETON', 'SOUTHAMPTON', 'MID-SUSSEX', 'RICHMOND-UPON-THAMES',\n",
              "       'CENTRAL-BEDFORDSHIRE', 'BROMLEY', 'THANET', 'BRADFORD',\n",
              "       'MIDDLESBROUGH', 'SWALE', 'BRAINTREE', 'CHICHESTER',\n",
              "       'SOUTH-CAMBRIDGESHIRE', 'NORTHAMPTON', 'WINDSOR-AND-MAIDENHEAD',\n",
              "       'EREWASH', 'PORTSMOUTH', 'NORTHUMBERLAND', 'TORFAEN',\n",
              "       'MID-SUFFOLK', 'EAST-RIDING-OF-YORKSHIRE',\n",
              "       'HAMMERSMITH-AND-FULHAM', 'COVENTRY', 'CAMDEN', 'NORTH-DEVON',\n",
              "       'ASHFORD', 'EASTLEIGH', 'WEALDEN', 'REDCAR-AND-CLEVELAND',\n",
              "       'ENFIELD', 'BEDFORD', 'ROSSENDALE', 'ST.-HELENS', 'LANCASTER',\n",
              "       'CHORLEY', 'SEDGEMOOR', 'WEST-DORSET',\n",
              "       'KING-S-LYNN-AND-WEST-NORFOLK', 'LEWES', 'SWINDON', 'THREE-RIVERS',\n",
              "       'MAIDSTONE', 'WEST-BERKSHIRE', 'GEDLING', 'HARROGATE',\n",
              "       'WELWYN-HATFIELD', 'BASINGSTOKE-AND-DEANE', 'FOREST-HEATH',\n",
              "       'KNOWSLEY', 'CHESHIRE-WEST-AND-CHESTER', 'TONBRIDGE-AND-MALLING',\n",
              "       'HYNDBURN', 'EXETER', 'EALING', 'BASSETLAW', 'WARWICK', 'NEWPORT',\n",
              "       'BEXLEY', 'CHESHIRE-EAST', 'SOUTHEND-ON-SEA',\n",
              "       'KINGSTON-UPON-THAMES', 'CHERWELL', 'BARNSLEY', 'LICHFIELD',\n",
              "       'HERTSMERE', 'NORTH-EAST-DERBYSHIRE', 'BLACKBURN-WITH-DARWEN',\n",
              "       'HARTLEPOOL', 'FYLDE', 'HUNTINGDONSHIRE', 'WANDSWORTH',\n",
              "       'KETTERING', 'PLYMOUTH', 'SOUTH-NORTHAMPTONSHIRE', 'FAREHAM',\n",
              "       'WELLINGBOROUGH', 'SOUTH-TYNESIDE', 'NORTH-NORFOLK', 'HIGH-PEAK',\n",
              "       'TEWKESBURY', 'SOUTH-STAFFORDSHIRE', 'CHESTERFIELD', 'CROYDON',\n",
              "       'BRACKNELL-FOREST', 'KENSINGTON-AND-CHELSEA', 'ADUR',\n",
              "       'EAST-CAMBRIDGESHIRE', 'WAVERLEY', 'HARLOW', 'WYRE-FOREST',\n",
              "       'EAST-LINDSEY', 'MEDWAY', 'NORTH-EAST-LINCOLNSHIRE', 'BROMSGROVE',\n",
              "       'WEST-OXFORDSHIRE', 'READING', 'NEW-FOREST', 'OLDHAM', 'MALDON',\n",
              "       'TELFORD-AND-WREKIN', 'STOKE-ON-TRENT', 'ISLINGTON',\n",
              "       'EAST-STAFFORDSHIRE', 'HARROW', 'COTSWOLD', 'TEIGNBRIDGE',\n",
              "       'DONCASTER', 'SOUTH-DERBYSHIRE', 'WEST-DEVON', 'SURREY-HEATH',\n",
              "       'CANNOCK-CHASE', 'CRAVEN', 'HAVANT', 'ST-EDMUNDSBURY', 'STROUD',\n",
              "       'SOUTH-RIBBLE', 'LEWISHAM', 'SOUTH-HOLLAND', 'NORTH-WARWICKSHIRE',\n",
              "       'BRECKLAND', 'TENDRING', 'TAMWORTH', 'WAVENEY',\n",
              "       'BRIGHTON-AND-HOVE', 'UTTLESFORD', 'RUGBY', 'VALE-OF-WHITE-HORSE',\n",
              "       'ISLE-OF-ANGLESEY', 'TUNBRIDGE-WELLS', 'NEWARK-AND-SHERWOOD',\n",
              "       'IPSWICH', 'CARMARTHENSHIRE', 'SUNDERLAND', 'DAVENTRY',\n",
              "       'BRISTOL-CITY-OF', 'POOLE', 'TAMESIDE', 'STEVENAGE', 'ROCHDALE',\n",
              "       'TORRIDGE', 'BARNET', 'SOUTH-HAMS', 'ELMBRIDGE', 'PEMBROKESHIRE',\n",
              "       'AMBER-VALLEY', 'NEATH-PORT-TALBOT', 'MILTON-KEYNES',\n",
              "       'SUFFOLK-COASTAL', 'BRENTWOOD', 'ROTHER', 'CORBY', 'EASTBOURNE',\n",
              "       'MENDIP', 'BURY', 'EDEN', 'CARLISLE', 'WREXHAM', 'BROXBOURNE',\n",
              "       'WYCOMBE', 'SUTTON', 'ASHFIELD', 'PRESTON', 'WOKINGHAM',\n",
              "       'SHEFFIELD', 'ISLE-OF-WIGHT', 'EAST-DEVON', 'BURNLEY',\n",
              "       'SOUTH-OXFORDSHIRE', 'NORTH-TYNESIDE', 'WEYMOUTH-AND-PORTLAND',\n",
              "       'BOLSOVER', 'CANTERBURY', 'BROADLAND', 'COPELAND', 'WYRE',\n",
              "       'TRAFFORD', 'THURROCK', 'SOUTH-LAKELAND',\n",
              "       'NORTH-WEST-LEICESTERSHIRE', 'MOLE-VALLEY', 'WOLVERHAMPTON',\n",
              "       'YORK', 'HILLINGDON', 'RYEDALE', 'BASILDON', 'CRAWLEY',\n",
              "       'RICHMONDSHIRE', 'DERBYSHIRE-DALES', 'EAST-NORTHAMPTONSHIRE',\n",
              "       'BROXTOWE', 'EAST-HERTFORDSHIRE', 'REIGATE-AND-BANSTEAD', 'WOKING',\n",
              "       'GREAT-YARMOUTH', 'BARROW-IN-FURNESS', 'WORCESTER', 'TANDRIDGE',\n",
              "       'NORTH-DORSET', 'GOSPORT', 'BLAENAU-GWENT', 'WATFORD', 'HACKNEY',\n",
              "       'HARBOROUGH', 'BLACKPOOL', 'HOUNSLOW', 'CHILTERN', 'FLINTSHIRE',\n",
              "       'MALVERN-HILLS', 'NUNEATON-AND-BEDWORTH', 'LUTON', 'FENLAND',\n",
              "       'DENBIGHSHIRE', 'REDBRIDGE', 'STAFFORDSHIRE-MOORLANDS',\n",
              "       'RIBBLE-VALLEY', 'DARLINGTON', 'ST-ALBANS', 'REDDITCH', 'SHEPWAY',\n",
              "       'WINCHESTER', 'WEST-SOMERSET', 'SPELTHORNE', 'DARTFORD', 'SLOUGH',\n",
              "       'CAMBRIDGE', 'MID-DEVON', 'OXFORD', 'ALLERDALE', 'PENDLE',\n",
              "       'GLOUCESTER', 'OADBY-AND-WIGSTON', 'LINCOLN', 'SOUTH-BUCKS',\n",
              "       'CHRISTCHURCH', 'RUTLAND', 'CEREDIGION', 'HINCKLEY-AND-BOSWORTH',\n",
              "       'HALTON', 'CITY-OF-LONDON', 'SCOTTISH-BORDERS', nan,\n",
              "       'ISLES-OF-SCILLY', 'DUMFRIES-AND-GALLOWAY'], dtype=object)"
            ]
          },
          "metadata": {
            "tags": []
          },
          "execution_count": 18
        }
      ]
    },
    {
      "cell_type": "code",
      "metadata": {
        "id": "3kLEhq955pVj",
        "outputId": "01714257-b8d8-4bde-e010-b8dc3064b9f9"
      },
      "source": [
        "combine_data['closestpark'].describe()"
      ],
      "execution_count": null,
      "outputs": [
        {
          "output_type": "execute_result",
          "data": {
            "text/plain": [
              "count    1.746376e+06\n",
              "mean     9.640953e+02\n",
              "std      7.925460e+02\n",
              "min      3.000000e+00\n",
              "25%      4.120000e+02\n",
              "50%      7.120000e+02\n",
              "75%      1.241000e+03\n",
              "max      4.838000e+03\n",
              "Name: closestpark, dtype: float64"
            ]
          },
          "metadata": {
            "tags": []
          },
          "execution_count": 19
        }
      ]
    },
    {
      "cell_type": "code",
      "metadata": {
        "id": "1OkogbaI5pVj",
        "outputId": "1c229384-f658-45e0-b99a-dd80cad5ec40"
      },
      "source": [
        "print(combine_data['closestpark'].isnull().sum())"
      ],
      "execution_count": null,
      "outputs": [
        {
          "output_type": "stream",
          "text": [
            "232401\n"
          ],
          "name": "stdout"
        }
      ]
    },
    {
      "cell_type": "code",
      "metadata": {
        "id": "KHTutYvG5pVj",
        "outputId": "b9b1c53b-62f3-4cb7-8d36-6b6fe087e4dc"
      },
      "source": [
        "combine_data.closestpark.unique()"
      ],
      "execution_count": null,
      "outputs": [
        {
          "output_type": "execute_result",
          "data": {
            "text/plain": [
              "array([ 674.,   nan,  745., ..., 4697., 4615., 4672.])"
            ]
          },
          "metadata": {
            "tags": []
          },
          "execution_count": 21
        }
      ]
    },
    {
      "cell_type": "code",
      "metadata": {
        "id": "B0EXpff65pVk",
        "outputId": "18130380-335c-44b7-9284-fb4b3761e218"
      },
      "source": [
        "combine_data['closestschool'].describe()"
      ],
      "execution_count": null,
      "outputs": [
        {
          "output_type": "execute_result",
          "data": {
            "text/plain": [
              "count    1.787248e+06\n",
              "mean     4.835813e+02\n",
              "std      4.318005e+02\n",
              "min      0.000000e+00\n",
              "25%      2.420000e+02\n",
              "50%      3.820000e+02\n",
              "75%      5.740000e+02\n",
              "max      4.743000e+03\n",
              "Name: closestschool, dtype: float64"
            ]
          },
          "metadata": {
            "tags": []
          },
          "execution_count": 22
        }
      ]
    },
    {
      "cell_type": "code",
      "metadata": {
        "id": "VzJszFbP5pVk",
        "outputId": "595a2804-455a-43d6-ac44-e6834bc08649"
      },
      "source": [
        "print(combine_data['closestschool'].isnull().sum())"
      ],
      "execution_count": null,
      "outputs": [
        {
          "output_type": "stream",
          "text": [
            "191529\n"
          ],
          "name": "stdout"
        }
      ]
    },
    {
      "cell_type": "code",
      "metadata": {
        "id": "4JNm4uHV5pVk",
        "outputId": "b2691ef3-ff0e-42b3-cc87-fdbf52036f2e"
      },
      "source": [
        "combine_data.closestpark.unique()"
      ],
      "execution_count": null,
      "outputs": [
        {
          "output_type": "execute_result",
          "data": {
            "text/plain": [
              "array([ 674.,   nan,  745., ..., 4697., 4615., 4672.])"
            ]
          },
          "metadata": {
            "tags": []
          },
          "execution_count": 24
        }
      ]
    },
    {
      "cell_type": "code",
      "metadata": {
        "id": "8ZbBZeyW5pVk",
        "outputId": "66558d53-2f2f-4474-cc6b-f59f1b74c327"
      },
      "source": [
        "combine_data['closeststop'].describe()"
      ],
      "execution_count": null,
      "outputs": [
        {
          "output_type": "execute_result",
          "data": {
            "text/plain": [
              "count    1.866905e+06\n",
              "mean     3.112370e+02\n",
              "std      4.756355e+02\n",
              "min      5.321700e-01\n",
              "25%      9.674732e+01\n",
              "50%      1.605978e+02\n",
              "75%      2.938576e+02\n",
              "max      4.815169e+03\n",
              "Name: closeststop, dtype: float64"
            ]
          },
          "metadata": {
            "tags": []
          },
          "execution_count": 25
        }
      ]
    },
    {
      "cell_type": "code",
      "metadata": {
        "id": "xmHlmaXv5pVl",
        "outputId": "fc5fc85b-105c-4657-bc87-9b47778574bf"
      },
      "source": [
        "print(combine_data['closeststop'].isnull().sum())"
      ],
      "execution_count": null,
      "outputs": [
        {
          "output_type": "stream",
          "text": [
            "111872\n"
          ],
          "name": "stdout"
        }
      ]
    },
    {
      "cell_type": "code",
      "metadata": {
        "id": "tk9tKrRu5pVl",
        "outputId": "bd32353e-1379-4fd3-e954-cac79835d2c2"
      },
      "source": [
        "combine_data.closeststop.unique()"
      ],
      "execution_count": null,
      "outputs": [
        {
          "output_type": "execute_result",
          "data": {
            "text/plain": [
              "array([ 130.41936945,  446.80579482,  310.74340407, ..., 1549.24298799,\n",
              "        799.37498681,   33.97629236])"
            ]
          },
          "metadata": {
            "tags": []
          },
          "execution_count": 27
        }
      ]
    },
    {
      "cell_type": "code",
      "metadata": {
        "id": "R4dtgzrg5pVl",
        "outputId": "a9f30e74-b1eb-4d32-e2b0-561598dec57e"
      },
      "source": [
        "combine_data['created'].describe()"
      ],
      "execution_count": null,
      "outputs": [
        {
          "output_type": "execute_result",
          "data": {
            "text/plain": [
              "count        1978777\n",
              "unique           728\n",
              "top       2017-06-30\n",
              "freq           19604\n",
              "Name: created, dtype: object"
            ]
          },
          "metadata": {
            "tags": []
          },
          "execution_count": 28
        }
      ]
    },
    {
      "cell_type": "code",
      "metadata": {
        "id": "-CxZODvS5pVl",
        "outputId": "a1d83997-15a1-4655-ef2f-cec048edae0f"
      },
      "source": [
        "print(combine_data['created'].isnull().sum())"
      ],
      "execution_count": null,
      "outputs": [
        {
          "output_type": "stream",
          "text": [
            "0\n"
          ],
          "name": "stdout"
        }
      ]
    },
    {
      "cell_type": "code",
      "metadata": {
        "id": "OBpIfwVB5pVl",
        "outputId": "c0b92923-f759-4b82-df27-3f647c56d6a8"
      },
      "source": [
        "combine_data.created.unique()"
      ],
      "execution_count": null,
      "outputs": [
        {
          "output_type": "execute_result",
          "data": {
            "text/plain": [
              "array(['2017-06-22', '2017-10-13', '2017-03-08', '2017-10-27',\n",
              "       '2017-05-05', '2017-05-24', '2017-12-15', '2017-10-06',\n",
              "       '2017-04-28', '2017-05-12', '2017-03-31', '2017-10-05',\n",
              "       '2017-01-09', '2017-10-19', '2017-06-30', '2017-12-08',\n",
              "       '2017-03-24', '2017-10-25', '2017-02-06', '2017-09-12',\n",
              "       '2017-02-17', '2017-02-28', '2017-11-30', '2017-03-30',\n",
              "       '2017-11-01', '2017-07-26', '2017-11-24', '2017-09-21',\n",
              "       '2017-10-15', '2017-05-15', '2017-11-10', '2017-03-03',\n",
              "       '2017-11-17', '2017-12-14', '2017-02-14', '2017-08-21',\n",
              "       '2017-08-25', '2017-03-10', '2017-02-24', '2017-04-19',\n",
              "       '2017-06-23', '2017-07-04', '2017-10-12', '2017-07-28',\n",
              "       '2017-05-19', '2017-07-07', '2017-03-17', '2017-09-22',\n",
              "       '2017-07-11', '2017-03-20', '2017-04-07', '2017-09-13',\n",
              "       '2017-01-06', '2017-09-29', '2017-12-13', '2017-08-15',\n",
              "       '2017-08-17', '2017-01-16', '2017-02-03', '2017-05-02',\n",
              "       '2017-04-06', '2017-04-12', '2017-04-13', '2017-04-21',\n",
              "       '2017-09-15', '2017-11-02', '2017-12-01', '2017-03-13',\n",
              "       '2017-10-20', '2017-02-01', '2017-11-27', '2017-01-27',\n",
              "       '2017-06-14', '2017-09-27', '2017-08-07', '2017-05-11',\n",
              "       '2017-01-24', '2017-09-19', '2017-08-18', '2017-03-23',\n",
              "       '2017-01-20', '2017-10-26', '2017-01-26', '2017-09-01',\n",
              "       '2017-08-10', '2017-10-24', '2017-09-14', '2017-01-03',\n",
              "       '2017-07-06', '2017-12-11', '2017-05-25', '2017-11-03',\n",
              "       '2017-08-03', '2017-07-20', '2017-02-27', '2017-05-26',\n",
              "       '2017-06-07', '2017-09-20', '2017-05-17', '2017-10-03',\n",
              "       '2017-12-18', '2017-02-10', '2017-04-20', '2017-08-11',\n",
              "       '2017-04-10', '2017-11-16', '2017-06-21', '2017-02-22',\n",
              "       '2017-07-05', '2017-11-20', '2017-12-05', '2017-09-05',\n",
              "       '2017-11-28', '2017-07-12', '2017-01-31', '2017-03-14',\n",
              "       '2017-07-17', '2017-07-21', '2017-05-31', '2017-01-04',\n",
              "       '2017-05-18', '2017-08-24', '2017-11-06', '2017-12-21',\n",
              "       '2017-05-03', '2017-07-18', '2017-01-11', '2017-02-09',\n",
              "       '2017-08-23', '2017-03-01', '2017-05-09', '2017-07-14',\n",
              "       '2017-11-08', '2017-06-28', '2017-06-09', '2017-06-05',\n",
              "       '2017-11-29', '2017-07-25', '2017-07-10', '2017-03-21',\n",
              "       '2017-06-29', '2017-12-19', '2017-11-14', '2017-06-15',\n",
              "       '2017-08-04', '2017-08-16', '2017-04-03', '2017-01-05',\n",
              "       '2017-11-13', '2017-09-07', '2017-10-18', '2017-08-02',\n",
              "       '2017-08-08', '2017-01-17', '2017-09-28', '2017-10-09',\n",
              "       '2017-08-30', '2017-05-08', '2017-01-13', '2017-11-07',\n",
              "       '2017-09-08', '2017-02-08', '2017-10-04', '2017-10-31',\n",
              "       '2017-10-23', '2017-09-11', '2017-02-16', '2017-06-02',\n",
              "       '2017-06-27', '2017-07-13', '2017-05-22', '2017-08-31',\n",
              "       '2017-06-01', '2017-03-22', '2017-07-27', '2017-01-25',\n",
              "       '2017-07-31', '2017-03-16', '2017-03-29', '2017-06-20',\n",
              "       '2017-10-02', '2017-11-21', '2017-02-20', '2017-09-26',\n",
              "       '2017-04-11', '2017-04-25', '2017-06-16', '2017-01-12',\n",
              "       '2017-04-24', '2017-05-30', '2017-02-15', '2017-04-04',\n",
              "       '2017-09-06', '2017-05-04', '2017-03-06', '2017-09-04',\n",
              "       '2017-08-01', '2017-06-26', '2017-03-02', '2017-09-18',\n",
              "       '2017-12-04', '2017-10-30', '2017-06-19', '2017-07-03',\n",
              "       '2017-01-18', '2017-02-07', '2017-10-10', '2017-01-30',\n",
              "       '2017-12-20', '2017-11-09', '2017-09-25', '2017-11-15',\n",
              "       '2017-04-27', '2017-02-02', '2017-08-22', '2017-06-06',\n",
              "       '2017-01-23', '2017-08-14', '2017-04-05', '2017-10-17',\n",
              "       '2017-05-10', '2017-08-09', '2017-04-26', '2017-08-29',\n",
              "       '2017-07-15', '2017-12-07', '2017-04-18', '2017-02-21',\n",
              "       '2017-03-07', '2017-03-27', '2017-11-22', '2017-03-28',\n",
              "       '2017-11-23', '2017-03-09', '2017-06-13', '2017-07-24',\n",
              "       '2017-10-16', '2017-01-19', '2017-05-23', '2017-03-15',\n",
              "       '2017-02-23', '2017-12-06', '2017-10-11', '2017-05-16',\n",
              "       '2017-06-12', '2017-08-12', '2017-06-08', '2017-02-13',\n",
              "       '2017-10-14', '2017-07-19', '2017-01-10', '2017-12-12',\n",
              "       '2017-03-18', '2017-12-22', '2017-01-22', '2017-12-02',\n",
              "       '2017-04-17', '2017-06-10', '2017-07-23', '2017-12-31',\n",
              "       '2017-04-29', '2017-03-04', '2017-07-09', '2017-07-29',\n",
              "       '2017-12-10', '2017-04-01', '2017-04-15', '2017-01-02',\n",
              "       '2017-01-14', '2017-10-29', '2017-09-24', '2017-11-04',\n",
              "       '2017-12-24', '2017-05-01', '2017-11-25', '2017-08-05',\n",
              "       '2017-01-15', '2017-07-30', '2017-09-30', '2017-11-11',\n",
              "       '2017-02-19', '2017-12-29', '2017-12-17', '2017-08-20',\n",
              "       '2017-09-09', '2017-05-27', '2017-02-04', '2017-12-16',\n",
              "       '2017-08-26', '2017-09-17', '2017-07-08', '2017-10-07',\n",
              "       '2017-02-12', '2017-04-14', '2017-08-28', '2017-02-11',\n",
              "       '2017-06-24', '2017-12-28', '2017-12-27', '2017-06-03',\n",
              "       '2017-01-21', '2017-08-19', '2017-05-06', '2017-04-08',\n",
              "       '2017-07-02', '2017-09-23', '2017-06-17', '2017-11-12',\n",
              "       '2017-12-30', '2017-10-28', '2017-12-09', '2017-09-16',\n",
              "       '2017-01-01', '2017-05-20', '2017-04-09', '2017-09-03',\n",
              "       '2017-02-05', '2017-06-18', '2017-05-28', '2017-11-18',\n",
              "       '2017-05-13', '2017-11-26', '2017-07-01', '2017-10-01',\n",
              "       '2017-03-11', '2017-07-22', '2017-01-28', '2017-01-29',\n",
              "       '2017-05-07', '2017-03-12', '2017-04-30', '2017-08-13',\n",
              "       '2017-01-08', '2017-10-22', '2017-07-16', '2017-05-21',\n",
              "       '2017-05-14', '2017-09-02', '2017-11-05', '2017-02-25',\n",
              "       '2017-08-06', '2017-10-21', '2017-02-26', '2017-03-25',\n",
              "       '2017-06-04', '2017-12-03', '2017-04-22', '2017-05-29',\n",
              "       '2017-06-25', '2017-12-23', '2017-04-23', '2017-01-07',\n",
              "       '2017-04-02', '2017-09-10', '2017-03-19', '2017-10-08',\n",
              "       '2017-02-18', '2017-08-27', '2017-11-19', '2017-03-05',\n",
              "       '2017-03-26', '2017-04-16', '2017-12-25', '2017-06-11',\n",
              "       '2018-01-26', '2018-09-19', '2018-11-09', '2018-01-15',\n",
              "       '2018-07-12', '2018-03-05', '2018-06-29', '2018-10-26',\n",
              "       '2018-02-02', '2018-04-20', '2018-02-06', '2018-11-16',\n",
              "       '2018-01-12', '2018-07-25', '2018-11-27', '2018-03-23',\n",
              "       '2018-06-15', '2018-06-25', '2018-05-25', '2018-02-12',\n",
              "       '2018-03-29', '2018-08-07', '2018-09-07', '2018-11-08',\n",
              "       '2018-05-31', '2018-01-17', '2018-04-30', '2018-05-18',\n",
              "       '2018-12-07', '2018-10-05', '2018-09-06', '2018-10-03',\n",
              "       '2018-10-15', '2018-08-31', '2018-12-14', '2018-07-27',\n",
              "       '2018-10-19', '2018-08-03', '2018-09-18', '2018-11-12',\n",
              "       '2018-01-19', '2018-10-30', '2018-07-31', '2018-03-19',\n",
              "       '2018-02-28', '2018-12-18', '2018-08-02', '2018-01-23',\n",
              "       '2018-03-13', '2018-08-22', '2018-04-11', '2018-02-19',\n",
              "       '2018-11-18', '2018-04-06', '2018-05-09', '2018-12-12',\n",
              "       '2018-06-12', '2018-10-12', '2018-03-02', '2018-06-01',\n",
              "       '2018-06-14', '2018-08-08', '2018-08-01', '2018-10-09',\n",
              "       '2018-08-15', '2018-11-29', '2018-08-10', '2018-10-23',\n",
              "       '2018-03-16', '2018-09-21', '2018-02-01', '2018-11-21',\n",
              "       '2018-08-30', '2018-11-23', '2018-04-27', '2018-09-11',\n",
              "       '2018-02-23', '2018-04-17', '2018-01-11', '2018-09-28',\n",
              "       '2018-11-02', '2018-12-21', '2018-04-24', '2018-03-09',\n",
              "       '2018-05-30', '2018-03-15', '2018-02-15', '2018-11-28',\n",
              "       '2018-06-21', '2018-07-06', '2018-04-13', '2018-01-31',\n",
              "       '2018-09-14', '2018-08-13', '2018-07-24', '2018-02-21',\n",
              "       '2018-06-26', '2018-03-26', '2018-03-12', '2018-05-17',\n",
              "       '2018-10-22', '2018-06-27', '2018-05-01', '2018-06-22',\n",
              "       '2018-11-30', '2018-07-19', '2018-08-16', '2018-05-03',\n",
              "       '2018-08-17', '2018-08-24', '2018-11-05', '2018-10-16',\n",
              "       '2018-02-27', '2018-01-22', '2018-09-24', '2018-12-24',\n",
              "       '2018-10-11', '2018-02-09', '2018-12-13', '2018-02-07',\n",
              "       '2018-12-10', '2018-09-13', '2018-06-28', '2018-10-29',\n",
              "       '2018-07-11', '2018-12-20', '2018-03-28', '2018-02-14',\n",
              "       '2018-03-01', '2018-02-26', '2018-11-13', '2018-09-12',\n",
              "       '2018-06-11', '2018-07-16', '2018-05-29', '2018-01-04',\n",
              "       '2018-05-08', '2018-12-17', '2018-01-16', '2018-03-20',\n",
              "       '2018-02-22', '2018-07-18', '2018-12-19', '2018-08-09',\n",
              "       '2018-12-06', '2018-01-18', '2018-11-26', '2018-02-16',\n",
              "       '2018-07-13', '2018-02-08', '2018-07-20', '2018-04-19',\n",
              "       '2018-10-01', '2018-08-06', '2018-05-04', '2018-01-30',\n",
              "       '2018-05-24', '2018-03-07', '2018-12-04', '2018-05-10',\n",
              "       '2018-01-05', '2018-01-08', '2018-07-02', '2018-05-15',\n",
              "       '2018-12-05', '2018-05-21', '2018-06-08', '2018-08-21',\n",
              "       '2018-11-01', '2018-07-26', '2018-10-10', '2018-03-21',\n",
              "       '2018-04-18', '2018-10-18', '2018-08-20', '2018-09-27',\n",
              "       '2018-05-16', '2018-08-29', '2018-04-10', '2018-09-17',\n",
              "       '2018-07-05', '2018-05-11', '2018-11-20', '2018-06-07',\n",
              "       '2018-10-25', '2018-06-20', '2018-10-17', '2018-11-15',\n",
              "       '2018-06-04', '2018-01-29', '2018-01-10', '2018-09-05',\n",
              "       '2018-10-04', '2018-04-25', '2018-04-05', '2018-07-23',\n",
              "       '2018-01-25', '2018-08-23', '2018-09-20', '2018-02-05',\n",
              "       '2018-07-30', '2018-10-31', '2018-06-05', '2018-03-08',\n",
              "       '2018-05-02', '2018-03-25', '2018-07-09', '2018-01-24',\n",
              "       '2018-03-27', '2018-05-22', '2018-04-26', '2018-11-22',\n",
              "       '2018-04-16', '2018-01-03', '2018-12-03', '2018-11-19',\n",
              "       '2018-03-18', '2018-03-22', '2018-01-09', '2018-06-19',\n",
              "       '2018-09-26', '2018-11-14', '2018-05-23', '2018-11-07',\n",
              "       '2018-07-10', '2018-10-08', '2018-11-06', '2018-09-10',\n",
              "       '2018-08-28', '2018-07-03', '2018-10-24', '2018-10-07',\n",
              "       '2018-04-12', '2018-04-03', '2018-09-03', '2018-03-31',\n",
              "       '2018-04-23', '2018-03-14', '2018-10-02', '2018-09-25',\n",
              "       '2018-03-06', '2018-06-06', '2018-09-15', '2018-02-13',\n",
              "       '2018-06-13', '2018-04-04', '2018-11-11', '2018-07-17',\n",
              "       '2018-05-14', '2018-09-04', '2018-04-09', '2018-07-04',\n",
              "       '2018-07-21', '2018-06-18', '2018-12-11', '2018-02-20',\n",
              "       '2018-03-17', '2018-08-14', '2018-09-30', '2018-10-21',\n",
              "       '2018-09-29', '2018-10-13', '2018-03-03', '2018-08-27',\n",
              "       '2018-09-01', '2018-04-01', '2018-09-22', '2018-08-04',\n",
              "       '2018-12-15', '2018-05-28', '2018-12-28', '2018-05-20',\n",
              "       '2018-02-24', '2018-11-17', '2018-11-03', '2018-12-01',\n",
              "       '2018-04-15', '2018-03-30', '2018-01-02', '2018-05-26',\n",
              "       '2018-12-31', '2018-07-08', '2018-06-02', '2018-12-02',\n",
              "       '2018-06-16', '2018-07-28', '2018-08-18', '2018-01-01',\n",
              "       '2018-02-11', '2018-11-10', '2018-06-30', '2018-07-07',\n",
              "       '2018-04-02', '2018-12-09', '2018-06-09', '2018-12-29',\n",
              "       '2018-06-23', '2018-07-14', '2018-02-17', '2018-12-27',\n",
              "       '2018-07-29', '2018-04-28', '2018-09-08', '2018-03-11',\n",
              "       '2018-01-21', '2018-01-07', '2018-10-20', '2018-06-24',\n",
              "       '2018-08-25', '2018-10-14', '2018-02-10', '2018-03-24',\n",
              "       '2018-01-06', '2018-07-01', '2018-01-27', '2018-05-07',\n",
              "       '2018-02-04', '2018-01-20', '2018-09-16', '2018-04-14',\n",
              "       '2018-05-12', '2018-12-16', '2018-12-25', '2018-11-04',\n",
              "       '2018-04-07', '2018-08-19', '2018-05-27', '2018-05-05',\n",
              "       '2018-07-15', '2018-01-13', '2018-05-13', '2018-11-24',\n",
              "       '2018-03-04', '2018-08-05', '2018-06-10', '2018-05-19',\n",
              "       '2018-01-14', '2018-01-28', '2018-10-06', '2018-10-28',\n",
              "       '2018-10-27', '2018-12-22', '2018-02-03', '2018-04-21',\n",
              "       '2018-09-09', '2018-12-08', '2018-05-06', '2018-07-22',\n",
              "       '2018-04-22', '2018-04-29', '2018-12-30', '2018-06-17',\n",
              "       '2018-02-18', '2018-08-12', '2018-06-03', '2018-08-11',\n",
              "       '2018-08-26', '2018-03-10', '2018-11-25', '2018-09-23',\n",
              "       '2018-04-08', '2018-02-25', '2018-12-23', '2018-12-26'],\n",
              "      dtype=object)"
            ]
          },
          "metadata": {
            "tags": []
          },
          "execution_count": 30
        }
      ]
    },
    {
      "cell_type": "code",
      "metadata": {
        "id": "k3JYfQ5k5pVm",
        "outputId": "0bcf502e-f22d-425f-83b3-8f61c207413f"
      },
      "source": [
        "combine_data['crimesin3km_antisocial'].describe()"
      ],
      "execution_count": null,
      "outputs": [
        {
          "output_type": "execute_result",
          "data": {
            "text/plain": [
              "count    1.887698e+06\n",
              "mean     2.356189e+03\n",
              "std      2.905756e+03\n",
              "min      0.000000e+00\n",
              "25%      4.490000e+02\n",
              "50%      1.433000e+03\n",
              "75%      3.040000e+03\n",
              "max      2.307400e+04\n",
              "Name: crimesin3km_antisocial, dtype: float64"
            ]
          },
          "metadata": {
            "tags": []
          },
          "execution_count": 31
        }
      ]
    },
    {
      "cell_type": "code",
      "metadata": {
        "id": "hnbTiXBa5pVm",
        "outputId": "7da1c0cc-ad8f-45e1-ddc7-3b16eb713661"
      },
      "source": [
        "print(combine_data['crimesin3km_antisocial'].isnull().sum())"
      ],
      "execution_count": null,
      "outputs": [
        {
          "output_type": "stream",
          "text": [
            "91079\n"
          ],
          "name": "stdout"
        }
      ]
    },
    {
      "cell_type": "code",
      "metadata": {
        "id": "J3nNvBu65pVm",
        "outputId": "6c66dbba-0f02-43bf-f575-1926ed1a58c9"
      },
      "source": [
        "combine_data.crimesin3km_antisocial.unique()"
      ],
      "execution_count": null,
      "outputs": [
        {
          "output_type": "execute_result",
          "data": {
            "text/plain": [
              "array([7.4100e+02, 1.0000e+01, 1.5760e+03, ..., 1.5488e+04, 1.3462e+04,\n",
              "       1.6974e+04])"
            ]
          },
          "metadata": {
            "tags": []
          },
          "execution_count": 33
        }
      ]
    },
    {
      "cell_type": "code",
      "metadata": {
        "id": "8NwyfKhN5pVm",
        "outputId": "0c8130a9-dceb-4296-e060-7b08a873f782"
      },
      "source": [
        "combine_data['distance_center'].describe()"
      ],
      "execution_count": null,
      "outputs": [
        {
          "output_type": "execute_result",
          "data": {
            "text/plain": [
              "count    1.888177e+06\n",
              "mean     6.190759e+00\n",
              "std      7.257374e+00\n",
              "min      3.301802e-03\n",
              "25%      1.796913e+00\n",
              "50%      3.754652e+00\n",
              "75%      7.704068e+00\n",
              "max      8.374496e+01\n",
              "Name: distance_center, dtype: float64"
            ]
          },
          "metadata": {
            "tags": []
          },
          "execution_count": 34
        }
      ]
    },
    {
      "cell_type": "code",
      "metadata": {
        "id": "eisbkUkM5pVn",
        "outputId": "ebb8e6cb-2c67-48da-d5aa-69713ec56035"
      },
      "source": [
        "print(combine_data['distance_center'].isnull().sum())"
      ],
      "execution_count": null,
      "outputs": [
        {
          "output_type": "stream",
          "text": [
            "90600\n"
          ],
          "name": "stdout"
        }
      ]
    },
    {
      "cell_type": "code",
      "metadata": {
        "id": "Dzi0qCDL5pVn",
        "outputId": "568167d6-e049-432d-a105-b562db41a109"
      },
      "source": [
        "combine_data.distance_center.unique()"
      ],
      "execution_count": null,
      "outputs": [
        {
          "output_type": "execute_result",
          "data": {
            "text/plain": [
              "array([ 3.65830015, 27.20535195,  5.65961217, ...,  5.95727623,\n",
              "        4.2135803 ,  2.08642182])"
            ]
          },
          "metadata": {
            "tags": []
          },
          "execution_count": 36
        }
      ]
    },
    {
      "cell_type": "code",
      "metadata": {
        "id": "j20WT51E5pVn",
        "outputId": "069ebc1f-0768-4518-c0e3-3dcfbdcf983d"
      },
      "source": [
        "combine_data['duration'].describe()"
      ],
      "execution_count": null,
      "outputs": [
        {
          "output_type": "execute_result",
          "data": {
            "text/plain": [
              "count     1978777\n",
              "unique          2\n",
              "top             F\n",
              "freq      1502069\n",
              "Name: duration, dtype: object"
            ]
          },
          "metadata": {
            "tags": []
          },
          "execution_count": 37
        }
      ]
    },
    {
      "cell_type": "code",
      "metadata": {
        "id": "rVlPMCck5pVn",
        "outputId": "55a18a0c-5b1d-4801-babd-fcf632120558"
      },
      "source": [
        "print(combine_data['duration'].isnull().sum())"
      ],
      "execution_count": null,
      "outputs": [
        {
          "output_type": "stream",
          "text": [
            "0\n"
          ],
          "name": "stdout"
        }
      ]
    },
    {
      "cell_type": "code",
      "metadata": {
        "id": "PUsVRm7u5pVo",
        "outputId": "a0d0b956-2164-4ee8-c39c-b7ebefecf0ae"
      },
      "source": [
        "combine_data.distance_center.unique()"
      ],
      "execution_count": null,
      "outputs": [
        {
          "output_type": "execute_result",
          "data": {
            "text/plain": [
              "array([ 3.65830015, 27.20535195,  5.65961217, ...,  5.95727623,\n",
              "        4.2135803 ,  2.08642182])"
            ]
          },
          "metadata": {
            "tags": []
          },
          "execution_count": 39
        }
      ]
    },
    {
      "cell_type": "code",
      "metadata": {
        "id": "f83-Fbpo5pVo",
        "outputId": "19fa1e34-7639-4fe5-eced-908b858d7ecf"
      },
      "source": [
        "combine_data['epc_built_form'].describe()"
      ],
      "execution_count": null,
      "outputs": [
        {
          "output_type": "execute_result",
          "data": {
            "text/plain": [
              "count            913385\n",
              "unique                6\n",
              "top       Semi-Detached\n",
              "freq             283499\n",
              "Name: epc_built_form, dtype: object"
            ]
          },
          "metadata": {
            "tags": []
          },
          "execution_count": 40
        }
      ]
    },
    {
      "cell_type": "code",
      "metadata": {
        "id": "PoGeDncI5pVo",
        "outputId": "4cc808fc-f40a-4fbd-b75c-daa7f808478c"
      },
      "source": [
        "print(combine_data['epc_built_form'].isnull().sum())"
      ],
      "execution_count": null,
      "outputs": [
        {
          "output_type": "stream",
          "text": [
            "1065392\n"
          ],
          "name": "stdout"
        }
      ]
    },
    {
      "cell_type": "code",
      "metadata": {
        "id": "54iB9VUZ5pVo",
        "outputId": "95f509fd-d175-4c7b-dfe0-4bce49d4640a"
      },
      "source": [
        "combine_data.epc_built_form.unique()"
      ],
      "execution_count": null,
      "outputs": [
        {
          "output_type": "execute_result",
          "data": {
            "text/plain": [
              "array([nan, 'Detached', 'End-Terrace', 'Mid-Terrace', 'Semi-Detached',\n",
              "       'Enclosed Mid-Terrace', 'Enclosed End-Terrace'], dtype=object)"
            ]
          },
          "metadata": {
            "tags": []
          },
          "execution_count": 42
        }
      ]
    },
    {
      "cell_type": "code",
      "metadata": {
        "id": "1eHaa9GF5pVp",
        "outputId": "d2b8c54a-672a-4065-f66a-3121f9a59e3c"
      },
      "source": [
        "combine_data['epc_current_energy_rating'].describe()"
      ],
      "execution_count": null,
      "outputs": [
        {
          "output_type": "execute_result",
          "data": {
            "text/plain": [
              "count     960356\n",
              "unique         8\n",
              "top            D\n",
              "freq      392862\n",
              "Name: epc_current_energy_rating, dtype: object"
            ]
          },
          "metadata": {
            "tags": []
          },
          "execution_count": 43
        }
      ]
    },
    {
      "cell_type": "code",
      "metadata": {
        "id": "YJgKRDd85pVp",
        "outputId": "7c016401-900b-4b97-e7de-5574a8db022a"
      },
      "source": [
        "print(combine_data['epc_current_energy_rating'].isnull().sum())"
      ],
      "execution_count": null,
      "outputs": [
        {
          "output_type": "stream",
          "text": [
            "1018421\n"
          ],
          "name": "stdout"
        }
      ]
    },
    {
      "cell_type": "code",
      "metadata": {
        "id": "vnbNNHsF5pVp",
        "outputId": "7c8a47da-6315-415c-b290-e397259c6933"
      },
      "source": [
        "combine_data.epc_built_form.unique()"
      ],
      "execution_count": null,
      "outputs": [
        {
          "output_type": "execute_result",
          "data": {
            "text/plain": [
              "array([nan, 'Detached', 'End-Terrace', 'Mid-Terrace', 'Semi-Detached',\n",
              "       'Enclosed Mid-Terrace', 'Enclosed End-Terrace'], dtype=object)"
            ]
          },
          "metadata": {
            "tags": []
          },
          "execution_count": 45
        }
      ]
    },
    {
      "cell_type": "code",
      "metadata": {
        "id": "es3lBuj05pVp",
        "outputId": "1543634c-6f15-4191-885b-54a6b236b54a"
      },
      "source": [
        "combine_data['epc_energy_consumption_current'].describe()"
      ],
      "execution_count": null,
      "outputs": [
        {
          "output_type": "execute_result",
          "data": {
            "text/plain": [
              "count    960356.000000\n",
              "mean        982.718065\n",
              "std        4775.125172\n",
              "min       -1323.000000\n",
              "25%         196.000000\n",
              "50%         262.000000\n",
              "75%         349.000000\n",
              "max      416354.000000\n",
              "Name: epc_energy_consumption_current, dtype: float64"
            ]
          },
          "metadata": {
            "tags": []
          },
          "execution_count": 46
        }
      ]
    },
    {
      "cell_type": "code",
      "metadata": {
        "id": "NofhnDwE5pVq",
        "outputId": "d7e57040-08cf-4f23-e5b8-8b85e41d5cc3"
      },
      "source": [
        "print(combine_data['epc_energy_consumption_current'].isnull().sum())"
      ],
      "execution_count": null,
      "outputs": [
        {
          "output_type": "stream",
          "text": [
            "1018421\n"
          ],
          "name": "stdout"
        }
      ]
    },
    {
      "cell_type": "code",
      "metadata": {
        "id": "lUvGwm985pVq",
        "outputId": "b3ee1970-b579-4cb0-b9c7-b19214267e38"
      },
      "source": [
        "combine_data.epc_energy_consumption_current.unique()"
      ],
      "execution_count": null,
      "outputs": [
        {
          "output_type": "execute_result",
          "data": {
            "text/plain": [
              "array([   nan,   297.,    95., ...,  9214., 25630., 21185.])"
            ]
          },
          "metadata": {
            "tags": []
          },
          "execution_count": 48
        }
      ]
    },
    {
      "cell_type": "code",
      "metadata": {
        "id": "j5ydHSNY5pVq",
        "outputId": "f2e07ecd-da72-4dd6-a62e-ac475b671189"
      },
      "source": [
        "combine_data['epc_flat_storey_count'].describe()"
      ],
      "execution_count": null,
      "outputs": [
        {
          "output_type": "execute_result",
          "data": {
            "text/plain": [
              "count    85957.000000\n",
              "mean         3.168922\n",
              "std          2.482652\n",
              "min          0.000000\n",
              "25%          2.000000\n",
              "50%          3.000000\n",
              "75%          4.000000\n",
              "max         63.000000\n",
              "Name: epc_flat_storey_count, dtype: float64"
            ]
          },
          "metadata": {
            "tags": []
          },
          "execution_count": 49
        }
      ]
    },
    {
      "cell_type": "code",
      "metadata": {
        "id": "hNdvLeZe5pVr",
        "outputId": "71081996-9910-47f8-9ded-2459adcfe3ff"
      },
      "source": [
        "print(combine_data['epc_flat_storey_count'].isnull().sum())"
      ],
      "execution_count": null,
      "outputs": [
        {
          "output_type": "stream",
          "text": [
            "1892820\n"
          ],
          "name": "stdout"
        }
      ]
    },
    {
      "cell_type": "code",
      "metadata": {
        "id": "UCRZ3Lo65pVr",
        "outputId": "b6aee5b0-f263-4a41-8f85-41761bb43418"
      },
      "source": [
        "combine_data.epc_flat_storey_count.unique()"
      ],
      "execution_count": null,
      "outputs": [
        {
          "output_type": "execute_result",
          "data": {
            "text/plain": [
              "array([nan,  3.,  4.,  2.,  6.,  5.,  1.,  7.,  0., 11.,  8., 13.,  9.,\n",
              "       10., 12., 14., 16., 17., 15., 20., 19., 18., 23., 24., 30., 21.,\n",
              "       41., 39., 26., 25., 48., 45., 47., 38., 28., 29., 27., 22., 31.,\n",
              "       33., 34., 55., 44., 49., 61., 37., 63.])"
            ]
          },
          "metadata": {
            "tags": []
          },
          "execution_count": 51
        }
      ]
    },
    {
      "cell_type": "code",
      "metadata": {
        "id": "fFn3ugk25pVr",
        "outputId": "b049c0c3-8498-40d7-dec4-c906970825af"
      },
      "source": [
        "combine_data['epc_floor_height'].describe()"
      ],
      "execution_count": null,
      "outputs": [
        {
          "output_type": "execute_result",
          "data": {
            "text/plain": [
              "count    525532.000000\n",
              "mean          2.453044\n",
              "std           0.605628\n",
              "min           0.000000\n",
              "25%           2.330000\n",
              "50%           2.400000\n",
              "75%           2.510000\n",
              "max         230.000000\n",
              "Name: epc_floor_height, dtype: float64"
            ]
          },
          "metadata": {
            "tags": []
          },
          "execution_count": 52
        }
      ]
    },
    {
      "cell_type": "code",
      "metadata": {
        "id": "jDvB2EuE5pVr",
        "outputId": "6390525d-8763-471b-af33-cd2659f7678f"
      },
      "source": [
        "print(combine_data['epc_floor_height'].isnull().sum())"
      ],
      "execution_count": null,
      "outputs": [
        {
          "output_type": "stream",
          "text": [
            "1453245\n"
          ],
          "name": "stdout"
        }
      ]
    },
    {
      "cell_type": "code",
      "metadata": {
        "id": "mB1fTwHZ5pVr",
        "outputId": "9170cba1-0a6b-4a22-940d-e37cd818f0cf"
      },
      "source": [
        "combine_data.epc_floor_height.unique()"
      ],
      "execution_count": null,
      "outputs": [
        {
          "output_type": "execute_result",
          "data": {
            "text/plain": [
              "array([  nan, 2.7  , 2.3  , ..., 3.589, 4.72 , 2.951])"
            ]
          },
          "metadata": {
            "tags": []
          },
          "execution_count": 54
        }
      ]
    },
    {
      "cell_type": "code",
      "metadata": {
        "id": "X2E-_rSz5pVs",
        "outputId": "755d05cc-bbaf-4078-9134-81d28ff73592"
      },
      "source": [
        "combine_data['epc_glazed_area'].describe()"
      ],
      "execution_count": null,
      "outputs": [
        {
          "output_type": "execute_result",
          "data": {
            "text/plain": [
              "count     850134\n",
              "unique         5\n",
              "top       Normal\n",
              "freq      823169\n",
              "Name: epc_glazed_area, dtype: object"
            ]
          },
          "metadata": {
            "tags": []
          },
          "execution_count": 55
        }
      ]
    },
    {
      "cell_type": "code",
      "metadata": {
        "id": "wIGdQNTJ5pVs",
        "outputId": "68d99739-a164-49a7-84d9-f75a5578c0f6"
      },
      "source": [
        "print(combine_data['epc_glazed_area'].isnull().sum())"
      ],
      "execution_count": null,
      "outputs": [
        {
          "output_type": "stream",
          "text": [
            "1128643\n"
          ],
          "name": "stdout"
        }
      ]
    },
    {
      "cell_type": "code",
      "metadata": {
        "id": "2NRdM_TJ5pVs",
        "outputId": "8700bfbe-c5db-4780-c8b9-2fbb86595dae"
      },
      "source": [
        "combine_data.epc_glazed_area.unique()"
      ],
      "execution_count": null,
      "outputs": [
        {
          "output_type": "execute_result",
          "data": {
            "text/plain": [
              "array([nan, 'Normal', 'Less Than Typical', 'Much More Than Typical',\n",
              "       'More Than Typical', 'Much Less Than Typical'], dtype=object)"
            ]
          },
          "metadata": {
            "tags": []
          },
          "execution_count": 57
        }
      ]
    },
    {
      "cell_type": "code",
      "metadata": {
        "id": "l0VmKz2C5pVs",
        "outputId": "c67d9897-731a-4012-a7fb-5d17ba27e5ce"
      },
      "source": [
        "combine_data['epc_heating_cost_current'].describe()"
      ],
      "execution_count": null,
      "outputs": [
        {
          "output_type": "execute_result",
          "data": {
            "text/plain": [
              "count    960356.000000\n",
              "mean        701.405613\n",
              "std         540.060623\n",
              "min        -801.000000\n",
              "25%         394.000000\n",
              "50%         594.000000\n",
              "75%         852.000000\n",
              "max       62707.000000\n",
              "Name: epc_heating_cost_current, dtype: float64"
            ]
          },
          "metadata": {
            "tags": []
          },
          "execution_count": 58
        }
      ]
    },
    {
      "cell_type": "code",
      "metadata": {
        "id": "GVaxpjmB5pVt",
        "outputId": "fd56d081-22b7-4726-f9fb-8f25c37fbb74"
      },
      "source": [
        "print(combine_data['epc_heating_cost_current'].isnull().sum())"
      ],
      "execution_count": null,
      "outputs": [
        {
          "output_type": "stream",
          "text": [
            "1018421\n"
          ],
          "name": "stdout"
        }
      ]
    },
    {
      "cell_type": "code",
      "metadata": {
        "id": "XIOv4ydZ5pVt",
        "outputId": "995d3eca-b5ab-4333-880d-497a01dfde85"
      },
      "source": [
        "combine_data.epc_heating_cost_current.unique()"
      ],
      "execution_count": null,
      "outputs": [
        {
          "output_type": "execute_result",
          "data": {
            "text/plain": [
              "array([       nan, 1489.     ,  320.     , ...,  783.87616,  376.97662,\n",
              "        642.2242 ])"
            ]
          },
          "metadata": {
            "tags": []
          },
          "execution_count": 60
        }
      ]
    },
    {
      "cell_type": "code",
      "metadata": {
        "id": "i2yIA-vU5pVt",
        "outputId": "9f04d087-9849-4c77-a93c-12fceb12a4ae"
      },
      "source": [
        "combine_data['epc_hot_water_cost_current'].describe()"
      ],
      "execution_count": null,
      "outputs": [
        {
          "output_type": "execute_result",
          "data": {
            "text/plain": [
              "count    960356.000000\n",
              "mean        140.895424\n",
              "std          75.444502\n",
              "min         -31.000000\n",
              "25%          95.000000\n",
              "50%         116.000000\n",
              "75%         161.000000\n",
              "max        1411.000000\n",
              "Name: epc_hot_water_cost_current, dtype: float64"
            ]
          },
          "metadata": {
            "tags": []
          },
          "execution_count": 61
        }
      ]
    },
    {
      "cell_type": "code",
      "metadata": {
        "id": "iapNoPT15pVt",
        "outputId": "bbb6c500-638a-4652-9b75-f0fd484187f4"
      },
      "source": [
        "print(combine_data['epc_hot_water_cost_current'].isnull().sum())"
      ],
      "execution_count": null,
      "outputs": [
        {
          "output_type": "stream",
          "text": [
            "1018421\n"
          ],
          "name": "stdout"
        }
      ]
    },
    {
      "cell_type": "code",
      "metadata": {
        "id": "T9xxKVPV5pVu",
        "outputId": "2361de0c-7eb5-4280-d3ac-62164a39732d"
      },
      "source": [
        "combine_data.epc_hot_water_cost_current.unique()"
      ],
      "execution_count": null,
      "outputs": [
        {
          "output_type": "execute_result",
          "data": {
            "text/plain": [
              "array([      nan, 259.     ,  87.     , ...,  98.16898, 199.71954,\n",
              "        84.10469])"
            ]
          },
          "metadata": {
            "tags": []
          },
          "execution_count": 63
        }
      ]
    },
    {
      "cell_type": "code",
      "metadata": {
        "id": "DvKg8qjL5pVu",
        "outputId": "8f2da8b2-1fd2-432f-eb13-d596395891a7"
      },
      "source": [
        "combine_data['epc_lighting_cost_current'].describe()"
      ],
      "execution_count": null,
      "outputs": [
        {
          "output_type": "execute_result",
          "data": {
            "text/plain": [
              "count    960356.000000\n",
              "mean         78.930790\n",
              "std          40.838095\n",
              "min          -8.000000\n",
              "25%          54.000000\n",
              "50%          72.000000\n",
              "75%          95.000000\n",
              "max        6760.000000\n",
              "Name: epc_lighting_cost_current, dtype: float64"
            ]
          },
          "metadata": {
            "tags": []
          },
          "execution_count": 64
        }
      ]
    },
    {
      "cell_type": "code",
      "metadata": {
        "id": "gpZEOaCl5pVu",
        "outputId": "a857659e-5a79-4b47-d09c-1e4ef3ce19e7"
      },
      "source": [
        "print(combine_data['epc_lighting_cost_current'].isnull().sum())"
      ],
      "execution_count": null,
      "outputs": [
        {
          "output_type": "stream",
          "text": [
            "1018421\n"
          ],
          "name": "stdout"
        }
      ]
    },
    {
      "cell_type": "code",
      "metadata": {
        "id": "ZpAQIdfr5pVv",
        "outputId": "cce3d90e-02e4-4d2a-8641-3e5cf428fc8e"
      },
      "source": [
        "combine_data.epc_lighting_cost_current.unique()"
      ],
      "execution_count": null,
      "outputs": [
        {
          "output_type": "execute_result",
          "data": {
            "text/plain": [
              "array([       nan, 189.      ,  67.      , ...,  71.114075,  48.40139 ,\n",
              "        56.10401 ])"
            ]
          },
          "metadata": {
            "tags": []
          },
          "execution_count": 66
        }
      ]
    },
    {
      "cell_type": "code",
      "metadata": {
        "id": "ndhfrqo55pVv",
        "outputId": "e89e3f5f-7376-46b0-d232-a46e5ead6896"
      },
      "source": [
        "combine_data['epc_number_open_fireplaces'].describe()"
      ],
      "execution_count": null,
      "outputs": [
        {
          "output_type": "execute_result",
          "data": {
            "text/plain": [
              "count    853001.000000\n",
              "mean          0.200909\n",
              "std           0.572482\n",
              "min           0.000000\n",
              "25%           0.000000\n",
              "50%           0.000000\n",
              "75%           0.000000\n",
              "max          75.000000\n",
              "Name: epc_number_open_fireplaces, dtype: float64"
            ]
          },
          "metadata": {
            "tags": []
          },
          "execution_count": 67
        }
      ]
    },
    {
      "cell_type": "code",
      "metadata": {
        "scrolled": true,
        "id": "e0cbSYi25pVv",
        "outputId": "6f96017c-9067-4294-9625-d22c288c9418"
      },
      "source": [
        "print(combine_data['epc_number_open_fireplaces'].isnull().sum())"
      ],
      "execution_count": null,
      "outputs": [
        {
          "output_type": "stream",
          "text": [
            "1125776\n"
          ],
          "name": "stdout"
        }
      ]
    },
    {
      "cell_type": "code",
      "metadata": {
        "id": "TTnZMITa5pVw",
        "outputId": "5ef8da56-8b81-40e9-a19a-bdea25e1f38d"
      },
      "source": [
        "combine_data.epc_number_open_fireplaces.unique()"
      ],
      "execution_count": null,
      "outputs": [
        {
          "output_type": "execute_result",
          "data": {
            "text/plain": [
              "array([nan,  0.,  1.,  2.,  3.,  4.,  6.,  7.,  5.,  9., 10.,  8., 12.,\n",
              "       18., 11., 15., 30., 20., 14., 50., 21., 19., 25., 16., 75., 60.,\n",
              "       40.])"
            ]
          },
          "metadata": {
            "tags": []
          },
          "execution_count": 69
        }
      ]
    },
    {
      "cell_type": "code",
      "metadata": {
        "id": "0B4ESGpS5pVw",
        "outputId": "d224bfc1-cca1-4d2e-fb98-90022631a0c3"
      },
      "source": [
        "combine_data['epc_potential_energy_rating'].describe()"
      ],
      "execution_count": null,
      "outputs": [
        {
          "output_type": "execute_result",
          "data": {
            "text/plain": [
              "count     960356\n",
              "unique         8\n",
              "top            C\n",
              "freq      378269\n",
              "Name: epc_potential_energy_rating, dtype: object"
            ]
          },
          "metadata": {
            "tags": []
          },
          "execution_count": 70
        }
      ]
    },
    {
      "cell_type": "code",
      "metadata": {
        "id": "z4CP7ShV5pVw",
        "outputId": "8ac3fcc8-bef6-405d-9fa6-f6b835cfad3b"
      },
      "source": [
        "print(combine_data['epc_potential_energy_rating'].isnull().sum())"
      ],
      "execution_count": null,
      "outputs": [
        {
          "output_type": "stream",
          "text": [
            "1018421\n"
          ],
          "name": "stdout"
        }
      ]
    },
    {
      "cell_type": "code",
      "metadata": {
        "id": "xWJffqlQ5pVw",
        "outputId": "4ac50a51-f4c1-4348-bae0-89e3f6db5c32"
      },
      "source": [
        "combine_data.epc_potential_energy_rating.unique()"
      ],
      "execution_count": null,
      "outputs": [
        {
          "output_type": "execute_result",
          "data": {
            "text/plain": [
              "array([nan, 'D', 'A', 'C', 'B', 'E', 'F', 'G', 'I'], dtype=object)"
            ]
          },
          "metadata": {
            "tags": []
          },
          "execution_count": 72
        }
      ]
    },
    {
      "cell_type": "code",
      "metadata": {
        "id": "knji_xQd5pVx",
        "outputId": "921f360c-bca3-4c85-e8ad-3e24a598eacd"
      },
      "source": [
        "combine_data['epc_property_type'].describe()"
      ],
      "execution_count": null,
      "outputs": [
        {
          "output_type": "execute_result",
          "data": {
            "text/plain": [
              "count     960356\n",
              "unique         5\n",
              "top        House\n",
              "freq      689814\n",
              "Name: epc_property_type, dtype: object"
            ]
          },
          "metadata": {
            "tags": []
          },
          "execution_count": 73
        }
      ]
    },
    {
      "cell_type": "code",
      "metadata": {
        "id": "mlDi8um95pVx",
        "outputId": "f59798a0-7f95-4128-b08e-961ab2c421a6"
      },
      "source": [
        "print(combine_data['epc_property_type'].isnull().sum())"
      ],
      "execution_count": null,
      "outputs": [
        {
          "output_type": "stream",
          "text": [
            "1018421\n"
          ],
          "name": "stdout"
        }
      ]
    },
    {
      "cell_type": "code",
      "metadata": {
        "id": "gFoKg3o75pVx",
        "outputId": "94bdf787-d044-4929-b2e7-b212e00d5569"
      },
      "source": [
        "combine_data.epc_property_type.unique()"
      ],
      "execution_count": null,
      "outputs": [
        {
          "output_type": "execute_result",
          "data": {
            "text/plain": [
              "array([nan, 'House', 'Flat', 'Maisonette', 'Bungalow', 'Park home'],\n",
              "      dtype=object)"
            ]
          },
          "metadata": {
            "tags": []
          },
          "execution_count": 75
        }
      ]
    },
    {
      "cell_type": "code",
      "metadata": {
        "id": "0q64W0r-5pVx",
        "outputId": "01819803-774d-42f5-ae5a-5164acbfebd1"
      },
      "source": [
        "combine_data['epc_roof_description'].describe()"
      ],
      "execution_count": null,
      "outputs": [
        {
          "output_type": "execute_result",
          "data": {
            "text/plain": [
              "count                              959962\n",
              "unique                                855\n",
              "top       Pitched, 100 mm loft insulation\n",
              "freq                               122497\n",
              "Name: epc_roof_description, dtype: object"
            ]
          },
          "metadata": {
            "tags": []
          },
          "execution_count": 76
        }
      ]
    },
    {
      "cell_type": "code",
      "metadata": {
        "scrolled": true,
        "id": "QvLCeyMJ5pVy",
        "outputId": "7aee785b-606a-473c-9d3d-6772d239d8cc"
      },
      "source": [
        "print(combine_data['epc_roof_description'].isnull().sum())"
      ],
      "execution_count": null,
      "outputs": [
        {
          "output_type": "stream",
          "text": [
            "1018815\n"
          ],
          "name": "stdout"
        }
      ]
    },
    {
      "cell_type": "code",
      "metadata": {
        "id": "nE6H_wid5pVy",
        "outputId": "a32ccc59-d7d1-49ce-8581-3d9140d4d3d9"
      },
      "source": [
        "combine_data.epc_roof_description.unique()"
      ],
      "execution_count": null,
      "outputs": [
        {
          "output_type": "execute_result",
          "data": {
            "text/plain": [
              "array([nan, 'Pitched, insulated (assumed)',\n",
              "       'Average thermal transmittance 0.14 W/m²K', 'Roof',\n",
              "       'Pitched, 200 mm loft insulation',\n",
              "       'Pitched, 150 mm loft insulation', '(another dwelling above)',\n",
              "       'Roof room(s), ceiling insulated',\n",
              "       'Pitched, 100 mm loft insulation', 'Flat, insulated (assumed)',\n",
              "       'Pitched, 150mm loft insulation', 'Pitched, insulated at rafters',\n",
              "       'Pitched, 50mm loft insulation', 'Pitched, no insulation',\n",
              "       'Pitched, 250 mm loft insulation',\n",
              "       'Pitched, no insulation (assumed)',\n",
              "       'Pitched, 270 mm loft insulation',\n",
              "       'Pitched, 75 mm loft insulation', 'Pitched, 0 mm loft insulation',\n",
              "       'Pitched, limited insulation (assumed)',\n",
              "       'Pitched, 50 mm loft insulation',\n",
              "       'Pitched, 300+ mm loft insulation', '(other premises above)',\n",
              "       'Pitched, loft insulation', 'Roof room(s), insulated (assumed)',\n",
              "       'Pitched, 300 mm loft insulation',\n",
              "       'Average thermal transmittance 0.11 W/m?K',\n",
              "       'Average thermal transmittance 0.14 W/m?K',\n",
              "       'Average thermal transmittance 0.11 W/m²K',\n",
              "       'Pitched, 250mm loft insulation',\n",
              "       'Average thermal transmittance 0.09 W/m²K',\n",
              "       'Flat, limited insulation (assumed)',\n",
              "       'Average thermal transmittance 0.15 W/m?K',\n",
              "       'Average thermal transmittance 0.33 W/m²K',\n",
              "       'Pitched, 200mm loft insulation', 'Flat, no insulation (assumed)',\n",
              "       'Average thermal transmittance = 0.14 W/m?K',\n",
              "       'Pitched, 25 mm loft insulation',\n",
              "       'Average thermal transmittance 0.18 W/m?K',\n",
              "       'Average thermal transmittance 0.10 W/m²K',\n",
              "       'Pitched, 12mm loft insulation',\n",
              "       'Average thermal transmittance 0.09 W/m?K',\n",
              "       'Flat, limited insulation',\n",
              "       'Average thermal transmittance 0.10 W/m?K',\n",
              "       'Pitched, 100 mm loft insulation + Chr(13) + Flat, insulated (assumed)',\n",
              "       'Roof room(s), insulated',\n",
              "       'Roof room(s), limited insulation (assumed)', 'SAP05:Roof',\n",
              "       'Roof room(s), no insulation (assumed)',\n",
              "       'Average thermal transmittance 0.17 W/m²K',\n",
              "       'Pitched, 300+  mm loft insulation',\n",
              "       'Pitched, 100mm loft insulation',\n",
              "       'Average thermal transmittance 0.13 W/m?K',\n",
              "       'Average thermal transmittance 0.19 W/m?K',\n",
              "       'Average thermal transmittance 0.13 W/m²K',\n",
              "       'Pitched, 75mm loft insulation',\n",
              "       'Pitched, 100 mm loft insulation + Chr(13) + (another dwelling above) + Chr(13) + Pitched, insulated (assumed)',\n",
              "       'Pitched, no insulation(assumed)',\n",
              "       'Average thermal transmittance 0.22 W/m?K',\n",
              "       'Average thermal transmittance = 0.13 W/m?K',\n",
              "       'Pitched, no insulation (assumed) + Chr(13) + Pitched, limited insulation (assumed)',\n",
              "       'Average thermal transmittance 0.16 W/m²K',\n",
              "       'Average thermal transmittance 0.15 W/m²K',\n",
              "       'Pitched, 12 mm loft insulation',\n",
              "       'Pitched, 400+ mm loft insulation',\n",
              "       'Average thermal transmittance 0.16 W/m?K',\n",
              "       'Average thermal transmittance 0.17 W/mA?K',\n",
              "       'Average thermal transmittance 0.25 W/m?K',\n",
              "       'Average thermal transmittance 0.1 W/m²K',\n",
              "       'Ystafell(oedd) to, dim inswleiddio (rhagdybiaeth)',\n",
              "       'Average thermal transmittance 0.17 W/m?K',\n",
              "       'Average thermal transmittance 0.23 W/m?K',\n",
              "       'Average thermal transmittance 0.16 W/mÂ²K',\n",
              "       'Average thermal transmittance 0.24 W/m?K', 'Flat, insulated',\n",
              "       'Average thermal transmittance = 0.11 W/m?K',\n",
              "       'Average thermal transmittance = 0.21 W/m?K',\n",
              "       'Average thermal transmittance 0.12 W/m²K',\n",
              "       'Pitched, 50 mm loft insulation + Chr(13) + Flat, insulated (assumed)',\n",
              "       'Average thermal transmittance 0.17 W/m&#0178;K',\n",
              "       'Average thermal transmittance = 0.15 W/m?K', 'Pitched',\n",
              "       'Flat, no insulation', 'Average thermal transmittance 0.12 W/m?K',\n",
              "       '(another dwelling above) + Chr(13) + Flat, insulated (assumed)',\n",
              "       'Pitched, 100 mm loft insulation + Chr(13) + Pitched, insulated (assumed)',\n",
              "       'Pitched, insulated', 'Thatched',\n",
              "       'Pitched, 350 mm loft insulation',\n",
              "       'Average thermal transmittance 0.15 W/m&#0178;K',\n",
              "       'Thatched, with additional insulation',\n",
              "       'Pitched, 300+mm loft insulation',\n",
              "       'Average thermal transmittance 0.18 W/m&#0178;K',\n",
              "       'Average thermal transmittance 0.11 W/mÂ²K',\n",
              "       'Average thermal transmittance 0.21 W/m?K',\n",
              "       'Average thermal transmittance 0.16 W/m&#0178;K',\n",
              "       'Average thermal transmittance 0.20 W/m²K',\n",
              "       'Pitched, limited insulation',\n",
              "       'Pitched, 50 mm loft insulation + Chr(13) + Flat, limited insulation (assumed)',\n",
              "       'Average thermal transmittance 0.20 W/m?K',\n",
              "       'Average thermal transmittance 0.23 W/m²K',\n",
              "       'Pitched, 300mm loft insulation', 'Pitched,  loft insulation',\n",
              "       'Pitched, 75 mm loft insulation + Chr(13) + Roof room(s), no insulation (assumed)',\n",
              "       'Average thermal transmittance = 0.29 W/m?K',\n",
              "       'Average thermal transmittance 0.40 W/m²K',\n",
              "       'Roof room(s), thatched with additional insulation', 'Flat',\n",
              "       'Pitched, 25mm loft insulation',\n",
              "       'Pitched, insulated (assumed) + Chr(13) + Roof room(s), no insulation (assumed) + Chr(13) + Roof room(s), insulated (assumed)',\n",
              "       'Pitched, 300 mm loft insulation + Chr(13) + Pitched, insulated (assumed)',\n",
              "       'Average thermal transmittance 0.21 W/m²K',\n",
              "       'Average thermal transmittance 0.18 W/m²K',\n",
              "       'Average thermal transmittance 0.1 W/m?K',\n",
              "       'Average thermal transmittance 0.00 W/m?K',\n",
              "       'Average thermal transmittance 0.2 W/m²K',\n",
              "       'Pitched, 50 mm loft insulation + Chr(13) + Pitched, no insulation (assumed)',\n",
              "       'Average thermal transmittance = 0.12 W/m?K',\n",
              "       'Average thermal transmittance 2.54 W/m²K',\n",
              "       'Pitched, 100 mm loft insulation + Chr(13) + Flat, no insulation (assumed)',\n",
              "       'Average thermal transmittance 0.27 W/m?K',\n",
              "       'Average thermal transmittance 0.08 W/m²K',\n",
              "       'Pitched, 100 mm loft insulation + Chr(13) + Roof room(s), insulated (assumed)',\n",
              "       'Pitched, 400 mm loft insulation',\n",
              "       'Average thermal transmittance 0.15 W/mA?K',\n",
              "       'Average thermal transmittance 0.28 W/m?K',\n",
              "       'Pitched, no insulation (assumed).',\n",
              "       'Average thermal transmittance 0.07 W/m?K',\n",
              "       'Average thermal transmittance 0.14 W/m&#0178;K',\n",
              "       'Average thermal transmittance 0 W/m?K',\n",
              "       'Average thermal transmittance 0.10 W/mÂ²K',\n",
              "       'Average thermal transmittance = 0.25 W/m?K',\n",
              "       'Average thermal transmittance 0.22 W/m²K',\n",
              "       'Pitched, 150 mm loft insulation + Chr(13) + Roof room(s), limited insulation (assumed)',\n",
              "       'Average thermal transmittance 0.16 W/m2K',\n",
              "       'Pitched, insulated (assumed) + Chr(13) + Roof room(s), insulated (assumed)',\n",
              "       'Average thermal transmittance = 0.30 W/m?K',\n",
              "       'Average thermal transmittance = 0.20 W/m?K',\n",
              "       'Average thermal transmittance = 0.16 W/m?K',\n",
              "       'Average thermal transmittance 0.16 W/m??K',\n",
              "       'Pitched, 50 mm loft insulation + Chr(13) + Pitched, insulated (assumed)',\n",
              "       'Roof room(s), no insulation', 'Pitched, none loft insulation',\n",
              "       'Pitched, 100 mm loft insulation + Chr(13) + Pitched, 250 mm loft insulation',\n",
              "       'Average thermal transmittance = 0.01 W/m?K',\n",
              "       'Pitched, 200 mm loft insulation + Chr(13) + Pitched, 300 mm loft insulation',\n",
              "       'Average thermal transmittance 0.03 W/m?K',\n",
              "       'Pitched, 200 mm loft insulation + Chr(13) + Flat, limited insulation (assumed) + Chr(13) + Pitched, limited insulation (assumed)',\n",
              "       'Pitched, insulated (assumed).',\n",
              "       'Pitched, 50 mm loft insulation + Chr(13) + Pitched, limited insulation (assumed) + Chr(13) + Flat, limited insulation (assumed)',\n",
              "       'Pitched, 150 mm loft insulation + Chr(13) + Flat, insulated (assumed)',\n",
              "       'Pitched, 250 mm loft insulation + Chr(13) + Flat, insulated (assumed)',\n",
              "       'Pitched, 250 mm loft insulation + Chr(13) + Roof room(s), insulated (assumed)',\n",
              "       'Roof room(s), thatched',\n",
              "       'Average thermal transmittance = 0.19 W/m?K',\n",
              "       'Average thermal transmittance 0.01 W/m?K', 'Flat,',\n",
              "       'Average thermal transmittance 0.16 W/mA?K',\n",
              "       'Average thermal transmittance = 0.17 W/m?K',\n",
              "       'Average thermal transmittance 0.18 W/m2K',\n",
              "       'Average thermal transmittance 0.2 W/m?K',\n",
              "       'Pitched, >=300 mm loft insulation',\n",
              "       'Pitched, no insulation (assumed) + Chr(13) + Roof room(s), limited insulation (assumed)',\n",
              "       'Pitched, 100 mm loft insulation + Chr(13) + Pitched, 150 mm loft insulation',\n",
              "       'Average thermal transmittance = 0.04 W/m?K',\n",
              "       'Pitched, no insulation (assumed) + Chr(13) + Roof room(s), no insulation (assumed)',\n",
              "       'Pitched, no insulation (assumed) + Chr(13) + Pitched, insulated (assumed)',\n",
              "       'Average thermal transmittance 0.26 W/m²K',\n",
              "       'Average thermal transmittance 0.07 W/m²K',\n",
              "       'Pitched, 100 mm loft insulation + Chr(13) + Roof room(s), no insulation (assumed)',\n",
              "       'Average thermal transmittance 0.08 W/m?K',\n",
              "       'Average thermal transmittance 0.22 W/m&#0178;K',\n",
              "       'Average thermal transmittance = 0.24 W/m?K',\n",
              "       'Pitched, >= 300mm loft insulation',\n",
              "       'Average thermal transmittance 0.13 W/mÂ²K',\n",
              "       'Pitched, 250 mm loft insulation + Chr(13) + Pitched, insulated (assumed)',\n",
              "       'Average thermal transmittance 0.46 W/mA?K',\n",
              "       'Average thermal transmittance 0.25 W/m²K',\n",
              "       'Average thermal transmittance 0.14 W/m2K',\n",
              "       'Average thermal transmittance 0.19 W/m²K', 'Other premises above',\n",
              "       'Pitched, 100 mm loft insulation + Chr(13) + Roof room(s), limited insulation (assumed)',\n",
              "       'Pitched, 0 mm loft insulation + Chr(13) + Flat, limited insulation (assumed)',\n",
              "       'Average thermal transmittance 0.29 W/m?K',\n",
              "       'Pitched, no insulation (assumed) + Chr(13) + Flat, no insulation (assumed)',\n",
              "       'Pitched, no insulation (assumed) + Chr(13) + Pitched, 200 mm loft insulation + Chr(13) + Pitched, insulated (assumed) + Chr(13) + Roof room(s), limite',\n",
              "       'Pitched, 50 mm loft insulation + Chr(13) + Pitched, limited insulation (assumed)',\n",
              "       'Pitched, Unknown loft insulation',\n",
              "       'Average thermal transmittance 1.44 W/m²K',\n",
              "       'Average thermal transmittance 0.15 W/m??K',\n",
              "       'Pitched, 100 mm loft insulation + Chr(13) + Pitched, no insulation (assumed)',\n",
              "       'Average thermal transmittance 0.34 W/m²K',\n",
              "       'Average thermal transmittance 0.08 W/mA?K',\n",
              "       'Average thermal transmittance = 0.18 W/m?K', 'Dwelling Above',\n",
              "       'Pitched, 250 mm loft insulation + Chr(13) + Flat, limited insulation (assumed)',\n",
              "       'Average thermal transmittance 0.20 W/m&#0178;K',\n",
              "       'Pitched, 200 mm loft insulation + Chr(13) + Flat, insulated (assumed)',\n",
              "       'Average thermal transmittance 0.26 W/m?K',\n",
              "       'Pitched, 150 mm loft insulation + Chr(13) + Pitched, no insulation (assumed)',\n",
              "       'Pitched, 150 mm loft insulation + Chr(13) + Roof room(s), no insulation (assumed)',\n",
              "       'Roof room(s), no insulation(assumed)',\n",
              "       'Pitched, 75 mm loft insulation + Chr(13) + Pitched, no insulation (assumed)',\n",
              "       'Pitched, insulated (assumed) + Chr(13) + Roof room(s), no insulation (assumed)',\n",
              "       'Average thermal transmittance 0.35 W/m?K',\n",
              "       'Pitched, 0 mm loft insulation + Chr(13) + Pitched, insulated (assumed)',\n",
              "       'Average thermal transmittance 0.14 W/mA?K',\n",
              "       'Average thermal transmittance 0.20 W/m2K',\n",
              "       'Pitched, 100 mm loft insulation + Chr(13) + Flat, insulated (assumed) + Chr(13) + Pitched, no insulation (assumed)',\n",
              "       'Pitched, no insulation (assumed) + Chr(13) + Roof room(s), insulated (assumed)',\n",
              "       'Pitched, no insulation (assumed) + Chr(13) + Pitched, insulated (assumed) + Chr(13) + Roof room(s), insulated (assumed)',\n",
              "       'Pitched, 150 mm loft insulation + Chr(13) + Pitched, insulated (assumed)',\n",
              "       'Pitched, 300 mm loft insulation + Chr(13) + Flat, limited insulation (assumed)',\n",
              "       'Pitched, limited insulation (assumed) + Chr(13) + Roof room(s), limited insulation (assumed)',\n",
              "       'Pitched, insulated (assumed) + Chr(13) + Roof room(s), limited insulation (assumed)',\n",
              "       'Pitched, 150 mm loft insulation + Chr(13) + Flat, limited insulation (assumed)',\n",
              "       'Average thermal transmittance 0.15 W/m2K',\n",
              "       '(other premises above)|(eiddo arall uwchben)',\n",
              "       'Average thermal transmittance 0.25 W/m?K|Trawsyriannedd thermol cyfartalog 0.25 W/m?K',\n",
              "       'Average thermal transmittance 0.13 W/m2K',\n",
              "       'Average thermal transmittance 0.19 W/m2K',\n",
              "       'Pitched, 75 mm loft insulation + Chr(13) + Flat, insulated (assumed)',\n",
              "       'Average thermal transmittance 0 W/m²K',\n",
              "       'Average thermal transmittance = 0.22 W/m?K',\n",
              "       'Pitched, 75 mm loft insulation + Chr(13) + Pitched, insulated (assumed)',\n",
              "       'Pitched, 50 mm loft insulation + Chr(13) + Roof room(s), insulated (assumed)',\n",
              "       'Average thermal transmittance 0 W/m&#0178;K',\n",
              "       'Average thermal transmittance 0.13 W/m?K|Trawsyriannedd thermol cyfartalog 0.13 W/m?K',\n",
              "       'Average thermal transmittance 0.18 W/m??K',\n",
              "       'Pitched, 150 mm loft insulation + Chr(13) + Roof room(s), insulated (assumed)',\n",
              "       'Average thermal transmittance 0.45 W/m?K',\n",
              "       'Pitched, 100 mm loft insulation + Chr(13) + Flat, limited insulation (assumed)',\n",
              "       'Average thermal transmittance = 0.23 W/m?K',\n",
              "       'Pitched, 200 mm loft insulation + Chr(13) + Roof room(s), insulated (assumed)',\n",
              "       'Pitched, 25 mm loft insulation + Chr(13) + Pitched, insulated (assumed)',\n",
              "       'Average thermal transmittance 0.24 W/m2K',\n",
              "       'Pitched, 12 mm loft insulation + Chr(13) + Pitched, limited insulation (assumed)',\n",
              "       'Average thermal transmittance 0.06 W/m?K',\n",
              "       'Flat, no insulation (assumed) + Chr(13) + Flat, insulated (assumed)',\n",
              "       'Average thermal transmittance 0.17 W/m2K',\n",
              "       'Pitched, no insulation (assumed) + Chr(13) + Flat, limited insulation (assumed)',\n",
              "       'Average thermal transmittance 0.14 W/m??K|Trawsyriannedd thermol cyfartalog 0.14 W/m??K',\n",
              "       'Pitched, 100 mm loft insulation + Chr(13) + Pitched, 50 mm loft insulation',\n",
              "       'Average thermal transmittance 1.12 W/mÂ²K',\n",
              "       'Pitched, 250 mm loft insulation + Chr(13) + Pitched, no insulation (assumed)',\n",
              "       'Average thermal transmittance 0.16 W/m??K|Trawsyriannedd thermol cyfartalog 0.16 W/m??K',\n",
              "       'Average thermal transmittance 2.3 W/m²K',\n",
              "       'Pitched, 1 mm loft insulation',\n",
              "       'Pitched, 75 mm loft insulation + Chr(13) + Flat, no insulation (assumed)',\n",
              "       'Pitched, 25 mm loft insulation + Chr(13) + Roof room(s), no insulation (assumed)',\n",
              "       'Pitched, 75 mm loft insulation + Chr(13) + Flat, limited insulation (assumed)',\n",
              "       'Average thermal transmittance 0.00 W/m&#0178;K',\n",
              "       'Average thermal transmittance 0.13 W/m&#0178;K',\n",
              "       'Pitched, 200 mm loft insulation + Chr(13) + Pitched, no insulation (assumed)',\n",
              "       'Pitched, 100 mm loft insulation + Chr(13) + Pitched, insulated (assumed) + Chr(13) + Flat, insulated (assumed)',\n",
              "       'Average thermal transmittance 0.27 W/m²K',\n",
              "       'Average thermal transmittance 0.11 W/m&#0178;K',\n",
              "       'Pitched, 50 mm loft insulation + Chr(13) + Flat, no insulation (assumed)',\n",
              "       'Average thermal transmittance 0.15 W/mÂ²K',\n",
              "       'Average thermal transmittance 0.10 W/m??K',\n",
              "       'Pitched, 250 mm loft insulation + Chr(13) + Pitched, no insulation (assumed) + Chr(13) + Roof room(s), limited insulation (assumed)',\n",
              "       'Average thermal transmittance 0.14 W/mÂ²K',\n",
              "       'Average thermal transmittance 0.15 W/m?K|Trawsyriannedd thermol cyfartalog 0.15 W/m?K',\n",
              "       'Average thermal transmittance 0.32 W/m²K',\n",
              "       'Pitched, 75 mm loft insulation + Chr(13) + Roof room(s), insulated (assumed)',\n",
              "       'Average thermal transmittance 0.33 W/m?K',\n",
              "       'Pitched, 0 mm loft insulation + Chr(13) + Pitched, 250 mm loft insulation',\n",
              "       'Average thermal transmittance 0.18 W/mÂ²K',\n",
              "       'Average thermal transmittance 0.17 W/m??K|Trawsyriannedd thermol cyfartalog 0.17 W/m??K',\n",
              "       'Pitched, 25 mm loft insulation + Chr(13) + Flat, insulated (assumed)',\n",
              "       'Pitched, 150 mm loft insulation + Chr(13) + Pitched, limited insulation (assumed) + Chr(13) + Pitched, insulated (assumed)',\n",
              "       'Pitched, 100 mm loft insulation + Chr(13) + Pitched, insulated (assumed) + Chr(13) + Roof room(s), no insulation (assumed)',\n",
              "       'Flat, no insulation (assumed) + Chr(13) + Pitched, no insulation (assumed)',\n",
              "       'Pitched, 250 mm loft insulation + Chr(13) + Roof room(s), no insulation (assumed)',\n",
              "       'Pitched, no insulation (assumed) + Chr(13) + Pitched, 150 mm loft insulation + Chr(13) + Roof room(s), limited insulation (assumed)',\n",
              "       'Pitched, 75 mm loft insulation + Chr(13) + Pitched, limited insulation (assumed)',\n",
              "       'Average thermal transmittance 0.13 W/m??K',\n",
              "       'Pitched, 250 mm loft insulation + Chr(13) + Pitched, insulated (assumed) + Chr(13) + Flat, insulated (assumed)',\n",
              "       'Pitched, 50 mm loft insulation + Chr(13) + Pitched, no insulation (assumed) + Chr(13) + Roof room(s), no insulation (assumed)',\n",
              "       'Average thermal transmittance 0.18 W/mA?K',\n",
              "       'Average thermal transmittance 2.30 W/m²K',\n",
              "       'Roof room(s), no insulation (assumed) + Chr(13) + Roof room(s), insulated (assumed)',\n",
              "       'Average thermal transmittance 0.08 W/m&#0178;K',\n",
              "       'Pitched, 300 mm loft insulation + Chr(13) + Roof room(s), insulated (assumed)',\n",
              "       'Pitched. Loft insulation at rafters.',\n",
              "       'Average thermal transmittance 0.24 W/m²K',\n",
              "       'Pitched, no insulation (assumed) + Chr(13) + Flat, insulated (assumed) + Chr(13) + Roof room(s), insulated (assumed)',\n",
              "       'Pitched, 25 mm loft insulation + Chr(13) + Flat, no insulation (assumed)',\n",
              "       'Pitched, 200 mm loft insulation + Chr(13) + Flat, limited insulation (assumed)',\n",
              "       'Pitched, 250 mm loft insulation + Chr(13) + Pitched, insulated (assumed) + Chr(13) + Roof room(s), insulated (assumed)',\n",
              "       'Pitched, limited insulation (assumed) + Chr(13) + Flat, limited insulation (assumed) + Chr(13) + Roof room(s), limited insulation (assumed)',\n",
              "       'Pitched, 300 mm loft insulation + Chr(13) + Flat, no insulation (assumed)',\n",
              "       'Average thermal transmittance 0.28 W/m²K',\n",
              "       'Average thermal transmittance 0.31 W/m²K',\n",
              "       'Average thermal transmittance 0.06 W/m²K',\n",
              "       'Pitched, no insulation (assumed) + Chr(13) + Flat, no insulation (assumed) + Chr(13) + Roof room(s), insulated (assumed)',\n",
              "       'Average thermal transmittance 0.30 W/m?K',\n",
              "       'Average thermal transmittance 0.21 W/m&#0178;K',\n",
              "       'Average thermal transmittance 0.11 W/mA?K',\n",
              "       'Pitched, 50 mm loft insulation + Chr(13) + Roof room(s), limited insulation (assumed)',\n",
              "       'Pitched,', 'Average thermal transmittance 0.19 W/mA?K',\n",
              "       'Average thermal transmittance 0.12 W/mÂ²K',\n",
              "       'Average thermal transmittance 0.03 W/m²K',\n",
              "       'Average thermal transmittance 0.46 W/m?K',\n",
              "       'Average thermal transmittance 0.20 W/mA?K',\n",
              "       'Average thermal transmittance 0.65 W/m²K',\n",
              "       'Pitched, 50 mm loft insulation + Chr(13) + Roof room(s), no insulation (assumed)',\n",
              "       'Pitched, 250 mm loft insulation + Chr(13) + Pitched, 75 mm loft insulation + Chr(13) + Flat, no insulation (assumed)',\n",
              "       'Pitched, 150 mm loft insulation + Chr(13) + Pitched, limited insulation (assumed)',\n",
              "       'Pitched, 75 mm loft insulation + Chr(13) + Roof room(s), limited insulation (assumed)',\n",
              "       'Pitched, no insulation (assumed) + Chr(13) + Flat, insulated (assumed)',\n",
              "       'Pitched, 200 mm loft insulation + Chr(13) + (another dwelling above)',\n",
              "       'Pitched, 75 mm loft insulation + Chr(13) + Flat, limited insulation (assumed) + Chr(13) + Flat, insulated (assumed)',\n",
              "       'Pitched, 200 mm loft insulation + Chr(13) + Pitched, insulated (assumed)',\n",
              "       'Pitched, no insulation (assumed) + Chr(13) + Flat, limited insulation (assumed) + Chr(13) + Roof room(s), insulated (assumed)',\n",
              "       'Pitched, limited insulation (assumed) + Chr(13) + Pitched, 0 mm loft insulation',\n",
              "       'Average thermal transmittance 0.29 W/m²K',\n",
              "       'Pitched, 150 mm loft insulation + Chr(13) + Flat, limited insulation (assumed) + Chr(13) + Flat, insulated (assumed)',\n",
              "       'Pitched, no insulation (assumed) + Chr(13) + Flat, limited insulation (assumed) + Chr(13) + Roof room(s), limited insulation (assumed)',\n",
              "       'Pitched, 250 mm loft insulation + Chr(13) + Pitched, limited insulation (assumed)',\n",
              "       'Average thermal transmittance 0.25 W/m&#0178;K',\n",
              "       'Average thermal transmittance 0.68 W/m²K',\n",
              "       'Average thermal transmittance 0.04 W/m²K',\n",
              "       'Average thermal transmittance 0.19 W/m&#0178;K',\n",
              "       'Average thermal transmittance 0.31 W/m?K',\n",
              "       'Pitched, 0mm loft insulation',\n",
              "       'Average thermal transmittance 0.17 W/m??K',\n",
              "       '(another dwelling above) + Chr(13) + Pitched, 250 mm loft insulation',\n",
              "       'Pitched, 0 mm loft insulation + Chr(13) + Roof room(s), insulated (assumed)',\n",
              "       'Average thermal transmittance 0.45 W/m²K',\n",
              "       'Average thermal transmittance 0.14 W/m??K',\n",
              "       'Pitched, no insulation (assumed) + Chr(13) + Pitched, 75 mm loft insulation',\n",
              "       'Pitched + Chr(13) + Roof room(s), insulated (assumed)',\n",
              "       'Average thermal transmittance 0.13 W/m??K|Trawsyriannedd thermol cyfartalog 0.13 W/m??K',\n",
              "       'Pitched, limited insulation (assumed).',\n",
              "       'Average thermal transmittance 0.66 W/m²K',\n",
              "       'Average thermal transmittance 0.13 W/mA?K',\n",
              "       'Pitched, 12 mm loft insulation + Chr(13) + Roof room(s), no insulation (assumed)',\n",
              "       'Average thermal transmittance 0.19 W/m?K|Trawsyriannedd thermol cyfartalog 0.19 W/m?K',\n",
              "       'Average thermal transmittance = 0.32 W/m?K',\n",
              "       'Pitched, 50 mm loft insulation + Chr(13) + Pitched, 0 mm loft insulation',\n",
              "       'Average thermal transmittance 0.23 W/m&#0178;K',\n",
              "       'Average thermal transmittance 0.15 W/m??K|Trawsyriannedd thermol cyfartalog 0.15 W/m??K',\n",
              "       'Average thermal transmittance 0.35 W/m²K',\n",
              "       'Average thermal transmittance = 0.03 W/m?K',\n",
              "       'Average thermal transmittance 0.20 W/m??K',\n",
              "       'Pitched, 200 mm loft insulation + Chr(13) + Roof room(s), limited insulation (assumed)',\n",
              "       'Pitched, limited insulation (assumed) + Chr(13) + Flat, insulated (assumed)',\n",
              "       '(another dwelling above) + Chr(13) + Pitched, no insulation (assumed)',\n",
              "       'Pitched, 300 mm loft insulation + Chr(13) + Pitched, no insulation (assumed)',\n",
              "       'Average thermal transmittance = 0.40 W/m?K',\n",
              "       'Flat, insulated (assumed) + Chr(13) + Roof room(s), limited insulation (assumed)',\n",
              "       'Average thermal transmittance 1.82 W/m?K',\n",
              "       'Pitched, 25 mm loft insulation + Chr(13) + Flat, limited insulation (assumed) + Chr(13) + Pitched, insulated (assumed)',\n",
              "       'Average thermal transmittance 0.47 W/m²K',\n",
              "       'Pitched, no insulation (assumed) + Chr(13) + Pitched, limited insulation (assumed) + Chr(13) + Roof room(s), insulated (assumed)',\n",
              "       'Pitched, 150 mm loft insulation + Chr(13) + Pitched, 0 mm loft insulation',\n",
              "       'Average thermal transmittance 0.44 W/m?K',\n",
              "       'Pitched + Chr(13) + Roof room(s), no insulation (assumed)',\n",
              "       'Average thermal transmittance = 0.28 W/m?K',\n",
              "       'Pitched, 75 mm loft insulation + Chr(13) + Pitched, 200 mm loft insulation',\n",
              "       'Pitched, 300 mm loft insulation + Chr(13) + Flat, insulated (assumed)',\n",
              "       'Pitched, 400+  mm loft insulation',\n",
              "       'Average thermal transmittance = 0.27 W/m?K',\n",
              "       'Pitched, no insulation (assumed) + Chr(13) + Pitched, limited insulation (assumed) + Chr(13) + Roof room(s), limited insulation (assumed)',\n",
              "       'Pitched, 0 mm loft insulation + Chr(13) + Roof room(s), limited insulation (assumed)',\n",
              "       'Pitched, no insulation (assumed) + Chr(13) + Flat, no insulation (assumed) + Chr(13) + Roof room(s), no insulation (assumed)',\n",
              "       'Average thermal transmittance = 0.10 W/m?K',\n",
              "       'Average thermal transmittance 0.40 W/m?K',\n",
              "       'Pitched, insulated (assumed) + Chr(13) + Flat, insulated (assumed)',\n",
              "       'Pitched, limited insulation (assumed) + Chr(13) + Pitched, insulated (assumed)',\n",
              "       'Pitched, 150 mm loft insulation + Chr(13) + Pitched, 100 mm loft insulation',\n",
              "       'Average thermal transmittance = 0.35 W/m?K',\n",
              "       'Average thermal transmittance 0.10 W/m&#0178;K',\n",
              "       'Roof room(s), no insulation (assumed) + Chr(13) + Roof room(s), limited insulation (assumed)',\n",
              "       'Pitched, 75 mm loft insulation + Chr(13) + Pitched, 100 mm loft insulation',\n",
              "       'Pitched, 200 mm loft insulation + Chr(13) + Pitched, 0 mm loft insulation',\n",
              "       'Pitched, 75 mm loft insulation + Chr(13) + Pitched, 150 mm loft insulation + Chr(13) + Roof room(s), insulated (assumed)',\n",
              "       'Pitched, 250 mm loft insulation + Chr(13) + Flat, limited insulation (assumed) + Chr(13) + Pitched, 0 mm loft insulation',\n",
              "       'Pitched, no insulation (assumed) + Chr(13) + Pitched, 100 mm loft insulation + Chr(13) + Roof room(s), no insulation (assumed)',\n",
              "       'Pitched, mm loft insulation',\n",
              "       'Pitched, *** INVALID INPUT Code : 57 *** loft insulation',\n",
              "       'Average thermal transmittance 0.55 W/m?K',\n",
              "       'Flat, limited insulation (assumed) + Chr(13) + Roof room(s), no insulation (assumed)',\n",
              "       'Average thermal transmittance 0.56 W/m?K',\n",
              "       'Pitched, 100 mm loft insulation + Chr(13) + Pitched, no insulation (assumed) + Chr(13) + Pitched, limited insulation (assumed)',\n",
              "       'Pitched, 200 mm loft insulation + Chr(13) + Flat, no insulation (assumed)',\n",
              "       'Pitched, 0 mm loft insulation + Chr(13) + Pitched, limited insulation (assumed)',\n",
              "       'Pitched, 150 mm loft insulation + Chr(13) + Pitched, 50 mm loft insulation',\n",
              "       'Pitched, 150 mm loft insulation + Chr(13) + Flat, no insulation (assumed)',\n",
              "       'Pitched, 100 mm loft insulation + Chr(13) + Pitched, 200 mm loft insulation',\n",
              "       'Average thermal transmittance 1.14 W/m?K',\n",
              "       'Average thermal transmittance 0.12 W/m?K|Trawsyriannedd thermol cyfartalog 0.12 W/m?K',\n",
              "       'Pitched, no insulation (assumed) + Chr(13) + Flat, limited insulation (assumed) + Chr(13) + Roof room(s), no insulation (assumed)',\n",
              "       'Average thermal transmittance 0.27 W/m&#0178;K',\n",
              "       'Pitched, 25 mm loft insulation + Chr(13) + Pitched, no insulation (assumed)',\n",
              "       'Pitched, 150 mm loft insulation + Chr(13) + Pitched, 250 mm loft insulation',\n",
              "       'Pitched, 0 mm loft insulation + Chr(13) + Flat, no insulation (assumed)',\n",
              "       'Average thermal transmittance 0.11 W/m??K',\n",
              "       'Pitched, 0 mm loft insulation + Chr(13) + Pitched, no insulation (assumed) + Chr(13) + Pitched, 25 mm loft insulation',\n",
              "       'Average thermal transmittance 0.19 W/m??K',\n",
              "       'Pitched, 200 mm loft insulation + Chr(13) + Pitched, 150 mm loft insulation',\n",
              "       '(another dwelling above) + Chr(13) + Pitched, no insulation (assumed) + Chr(13) + Flat, insulated (assumed)',\n",
              "       'Average thermal transmittance 0.28 W/m&#0178;K',\n",
              "       'Average thermal transmittance 0.34 W/m?K',\n",
              "       'Average thermal transmittance 0.3 W/m²K',\n",
              "       'Pitched, 0 mm loft insulation + Chr(13) + Pitched, no insulation (assumed)',\n",
              "       'Pitched, 100 mm loft insulation + Chr(13) + Pitched, 0 mm loft insulation',\n",
              "       'Pitched, 100 mm loft insulation + Chr(13) + Pitched, limited insulation (assumed)',\n",
              "       'Average thermal transmittance 0.36 W/m²K',\n",
              "       'Pitched, 200 mm loft insulation + Chr(13) + Roof room(s), no insulation (assumed)',\n",
              "       'Average thermal transmittance 0.164 W/m²K',\n",
              "       'Pitched, 0 mm loft insulation + Chr(13) + Pitched, 150 mm loft insulation',\n",
              "       'Average thermal transmittance = 0.06 W/m?K',\n",
              "       'Pitched, 75 mm loft insulation + Chr(13) + Flat, insulated (assumed) + Chr(13) + Pitched, insulated (assumed)',\n",
              "       'Pitched, 200 mm loft insulation + Chr(13) + Pitched, insulated (assumed) + Chr(13) + Roof room(s), insulated (assumed)',\n",
              "       'Pitched, 50 mm loft insulation + Chr(13) + Pitched, 100 mm loft insulation + Chr(13) + Roof room(s), insulated (assumed)',\n",
              "       'Average thermal transmittance 0.09 W/mÂ²K',\n",
              "       'Pitched, 0 mm loft insulation + Chr(13) + Flat, insulated (assumed)',\n",
              "       'Average thermal transmittance 0.5 W/m?K',\n",
              "       'Pitched, 0 mm loft insulation + Chr(13) + Flat, limited insulation (assumed) + Chr(13) + Pitched, 100 mm loft insulation',\n",
              "       'Pitched, 150 mm loft insulation + Chr(13) + Pitched, 200 mm loft insulation',\n",
              "       'Pitched, 50 mm loft insulation + Chr(13) + Pitched, 150 mm loft insulation',\n",
              "       'Average thermal transmittance 0.24 W/mA?K',\n",
              "       'Flat, no insulation (assumed) + Chr(13) + Roof room(s), no insulation (assumed)',\n",
              "       'Average thermal transmittance 0.24 W/m?K|Trawsyriannedd thermol cyfartalog 0.24 W/m?K',\n",
              "       'Pitched, 100 mm loft insulation + Chr(13) + Pitched, 75 mm loft insulation',\n",
              "       'Average thermal transmittance 0.11 W/m2K',\n",
              "       'Pitched, 200 mm loft insulation + Chr(13) + Flat, limited insulation (assumed) + Chr(13) + Pitched, insulated (assumed)',\n",
              "       'Pitched, 200 mm loft insulation + Chr(13) + Pitched, insulated (assumed) + Chr(13) + Flat, insulated (assumed)',\n",
              "       'Pitched, 0 mm loft insulation + Chr(13) + Pitched, 200 mm loft insulation + Chr(13) + Flat, insulated (assumed)',\n",
              "       'Roof room(s), limited insulation',\n",
              "       'Pitched, no insulation (assumed) + Chr(13) + Flat, limited insulation (assumed) + Chr(13) + Pitched, 100 mm loft insulation',\n",
              "       'Pitched, 200 mm loft insulation + Chr(13) + Flat, limited insulation (assumed) + Chr(13) + Roof room(s), limited insulation (assumed)',\n",
              "       'Average thermal transmittance 0.10 W/mA?K',\n",
              "       'Average thermal transmittance 0.14 W/m?K|Trawsyriannedd thermol cyfartalog 0.14 W/m?K',\n",
              "       'Pitched, 150 mm loft insulation + Chr(13) + Flat, limited insulation (assumed) + Chr(13) + Pitched, insulated (assumed)',\n",
              "       '(another dwelling above) + Chr(13) + Pitched, 200 mm loft insulation',\n",
              "       'Average thermal transmittance 0.02 W/m²K',\n",
              "       'Average thermal transmittance 0.04 W/m?K',\n",
              "       'Average thermal transmittance 0.19 W/mÂ²K',\n",
              "       'Pitched, 150 mm loft insulation + Chr(13) + (another dwelling above)',\n",
              "       'Pitched, 0 mm loft insulation + Chr(13) + Pitched, 100 mm loft insulation + Chr(13) + Pitched, insulated (assumed)',\n",
              "       'Pitched, 75 mm loft insulation + Chr(13) + Pitched, limited insulation (assumed) + Chr(13) + Flat, limited insulation (assumed)',\n",
              "       'Pitched, 0 mm loft insulation + Chr(13) + Pitched, 100 mm loft insulation + Chr(13) + Roof room(s), no insulation (assumed) + Chr(13) + Roof room(s), ',\n",
              "       'Average thermal transmittance 0.4 W/m²K',\n",
              "       'Pitched, 100 mm loft insulation + Chr(13) + Flat, no insulation (assumed) + Chr(13) + Pitched, 200 mm loft insulation',\n",
              "       'Pitched, 50 mm loft insulation + Chr(13) + Pitched, 100 mm loft insulation',\n",
              "       'Pitched, 100 mm loft insulation + Chr(13) + Pitched, 0 mm loft insulation + Chr(13) + Flat, no insulation (assumed)',\n",
              "       'Pitched, no insulation (assumed) + Chr(13) + Roof room(s), limited insulation (assumed) + Chr(13) + Roof room(s), no insulation (assumed)',\n",
              "       'Pitched, 25 mm loft insulation + Chr(13) + Pitched, 0 mm loft insulation',\n",
              "       'Pitched, 75 mm loft insulation + Chr(13) + Pitched, insulated (assumed) + Chr(13) + Flat, insulated (assumed)',\n",
              "       'Pitched, no insulation (assumed) + Chr(13) + Pitched, 200 mm loft insulation',\n",
              "       'Average thermal transmittance 0.12 W/mA?K',\n",
              "       'Pitched, 75 mm loft insulation + Chr(13) + Pitched, no insulation (assumed) + Chr(13) + Flat, no insulation (assumed)',\n",
              "       'Average thermal transmittance 0.20 W/m??K|Trawsyriannedd thermol cyfartalog 0.20 W/m??K',\n",
              "       'Average thermal transmittance 0.08 W/m??K',\n",
              "       'Pitched, no insulation (assumed) + Chr(13) + Pitched, insulated (assumed) + Chr(13) + Roof room(s), no insulation (assumed)',\n",
              "       'Average thermal transmittance 0.17 W/mÂ²K',\n",
              "       'Average thermal transmittance 1.27 W/m&#0178;K',\n",
              "       'Average thermal transmittance 0.22 W/m??K',\n",
              "       'Average thermal transmittance 0.36 W/m?K',\n",
              "       'Pitched,  mm loft insulation',\n",
              "       'Average thermal transmittance 0.10 W/m2K',\n",
              "       'Ar oleddf, 50 mm o inswleiddio yn y llofft',\n",
              "       'Average thermal transmittance 0.42 W/m?K',\n",
              "       'Pitched, 200 mm loft insulation + Chr(13) + Flat, insulated (assumed) + Chr(13) + Roof room(s), no insulation (assumed)',\n",
              "       'Ar oleddf, 200 mm o inswleiddio yn y llofft',\n",
              "       'Pitched, 75 mm loft insulation + Chr(13) + Pitched, no insulation (assumed) + Chr(13) + Roof room(s), limited insulation (assumed)',\n",
              "       'Pitched, 150 mm loft insulation + Chr(13) + Pitched, no insulation (assumed) + Chr(13) + Pitched, limited insulation (assumed)',\n",
              "       'Average thermal transmittance = 2.30 W/m?K',\n",
              "       'Average thermal transmittance 0.18 W/m??K|Trawsyriannedd thermol cyfartalog 0.18 W/m??K',\n",
              "       'Average thermal transmittance 0.142 W/m?K',\n",
              "       'Flat, insulated  (assumed)',\n",
              "       'Average thermal transmittance 0.33 W/m2K',\n",
              "       'Average thermal transmittance 0.17 W/m?K|Trawsyriannedd thermol cyfartalog 0.17 W/m?K',\n",
              "       'Pitched, 300 mm loft insulation + Chr(13) + Pitched, no insulation (assumed) + Chr(13) + Flat, limited insulation (assumed) + Chr(13) + Roof room(s), ',\n",
              "       'Pitched, 0 mm loft insulation + Chr(13) + Roof room(s), no insulation (assumed)',\n",
              "       'Average thermal transmittance 0.12 W/m&#0178;K',\n",
              "       'Pitched, no insulation (assumed) + Chr(13) + Pitched, 200 mm loft insulation + Chr(13) + Roof room(s), insulated (assumed)',\n",
              "       'Pitched, 100 mm loft insulation + Chr(13) + Flat, insulated (assumed) + Chr(13) + Roof room(s), insulated (assumed)',\n",
              "       'Pitched, 250 mm loft insulation + Chr(13) + Pitched, 200 mm loft insulation',\n",
              "       'Pitched, 100 mm loft insulation + Chr(13) + Pitched, 200 mm loft insulation + Chr(13) + Pitched, 250 mm loft insulation',\n",
              "       'Pitched, 300 mm loft insulation + Chr(13) + Pitched, 150 mm loft insulation + Chr(13) + Pitched, 250 mm loft insulation',\n",
              "       'Pitched, no insulation (assumed) + Chr(13) + Pitched, limited insulation (assumed) + Chr(13) + Flat, limited insulation (assumed)',\n",
              "       'Average thermal transmittance 0.34 W/m??K',\n",
              "       'Average thermal transmittance 0.81 W/m²K',\n",
              "       'Flat, no insulation (assumed) + Chr(13) + Flat, limited insulation (assumed)',\n",
              "       'Flat, limited insulation (assumed) + Chr(13) + Pitched, limited insulation (assumed)',\n",
              "       'Pitched, 300 mm loft insulation + Chr(13) + Pitched, no insulation (assumed) + Chr(13) + Pitched, insulated (assumed)',\n",
              "       'Average thermal transmittance 0.57 W/m²K',\n",
              "       'Pitched, no insulation (assumed) + Chr(13) + Flat, insulated (assumed) + Chr(13) + Roof room(s), limited insulation (assumed)',\n",
              "       'Average thermal transmittance 0.41 W/m²K',\n",
              "       'Pitched, 150 mm loft insulation + Chr(13) + Flat, limited insulation (assumed) + Chr(13) + Roof room(s), limited insulation (assumed)',\n",
              "       'Pitched, 100 mm loft insulation + Chr(13) + Pitched, insulated (assumed) + Chr(13) + Pitched, 300 mm loft insulation',\n",
              "       '(another dwelling above) + Chr(13) + Pitched, limited insulation (assumed)',\n",
              "       'Average thermal transmittance 0.21 W/m2K',\n",
              "       'Pitched, 100 mm loft insulation + Chr(13) + Pitched, limited insulation (assumed) + Chr(13) + Roof room(s), no insulation (assumed)',\n",
              "       'Average thermal transmittance 2.30 W/m?K',\n",
              "       'Pitched, limited insulation (assumed) + Chr(13) + Flat, insulated (assumed) + Chr(13) + Roof room(s), limited insulation (assumed)',\n",
              "       'Pitched, 100 mm loft insulation + Chr(13) + Pitched, no insulation (assumed) + Chr(13) + Roof room(s), insulated (assumed)',\n",
              "       'Pitched, 300 mm loft insulation + Chr(13) + Pitched, 250 mm loft insulation',\n",
              "       'Pitched, 12 mm loft insulation + Chr(13) + Flat, no insulation (assumed)',\n",
              "       'Average thermal transmittance 0.09 W/m&#0178;K',\n",
              "       'Pitched, 75 mm loft insulation + Chr(13) + Pitched, insulated (assumed) + Chr(13) + Pitched, limited insulation (assumed)',\n",
              "       'Pitched, 100 mm loft insulation + Chr(13) + Pitched, no insulation (assumed) + Chr(13) + Flat, insulated (assumed)',\n",
              "       'Average thermal transmittance 0.22 W/mA?K',\n",
              "       'Average thermal transmittance 0.11 W/m?K|Trawsyriannedd thermol cyfartalog 0.11 W/m?K',\n",
              "       'Ar oleddf, 300+ mm o inswleiddio yn y llofft',\n",
              "       'Pitched, no insulation (assumed) + Chr(13) + Pitched, limited insulation (assumed) + Chr(13) + Roof room(s), no insulation (assumed)',\n",
              "       'Ar oleddf, dim inswleiddio (rhagdybiaeth)',\n",
              "       'Pitched, 25 mm loft insulation + Chr(13) + Flat, limited insulation (assumed)',\n",
              "       'Pitched, no insulation (assumed) + Chr(13) + Pitched, insulated (assumed) + Chr(13) + Flat, insulated (assumed) + Chr(13) + Roof room(s), insulated (a',\n",
              "       'Pitched, 100 mm loft insulation + Chr(13) + Flat, limited insulation (assumed) + Chr(13) + Flat, insulated (assumed)',\n",
              "       'Pitched, 150 mm loft insulation + Chr(13) + Pitched, no insulation (assumed) + Chr(13) + Pitched, 100 mm loft insulation',\n",
              "       'Pitched, 75 mm loft insulation + Chr(13) + Pitched, 150 mm loft insulation',\n",
              "       'Flat, limited insulation (assumed) + Chr(13) + Roof room(s), insulated (assumed)',\n",
              "       'Average thermal transmittance 0.02 W/m?K',\n",
              "       'Pitched, 100 mm loft insulation + Chr(13) + Pitched, insulated (assumed) + Chr(13) + Roof room(s), insulated (assumed)',\n",
              "       'Pitched, limited insulation (assumed) + Chr(13) + (another dwelling above) + Chr(13) + Pitched, insulated (assumed)',\n",
              "       '(another dwelling above) + Chr(13) + Flat, no insulation (assumed)',\n",
              "       'Average thermal transmittance = 0.02 W/m?K',\n",
              "       'Average thermal transmittance 0.05 W/m?K',\n",
              "       'Average thermal transmittance 0.16 W/m?K|Trawsyriannedd thermol cyfartalog 0.16 W/m?K',\n",
              "       'Average thermal transmittance = 0.08 W/m?K',\n",
              "       'Pitched, 300 mm loft insulation + Chr(13) + Roof room(s), limited insulation (assumed)',\n",
              "       'Pitched, 25 mm loft insulation + Chr(13) + Flat, insulated (assumed) + Chr(13) + Pitched, insulated (assumed)',\n",
              "       'Pitched, 200 mm loft insulation + Chr(13) + Pitched, 100 mm loft insulation + Chr(13) + Flat, limited insulation (assumed)',\n",
              "       'Average thermal transmittance 0.24 W/m??K|Trawsyriannedd thermol cyfartalog 0.24 W/m??K',\n",
              "       'Flat, no insulation (assumed) + Chr(13) + Roof room(s), limited insulation (assumed)',\n",
              "       'Average thermal transmittance 1.09 W/m²K',\n",
              "       'Average thermal transmittance 0.26 W/m&#0178;K',\n",
              "       'Average thermal transmittance 4.20 W/m?K',\n",
              "       'Average thermal transmittance 0.38 W/m²K',\n",
              "       'Pitched, no insulation (assumed) + Chr(13) + Roof room(s), no insulation (assumed) + Chr(13) + Roof room(s), insulated (assumed)',\n",
              "       'Pitched, 250 mm loft insulation + Chr(13) + Flat, no insulation (assumed)',\n",
              "       'Average thermal transmittance 0.12 W/m??K',\n",
              "       'Average thermal transmittance 0.39 W/m?K',\n",
              "       'Average thermal transmittance 0.3 W/m?K',\n",
              "       'Average thermal transmittance 0.26 W/m2K',\n",
              "       'Pitched, 300 mm loft insulation + Chr(13) + Flat, insulated (assumed) + Chr(13) + Pitched, insulated (assumed)',\n",
              "       'Average thermal transmittance 0.46 W/m²K',\n",
              "       'Average thermal transmittance 1.6 W/m²K',\n",
              "       'Pitched, 50 mm loft insulation + Chr(13) + Pitched, 0 mm loft insulation + Chr(13) + Pitched, insulated (assumed)',\n",
              "       'Pitched, 300 mm loft insulation + Chr(13) + Roof room(s), no insulation (assumed)',\n",
              "       'Flat, insulated (assumed) + Chr(13) + Pitched, no insulation (assumed) + Chr(13) + Roof room(s), no insulation (assumed)',\n",
              "       'Flat, insulated (assumed) + Chr(13) + Roof room(s), insulated (assumed)',\n",
              "       'Average thermal transmittance 0.7 W/m²K',\n",
              "       'Average thermal transmittance 0.60 W/m?K',\n",
              "       'Roof room, no insulation (assumed)',\n",
              "       'Pitched, 100 mm loft insulation + Chr(13) + (another dwelling above)',\n",
              "       'Trawsyriannedd thermol cyfartalog 0.10 W/m²K',\n",
              "       'Ar oleddf, 300+ mm lo inswleiddio yn y llof',\n",
              "       'Pitched, 75 mm loft insulation + Chr(13) + Flat, insulated (assumed) + Chr(13) + Roof room(s), no insulation (assumed)',\n",
              "       'Average thermal transmittance 2.60 W/mÂ²K',\n",
              "       'Pitched, 50 mm loft insulation + Chr(13) + Pitched, no insulation (assumed) + Chr(13) + Flat, limited insulation (assumed)',\n",
              "       'Average thermal transmittance 1.07 W/m²K',\n",
              "       'Average thermal transmittance = 0.05 W/m?K',\n",
              "       'Pitched, 75 mm loft insulation + Chr(13) + Pitched, 250 mm loft insulation',\n",
              "       'Average thermal transmittance 0.72 W/m²K',\n",
              "       'Pitched, 250 mm loft insulation + Chr(13) + Flat, no insulation (assumed) + Chr(13) + Pitched, 100 mm loft insulation',\n",
              "       'Pitched, 75 mm loft insulation + Chr(13) + (another dwelling above)',\n",
              "       'Pitched, 200 mm loft insulation + Chr(13) + Pitched, 250 mm loft insulation + Chr(13) + Flat, insulated (assumed)',\n",
              "       'Average thermal transmittance 0.24 W/m&#0178;K',\n",
              "       'Pitched, 75 mm loft insulation + Chr(13) + Pitched, 0 mm loft insulation + Chr(13) + Flat, insulated (assumed)',\n",
              "       'Average thermal transmittance 2.3 W/m?K',\n",
              "       'Average thermal transmittance 0.62 W/m²K',\n",
              "       'Average thermal transmittance 0.24 W/mÂ²K',\n",
              "       'Average thermal transmittance 1.06 W/m²K',\n",
              "       'Pitched, insulated (assumed) + Chr(13) + Roof room(s), no insulation (assumed) + Chr(13) + Roof room(s), limited insulation (assumed)',\n",
              "       'Average thermal transmittance 0.25 W/mÂ²K',\n",
              "       'Pitched, 50 mm loft insulation + Chr(13) + Pitched, insulated (assumed) + Chr(13) + Pitched, 300 mm loft insulation',\n",
              "       'Pitched, 100 mm loft insulation + Chr(13) + Flat, no insulation (assumed) + Chr(13) + Flat, limited insulation (assumed)',\n",
              "       'Average thermal transmittance 1.10 W/m²K',\n",
              "       'Average thermal transmittance 0.42 W/m²K',\n",
              "       'Pitched, 75 mm loft insulation + Chr(13) + Pitched, 100 mm loft insulation + Chr(13) + Pitched, insulated (assumed)',\n",
              "       'Pitched, 200 mm loft insulation + Chr(13) + Pitched, 100 mm loft insulation',\n",
              "       'Average thermal transmittance 1 W/m²K',\n",
              "       'Pitched, 200 mm loft insulation + Chr(13) + Pitched, limited insulation (assumed)',\n",
              "       'Pitched, no insulation (assumed) + Chr(13) + Flat, no insulation (assumed) + Chr(13) + Flat, limited insulation (assumed)',\n",
              "       'Average thermal transmittance 0.27 W/mA?K',\n",
              "       'Average thermal transmittance 0.41 W/m&#0178;K',\n",
              "       'Average thermal transmittance 0.20 W/m?K|Trawsyriannedd thermol cyfartalog 0.20 W/m?K',\n",
              "       'Average thermal transmittance 0.43 W/m²K',\n",
              "       'Pitched, 150 mm loft insulation + Chr(13) + Flat, insulated (assumed) + Chr(13) + Pitched, insulated (assumed)',\n",
              "       'Pitched, 50 mm loft insulation + Chr(13) + (another dwelling above)',\n",
              "       'Pitched, 100 mm loft insulation + Chr(13) + Pitched, insulated (assumed) + Chr(13) + Pitched, 0 mm loft insulation',\n",
              "       'Pitched, 300 mm loft insulation + Chr(13) + Pitched, 150 mm loft insulation + Chr(13) + Pitched, insulated (assumed)',\n",
              "       'Flat, no insulation (assumed) + Chr(13) + Roof room(s), insulated (assumed)',\n",
              "       'Roof room(s), limited insulation (assumed) + Chr(13) + Roof room(s), insulated (assumed)',\n",
              "       'Average thermal transmittance 0.05 W/m²K',\n",
              "       'Average thermal transmittance 0.5 W/m²K',\n",
              "       'Pitched, no insulation (assumed) + Chr(13) + Pitched, 0 mm loft insulation + Chr(13) + Roof room(s), insulated (assumed)',\n",
              "       'Average thermal transmittance 1.07 W/m?K',\n",
              "       'Average thermal transmittance 1.24 W/m²K',\n",
              "       'Pitched, 100 mm loft insulation + Chr(13) + Pitched, 75 mm loft insulation + Chr(13) + Roof room(s), limited insulation (assumed)',\n",
              "       '(another dwelling above) + Chr(13) + Pitched, insulated (assumed)',\n",
              "       'Average thermal transmittance 1.58 W/m?K',\n",
              "       'Pitched, 12 mm loft insulation + Chr(13) + Flat, limited insulation (assumed)',\n",
              "       'Pitched, 0 mm loft insulation + Chr(13) + Pitched, 100 mm loft insulation + Chr(13) + Pitched, no insulation (assumed)',\n",
              "       'Average thermal transmittance 0.21 W/m??K|Trawsyriannedd thermol cyfartalog 0.21 W/m??K',\n",
              "       'Average thermal transmittance 0.12 W/m??K|Trawsyriannedd thermol cyfartalog 0.12 W/m??K',\n",
              "       'Pitched, 12 mm loft insulation + Chr(13) + Pitched, limited insulation (assumed) + Chr(13) + Flat, limited insulation (assumed)',\n",
              "       'Average thermal transmittance 0.09 W/m??K|Trawsyriannedd thermol cyfartalog 0.09 W/m??K',\n",
              "       'Pitched, no insulation (assumed) + Chr(13) + Pitched, 12 mm loft insulation',\n",
              "       'Pitched, 250 mm loft insulation + Chr(13) + Flat, insulated (assumed) + Chr(13) + Pitched, insulated (assumed)',\n",
              "       'Average thermal transmittance 1.01 W/m?K',\n",
              "       'Average thermal transmittance = 0.34 W/m?K',\n",
              "       'Average thermal transmittance 0.37 W/m²K',\n",
              "       'Pitched, 150 mm loft insulation + Chr(13) + Pitched, no insulation (assumed) + Chr(13) + Roof room(s), no insulation (assumed)',\n",
              "       'Pitched, 150 mm loft insulation + Chr(13) + Flat, limited insulation (assumed) + Chr(13) + Pitched, 300 mm loft insulation',\n",
              "       'Pitched, 250 mm loft insulation + Chr(13) + Flat, no insulation (assumed) + Chr(13) + Roof room(s), no insulation (assumed)',\n",
              "       'Pitched, 75 mm loft insulation + Chr(13) + Pitched, 100 mm loft insulation + Chr(13) + Pitched, limited insulation (assumed)',\n",
              "       'Pitched, 100 mm loft insulation + Chr(13) + Roof room(s), limited insulation (assumed) + Chr(13) + Roof room(s), insulated (assumed)',\n",
              "       'Average thermal transmittance 1.8 W/m²K',\n",
              "       'Pitched, 50 mm loft insulation + Chr(13) + Pitched, insulated (assumed) + Chr(13) + Flat, insulated (assumed)',\n",
              "       'Flat, no insulation (assumed) + Chr(13) + Pitched, limited insulation (assumed)',\n",
              "       'Flat, limited insulation (assumed) + Chr(13) + Roof room(s), limited insulation (assumed)',\n",
              "       'Average thermal transmittance 2.58 W/m?K',\n",
              "       'Pitched, 200 mm loft insulation + Chr(13) + Pitched, insulated (assumed) + Chr(13) + Pitched, 150 mm loft insulation',\n",
              "       'Pitched, 100 mm loft insulation + Chr(13) + Flat, insulated (assumed) + Chr(13) + Roof room(s), no insulation (assumed)',\n",
              "       'Pitched, limited insulation (assumed) + Chr(13) + Roof room(s), insulated (assumed)',\n",
              "       'Ar oleddf, 12 mm o inswleiddio yn y llofft',\n",
              "       'Ar oleddf, 250 mm o inswleiddio yn y llofft',\n",
              "       'Average thermal transmittance 0.25 W/m??K',\n",
              "       'Pitched, 25 mm loft insulation + Chr(13) + Roof room(s), insulated (assumed)',\n",
              "       '(another dwelling above) + Chr(13) + Flat, no insulation (assumed) + Chr(13) + Flat, insulated (assumed)',\n",
              "       'Average thermal transmittance 0.70 W/m?K',\n",
              "       'Pitched, 150 mm loft insulation + Chr(13) + Flat, limited insulation (assumed) + Chr(13) + Pitched, 100 mm loft insulation',\n",
              "       'Pitched, 150 mm loft insulation + Chr(13) + Pitched, insulated (assumed) + Chr(13) + Roof room(s), insulated (assumed)',\n",
              "       'Average thermal transmittance 0.06 W/mA?K',\n",
              "       '(another dwelling above) + Chr(13) + Flat, limited insulation (assumed)',\n",
              "       'Average thermal transmittance 0.4 W/m?K',\n",
              "       'Average thermal transmittance 0.48 W/m²K',\n",
              "       'Roof room, insulated (assumed)',\n",
              "       'Pitched, 50 mm loft insulation + Chr(13) + Roof room(s), no insulation (assumed) + Chr(13) + Roof room(s), limited insulation (assumed)',\n",
              "       'Average thermal transmittance 0.43 W/m?K',\n",
              "       'Pitched, 150 mm loft insulation + Chr(13) + Pitched, insulated (assumed) + Chr(13) + Pitched, 200 mm loft insulation',\n",
              "       'Pitched, 250 mm loft insulation + Chr(13) + Roof room(s), limited insulation (assumed)',\n",
              "       'Pitched, 25 mm loft insulation + Chr(13) + Pitched, limited insulation (assumed) + Chr(13) + Flat, limited insulation (assumed)',\n",
              "       'Pitched, 250 mm loft insulation + Chr(13) + Pitched, no insulation (assumed) + Chr(13) + Pitched, insulated (assumed)',\n",
              "       'Pitched, 250 mm loft insulation + Chr(13) + Pitched, 150 mm loft insulation + Chr(13) + Roof room(s), limited insulation (assumed)',\n",
              "       'Average thermal transmittance 1.20 W/m²K',\n",
              "       'Pitched, 100 mm loft insulation + Chr(13) + Flat, limited insulation (assumed) + Chr(13) + Pitched, insulated (assumed)',\n",
              "       'Pitched, insulated (assumed) + Chr(13) + Pitched, 200 mm loft insulation',\n",
              "       'Pitched, 50 mm loft insulation + Chr(13) + Pitched, insulated (assumed) + Chr(13) + Roof room(s), insulated (assumed)',\n",
              "       'Pitched, 25 mm loft insulation + Chr(13) + (another dwelling above)',\n",
              "       'Pitched, 75 mm loft insulation + Chr(13) + (another dwelling above) + Chr(13) + Pitched, insulated (assumed)',\n",
              "       'Pitched, 200 mm loft insulation + Chr(13) + Pitched, 300 mm loft insulation + Chr(13) + Pitched, insulated (assumed)',\n",
              "       'Average thermal transmittance 0.21 W/mA?K',\n",
              "       'Flat, insulated (assumed) + Chr(13) + Roof room(s), no insulation (assumed)',\n",
              "       '(another dwelling above) + Chr(13) + Roof room(s), insulated (assumed)',\n",
              "       'Average thermal transmittance 1.56 W/m?K',\n",
              "       'Pitched, no insulation (assumed) + Chr(13) + Pitched, insulated (assumed) + Chr(13) + Roof room(s), limited insulation (assumed)',\n",
              "       'Pitched, 250 mm loft insulation + Chr(13) + Pitched, no insulation (assumed) + Chr(13) + Roof room(s), insulated (assumed)',\n",
              "       'Pitched, no insulation (assumed) + Chr(13) + Pitched, 100 mm loft insulation',\n",
              "       'Pitched, 100 mm loft insulation + Chr(13) + Pitched, no insulation (assumed) + Chr(13) + Flat, limited insulation (assumed)',\n",
              "       'Trawsyriannedd thermol cyfartalog 0.16 W/m²K',\n",
              "       'Average thermal transmittance = 0.43 W/m?K',\n",
              "       'Pitched, limited insulation (assumed) + Chr(13) + Pitched, insulated (assumed) + Chr(13) + Roof room(s), limited insulation (assumed)',\n",
              "       'Average thermal transmittance 0.146 W/m²K',\n",
              "       'Pitched, limited insulation (assumed) + Chr(13) + Flat, limited insulation (assumed)',\n",
              "       'Pitched, 50 mm loft insulation + Chr(13) + Flat, limited insulation (assumed) + Chr(13) + Roof room(s), limited insulation (assumed)',\n",
              "       'Average thermal transmittance 0.27 W/m??K',\n",
              "       '(another dwelling above) + Chr(13) + Flat, no insulation (assumed) + Chr(13) + Pitched, no insulation (assumed)',\n",
              "       'Pitched, 25 mm loft insulation + Chr(13) + Pitched, limited insulation (assumed)',\n",
              "       'Average thermal transmittance 0.60 W/m²K',\n",
              "       'Pitched, 100 mm loft insulation + Chr(13) + Pitched, insulated (assumed) + Chr(13) + Pitched, 75 mm loft insulation',\n",
              "       'Pitched, insulated (assumed) + Chr(13) + Pitched, no insulation (assumed)',\n",
              "       'Pitched + Chr(13) + Flat, insulated (assumed)',\n",
              "       'Average thermal transmittance 1.76 W/m²K',\n",
              "       'Average thermal transmittance 2.28 W/m²K',\n",
              "       'Pitched, 50 mm loft insulation + Chr(13) + Pitched, 75 mm loft insulation',\n",
              "       'Pitched, 100 mm loft insulation + Chr(13) + Roof room(s), no insulation (assumed) + Chr(13) + Roof room(s), limited insulation (assumed)',\n",
              "       'Ar oleddf, 25 mm o inswleiddio yn y llofft',\n",
              "       'Pitched, 100 mm loft insulation + Chr(13) + Flat, limited insulation (assumed) + Chr(13) + Roof room(s), limited insulation (assumed)',\n",
              "       'Pitched, 50 mm loft insulation + Chr(13) + Pitched, 100 mm loft insulation + Chr(13) + Pitched, insulated (assumed)',\n",
              "       'Average thermal transmittance = 0.09 W/m?K',\n",
              "       'Flat, limited insulation (assumed) + Chr(13) + Flat, insulated (assumed)',\n",
              "       'Pitched, 150 mm loft insulation + Chr(13) + Pitched, no insulation (assumed) + Chr(13) + Pitched, 0 mm loft insulation',\n",
              "       'Pitched, 100 mm loft insulation + Chr(13) + Pitched, no insulation (assumed) + Chr(13) + Pitched, 75 mm loft insulation',\n",
              "       'Average thermal transmittance 0.44 W/m²K',\n",
              "       'Pitched, 75 mm loft insulation + Chr(13) + Pitched, no insulation (assumed) + Chr(13) + Flat, insulated (assumed)',\n",
              "       'Average thermal transmittance 1 W/m?K',\n",
              "       'Pitched, 100 mm loft insulation + Chr(13) + Pitched, limited insulation (assumed) + Chr(13) + Pitched, insulated (assumed)',\n",
              "       'Average thermal transmittance 0.25 W/mA?K',\n",
              "       'Average thermal transmittance 0.20 W/mÂ²K',\n",
              "       'Pitched, 100 mm loft insulation + Chr(13) + Pitched, insulated (assumed) + Chr(13) + Pitched, limited insulation (assumed)',\n",
              "       'Pitched, 0 mm loft insulation + Chr(13) + Roof room(s), no insulation (assumed) + Chr(13) + Roof room(s), insulated (assumed)',\n",
              "       'Average thermal transmittance 0.53 W/m?K',\n",
              "       'Pitched, no insulation (assumed) + Chr(13) + Pitched, 300 mm loft insulation + Chr(13) + Pitched, insulated (assumed)',\n",
              "       'Pitched, no insulation (assumed) + Chr(13) + Pitched, 250 mm loft insulation',\n",
              "       'Pitched, 200 mm loft insulation + Chr(13) + Pitched, limited insulation (assumed) + Chr(13) + Pitched, 250 mm loft insulation',\n",
              "       'Pitched, 150 mm loft insulation + Chr(13) + Flat, limited insulation (assumed) + Chr(13) + Pitched, limited insulation (assumed)',\n",
              "       'Roof room(s), thatched, with additional insulation',\n",
              "       'Pitched, 50 mm loft insulation + Chr(13) + Flat, limited insulation (assumed) + Chr(13) + Pitched, insulated (assumed)',\n",
              "       'Pitched, no insulation (assumed) + Chr(13) + Flat, no insulation (assumed) + Chr(13) + Roof room(s), limited insulation (assumed)',\n",
              "       '(another dwelling above) + Chr(13) + Roof room(s), limited insulation (assumed)',\n",
              "       'Ystafell(oedd) to, wedi?i inswleiddio (rhagdybiaeth)',\n",
              "       'Average thermal transmittance 0.38 W/m??K|Trawsyriannedd thermol cyfartalog 0.38 W/m??K',\n",
              "       'Pitched, 150 mm loft insulation + Chr(13) + (another dwelling above) + Chr(13) + Pitched, 200 mm loft insulation',\n",
              "       'Pitched, 0 mm loft insulation + Chr(13) + Pitched, 75 mm loft insulation + Chr(13) + Roof room(s), limited insulation (assumed)',\n",
              "       'Ar oleddf, 150 mm o inswleiddio yn y llofft',\n",
              "       'Pitched, 50 mm loft insulation + Chr(13) + Flat, no insulation (assumed) + Chr(13) + Flat, limited insulation (assumed)',\n",
              "       'Average thermal transmittance = 0.07 W/m?K',\n",
              "       'Thatchedinsulated at rafters',\n",
              "       'Pitched, 150 mm loft insulation + Chr(13) + Flat, no insulation (assumed) + Chr(13) + Pitched, no insulation (assumed)',\n",
              "       'Pitched, 50 mm loft insulation + Chr(13) + Flat, insulated (assumed) + Chr(13) + Roof room(s), limited insulation (assumed)',\n",
              "       'Pitched, 25 mm loft insulation + Chr(13) + Pitched, no insulation (assumed) + Chr(13) + Flat, no insulation (assumed)',\n",
              "       'Average thermal transmittance 0.11 W/m??K|Trawsyriannedd thermol cyfartalog 0.11 W/m??K',\n",
              "       'Pitched, 75 mm loft insulation + Chr(13) + Pitched, limited insulation (assumed) + Chr(13) + Pitched, insulated (assumed)',\n",
              "       'Pitched, 100 mm loft insulation + Chr(13) + Pitched, 0 mm loft insulation + Chr(13) + Flat, limited insulation (assumed)',\n",
              "       'Pitched, 200 mm loft insulation + Chr(13) + (another dwelling above) + Chr(13) + Pitched, 300 mm loft insulation',\n",
              "       'Pitched, 12 mm loft insulation + Chr(13) + Pitched, insulated (assumed)',\n",
              "       'Pitched, 100 mm loft insulation + Chr(13) + Pitched, 150 mm loft insulation + Chr(13) + Roof room(s), no insulation (assumed)',\n",
              "       'Average thermal transmittance 0.12 W/m2K',\n",
              "       'Average thermal transmittance 0.07 W/mÂ²K',\n",
              "       'Average thermal transmittance 0.29 W/m&#0178;K',\n",
              "       'Pitched, 100 mm loft insulation + Chr(13) + Pitched, insulated (assumed) + Chr(13) + Roof room(s), no insulation (assumed) + Chr(13) + Roof room(s), i',\n",
              "       'Pitched, no insulation (assumed) + Chr(13) + Pitched, 200 mm loft insulation + Chr(13) + Pitched, insulated (assumed)',\n",
              "       'Pitched, 75 mm loft insulation + Chr(13) + Pitched, no insulation (assumed) + Chr(13) + Pitched, 50 mm loft insulation',\n",
              "       'Pitched, 100 mm loft insulation + Chr(13) + Pitched, no insulation (assumed) + Chr(13) + Roof room(s), limited insulation (assumed)',\n",
              "       'Pitched, 200 mm loft insulation + Chr(13) + Pitched, 250 mm loft insulation',\n",
              "       'Pitched, 12 mm loft insulation + Chr(13) + Roof room(s), insulated (assumed)',\n",
              "       'Pitched, 150 mm loft insulation + Chr(13) + Pitched, limited insulation (assumed) + Chr(13) + Flat, limited insulation (assumed)',\n",
              "       'Pitched, 75 mm loft insulation + Chr(13) + Pitched, no insulation (assumed) + Chr(13) + Pitched, limited insulation (assumed)',\n",
              "       'Average thermal transmittance 0.25 W/m2K',\n",
              "       'Pitched, 250 mm loft insulation + Chr(13) + Flat, insulated (assumed) + Chr(13) + Pitched, limited insulation (assumed)',\n",
              "       'Pitched, no insulation (assumed) + Chr(13) + Pitched, insulated (assumed) + Chr(13) + Flat, limited insulation (assumed)',\n",
              "       'Average thermal transmittance 0.18 W/m?K|Trawsyriannedd thermol cyfartalog 0.18 W/m?K',\n",
              "       '(another dwelling above) + Chr(13) + Pitched, no insulation (assumed) + Chr(13) + Roof room(s), insulated (assumed)',\n",
              "       'Average thermal transmittance 0.32 W/m?K',\n",
              "       'Average thermal transmittance 0.30 W/m²K',\n",
              "       'Pitched, 100 mm loft insulation + Chr(13) + Pitched, 200 mm loft insulation + Chr(13) + Pitched, insulated (assumed)',\n",
              "       'Pitched, no insulation (assumed) + Chr(13) + Pitched, insulated (assumed) + Chr(13) + Roof room(s), no insulation (assumed) + Chr(13) + Roof room(s), ',\n",
              "       'Pitched, 200 mm loft insulation + Chr(13) + Flat, limited insulation (assumed) + Chr(13) + Roof room(s), no insulation (assumed)',\n",
              "       'Pitched, no insulation (assumed) + Chr(13) + Pitched, limited insulation (assumed) + Chr(13) + Pitched, insulated (assumed)',\n",
              "       'Pitched, 75 mm loft insulation + Chr(13) + Roof room(s), insulated (assumed) + Chr(13) + Roof room(s), no insulation (assumed)',\n",
              "       'Pitched, 150 mm loft insulation + Chr(13) + Pitched, insulated (assumed) + Chr(13) + Flat, no insulation (assumed) + Chr(13) + Roof room(s), no insula',\n",
              "       'Average thermal transmittance 0.59 W/m?K',\n",
              "       'Average thermal transmittance 0.38 W/m?K',\n",
              "       '(another dwelling above) + Chr(13) + Flat, insulated (assumed) + Chr(13) + Pitched, insulated (assumed)',\n",
              "       'Ar oleddf, 250mm o inswleiddio yn y llofft',\n",
              "       'Pitched, limited insulation (assumed) + Chr(13) + Roof room(s), no insulation (assumed)',\n",
              "       'Pitched, no insulation (assumed) + Chr(13) + Pitched, 0 mm loft insulation + Chr(13) + Pitched, 50 mm loft insulation',\n",
              "       'Pitched, 50 mm loft insulation + Chr(13) + Flat, insulated (assumed) + Chr(13) + Roof room(s), insulated (assumed)',\n",
              "       'Pitched, 25 mm loft insulation + Chr(13) + Pitched, 0 mm loft insulation + Chr(13) + Flat, limited insulation (assumed)',\n",
              "       'Average thermal transmittance 0.21 W/m?K|Trawsyriannedd thermol cyfartalog 0.21 W/m?K',\n",
              "       'Pitched, 100 mm loft insulation + Chr(13) + Pitched, no insulation (assumed) + Chr(13) + Flat, no insulation (assumed)',\n",
              "       'Pitched, 100 mm loft insulation + Chr(13) + Pitched, 75 mm loft insulation + Chr(13) + Pitched, insulated (assumed)',\n",
              "       'Pitched, 75 mm loft insulation + Chr(13) + Flat, limited insulation (assumed) + Chr(13) + Pitched, insulated (assumed)',\n",
              "       'Pitched, 300 mm loft insulation + Chr(13) + Flat, limited insulation (assumed) + Chr(13) + Roof room(s), limited insulation (assumed)',\n",
              "       'Average thermal transmittance 1.97 W/m?K',\n",
              "       '(another dwelling above) + Chr(13) + Pitched, insulated (assumed) + Chr(13) + Flat, insulated (assumed)',\n",
              "       'Pitched, 150 mm loft insulation + Chr(13) + Pitched, 200 mm loft insulation + Chr(13) + Roof room(s), insulated (assumed)',\n",
              "       'Pitched + Chr(13) + Pitched, 250 mm loft insulation',\n",
              "       'Pitched, 150 mm loft insulation + Chr(13) + Pitched, 75 mm loft insulation',\n",
              "       'Pitched, 150 mm loft insulation + Chr(13) + Pitched, insulated (assumed) + Chr(13) + Flat, insulated (assumed)',\n",
              "       'Pitched, 100 mm loft insulation + Chr(13) + Pitched, 150 mm loft insulation + Chr(13) + Pitched, insulated (assumed)',\n",
              "       'Pitched, 0 mm loft insulation + Chr(13) + Pitched, limited insulation (assumed) + Chr(13) + Roof room(s), no insulation (assumed)',\n",
              "       'Average thermal transmittance 1.25 W/m?K',\n",
              "       'Pitched, no insulation (assumed) + Chr(13) + Pitched, 150 mm loft insulation + Chr(13) + Pitched, 0 mm loft insulation',\n",
              "       '(another dwelling above) + Chr(13) + Flat, no insulation (assumed) + Chr(13) + Pitched, 150 mm loft insulation',\n",
              "       'Average thermal transmittance 0.22 W/m2K',\n",
              "       'Pitched, limited insulation (assumed) + Chr(13) + Pitched, insulated (assumed) + Chr(13) + Roof room(s), insulated (assumed)',\n",
              "       'Average thermal transmittance 0.28 W/m?K|Trawsyriannedd thermol cyfartalog 0.28 W/m?K',\n",
              "       'Average thermal transmittance = 0.26 W/m?K',\n",
              "       '(another dwelling above) + Chr(13) + Pitched, 0 mm loft insulation',\n",
              "       'Average thermal transmittance 0.19 W/m??K|Trawsyriannedd thermol cyfartalog 0.19 W/m??K',\n",
              "       'Pitched, 25 mm loft insulation + Chr(13) + Roof room(s), limited insulation (assumed)',\n",
              "       'Pitched, 75 mm loft insulation + Chr(13) + Pitched, 25 mm loft insulation + Chr(13) + Flat, insulated (assumed)',\n",
              "       'Ystafell(oedd) to, wedi?i hinswleiddio',\n",
              "       'Average thermal transmittance 3.22 W/m²K',\n",
              "       'Pitched, 150 mm loft insulation + Chr(13) + Flat, insulated (assumed) + Chr(13) + Flat, limited insulation (assumed)',\n",
              "       'Flat, limited insulation (assumed) + Chr(13) + Pitched, limited insulation (assumed) + Chr(13) + Pitched, 250 mm loft insulation',\n",
              "       'Average thermal transmittance 0.81 W/m?K',\n",
              "       'Average thermal transmittance 0.40 W/mA?K',\n",
              "       'Average thermal transmittance 0.78 W/m?K',\n",
              "       'Pitched, 50 mm loft insulation + Chr(13) + Pitched, 250 mm loft insulation',\n",
              "       'Average thermal transmittance 0.33 W/m&#0178;K',\n",
              "       'Pitched, 0 mm loft insulation + Chr(13) + Pitched, no insulation (assumed) + Chr(13) + Roof room(s), no insulation (assumed)',\n",
              "       'Pitched, 300 mm loft insulation + Chr(13) + Pitched, insulated (assumed) + Chr(13) + Pitched, limited insulation (assumed)',\n",
              "       'Pitched, limited insulation (assumed) + Chr(13) + Roof room(s), limited insulation (assumed) + Chr(13) + Roof room(s), insulated (assumed)',\n",
              "       'Average thermal transmittance 0.01 W/m²K',\n",
              "       'Pitched, 100 mm loft insulation + Chr(13) + Pitched, 50 mm loft insulation + Chr(13) + Pitched, no insulation (assumed)',\n",
              "       'Ar oleddf, 75 mm o inswleiddio yn y llofft',\n",
              "       'Pitched, 100 mm loft insulation + Chr(13) + (another dwelling above) + Chr(13) + Flat, insulated (assumed)',\n",
              "       'Pitched, 100 mm loft insulation + Chr(13) + Pitched, 150 mm loft insulation + Chr(13) + Roof room(s), limited insulation (assumed)',\n",
              "       'Pitched, 50 mm loft insulation + Chr(13) + Flat, insulated (assumed) + Chr(13) + Pitched, insulated (assumed)',\n",
              "       'Pitched, 150 mm loft insulation + Chr(13) + Pitched, 300 mm loft insulation',\n",
              "       'Pitched, 200 mm loft insulation + Chr(13) + Pitched, 75 mm loft insulation + Chr(13) + Pitched, no insulation (assumed)',\n",
              "       'Pitched, 300 mm loft insulation + Chr(13) + Pitched, 50 mm loft insulation',\n",
              "       'Pitched, no insulation (assumed) + Chr(13) + Pitched, 50 mm loft insulation',\n",
              "       'Pitched, no insulation (assumed) + Chr(13) + Pitched, 300 mm loft insulation',\n",
              "       'Pitched, 100 mm loft insulation + Chr(13) + Pitched, 0 mm loft insulation + Chr(13) + Roof room(s), no insulation (assumed)',\n",
              "       'Pitched, insulated (assumed) + Chr(13) + Flat, no insulation (assumed) + Chr(13) + Roof room(s), no insulation (assumed)',\n",
              "       'Average thermal transmittance 0.31 W/m&#0178;K',\n",
              "       'Average thermal transmittance 1.70 W/m²K',\n",
              "       'Pitched, no insulation (assumed) + Chr(13) + Pitched, 150 mm loft insulation',\n",
              "       'Pitched, limited insulation (assumed) + Chr(13) + Flat, insulated (assumed) + Chr(13) + Roof room(s), insulated (assumed)',\n",
              "       'Yn wastad, wedi?i hinswleiddio (rhagdybiaeth)',\n",
              "       'Pitched, insulated (assumed) + Chr(13) + Flat, insulated (assumed) + Chr(13) + Roof room(s), insulated (assumed)',\n",
              "       'Pitched, 75 mm loft insulation + Chr(13) + Pitched, 0 mm loft insulation',\n",
              "       'Pitched, no insulation (assumed) + Chr(13) + Pitched, 100 mm loft insulation + Chr(13) + Roof room(s), insulated (assumed)',\n",
              "       'Average thermal transmittance = 0.37 W/m?K',\n",
              "       'Pitched, 100 mm loft insulation + Chr(13) + Flat, no insulation (assumed) + Chr(13) + Pitched, 150 mm loft insulation',\n",
              "       'Pitched, 12 mm loft insulation + Chr(13) + Pitched, 100 mm loft insulation',\n",
              "       'Pitched, 300 mm loft insulation + Chr(13) + Pitched, insulated (assumed) + Chr(13) + Roof room(s), limited insulation (assumed)',\n",
              "       'Pitched, 100 mm loft insulation + Chr(13) + Flat, no insulation (assumed) + Chr(13) + Pitched, no insulation (assumed)',\n",
              "       'Pitched, 250 mm loft insulation + Chr(13) + Flat, limited insulation (assumed) + Chr(13) + Flat, insulated (assumed)',\n",
              "       'Average thermal transmittance 2.50 W/m²K',\n",
              "       'Pitched, 25 mm loft insulation + Chr(13) + Pitched, 75 mm loft insulation',\n",
              "       'Average thermal transmittance 0.69 W/m?K',\n",
              "       'Pitched, 250 mm loft insulation + Chr(13) + Pitched, 200 mm loft insulation + Chr(13) + Roof room(s), insulated (assumed)',\n",
              "       'Pitched, 250 mm loft insulation + Chr(13) + Pitched, 100 mm loft insulation',\n",
              "       'Pitched, 250 mm loft insulation + Chr(13) + (another dwelling above)',\n",
              "       'Pitched, 200 mm loft insulation + Chr(13) + Pitched, insulated (assumed) + Chr(13) + Roof room(s), limited insulation (assumed)',\n",
              "       'Pitched + Chr(13) + (another dwelling above)',\n",
              "       'Pitched, insulated (assumed) + Chr(13) + Pitched, 0 mm loft insulation',\n",
              "       'Average thermal transmittance 0.43 W/m??K',\n",
              "       'Average thermal transmittance 0.35 W/m2K',\n",
              "       'Pitched, 75 mm loft insulation + Chr(13) + Pitched, 50 mm loft insulation + Chr(13) + Roof room(s), limited insulation (assumed)',\n",
              "       'Pitched, 50 mm loft insulation + Chr(13) + Flat, insulated (assumed) + Chr(13) + Flat, no insulation (assumed)',\n",
              "       'Pitched, insulated (assumed) + Chr(13) + Pitched, 250 mm loft insulation',\n",
              "       'Pitched, 300 mm loft insulation + Chr(13) + Pitched, 100 mm loft insulation',\n",
              "       'Pitched, no insulation (assumed) + Chr(13) + (another dwelling above) + Chr(13) + Pitched, 100 mm loft insulation',\n",
              "       'Pitched????????????????????????????????????????????????????250 mm loft insulation',\n",
              "       'Pitched, 200 mm loft insulation + Chr(13) + Pitched, no insulation (assumed) + Chr(13) + Flat, insulated (assumed)',\n",
              "       'Average thermal transmittance 0.74 W/m²K',\n",
              "       'Pitched, 200 mm loft insulation + Chr(13) + Flat, limited insulation (assumed) + Chr(13) + Flat, insulated (assumed)',\n",
              "       'Average thermal transmittance 1.78 W/m²K',\n",
              "       'Pitched, 0 mm loft insulation + Chr(13) + Pitched, 100 mm loft insulation',\n",
              "       'Pitched, 50 mm loft insulation + Chr(13) + Pitched, 25 mm loft insulation',\n",
              "       'Pitched, 50 mm loft insulation + Chr(13) + Pitched, limited insulation (assumed) + Chr(13) + Pitched, 75 mm loft insulation',\n",
              "       'Pitched, 100 mm loft insulation + Chr(13) + Pitched, 150 mm loft insulation + Chr(13) + Pitched, no insulation (assumed)',\n",
              "       'Ar oleddf, dim inswleiddio',\n",
              "       'Average thermal transmittance 0.51 W/m?K',\n",
              "       'Pitched, 75 mm loft insulation + Chr(13) + Pitched, 0 mm loft insulation + Chr(13) + Pitched, no insulation (assumed)',\n",
              "       'Pitched, 300 mm loft insulation + Chr(13) + Pitched, no insulation (assumed) + Chr(13) + Pitched, limited insulation (assumed)',\n",
              "       'Pitched, 75 mm loft insulation + Chr(13) + Pitched, 300 mm loft insulation',\n",
              "       'Pitched, 0 mm loft insulation + Chr(13) + Pitched, limited insulation (assumed) + Chr(13) + Flat, limited insulation (assumed)',\n",
              "       'Pitched, 150 mm loft insulation + Chr(13) + (another dwelling above) + Chr(13) + Pitched, 250 mm loft insulation',\n",
              "       'Pitched, 250 mm loft insulation + Chr(13) + Flat, no insulation (assumed) + Chr(13) + Roof room(s), limited insulation (assumed)',\n",
              "       'Pitched, 75 mm loft insulation + Chr(13) + Pitched, no insulation (assumed) + Chr(13) + Pitched, 0 mm loft insulation',\n",
              "       'Pitched + Chr(13) + Roof room(s), limited insulation (assumed)',\n",
              "       'Average thermal transmittance 0.41 W/m?K',\n",
              "       'Average thermal transmittance 0.23 W/m??K',\n",
              "       'Average thermal transmittance 0.39 W/m²K',\n",
              "       'Pitched, 12 mm loft insulation + Chr(13) + Roof room(s), limited insulation (assumed)',\n",
              "       'Ar oleddf, 100 mm o inswleiddio yn y llofft',\n",
              "       'Pitched, no insulation (assumed) + Chr(13) + Pitched, 100 mm loft insulation + Chr(13) + Pitched, 75 mm loft insulation',\n",
              "       'Pitched, 250 mm loft insulation + Chr(13) + Pitched, 300 mm loft insulation',\n",
              "       'Pitched, 50 mm loft insulation + Chr(13) + Pitched, no insulation (assumed) + Chr(13) + Flat, no insulation (assumed)',\n",
              "       'Average thermal transmittance 0.37 W/m?K',\n",
              "       'Pitched, 250 mm loft insulation + Chr(13) + Pitched, 150 mm loft insulation'],\n",
              "      dtype=object)"
            ]
          },
          "metadata": {
            "tags": []
          },
          "execution_count": 78
        }
      ]
    },
    {
      "cell_type": "code",
      "metadata": {
        "id": "jRLqnhvy5pV1",
        "outputId": "d431a6fb-872b-4c72-8b6d-8b77bf570acb"
      },
      "source": [
        "combine_data['epc_roof_energy_eff'].describe()"
      ],
      "execution_count": null,
      "outputs": [
        {
          "output_type": "execute_result",
          "data": {
            "text/plain": [
              "count     836781\n",
              "unique         5\n",
              "top         Good\n",
              "freq      358283\n",
              "Name: epc_roof_energy_eff, dtype: object"
            ]
          },
          "metadata": {
            "tags": []
          },
          "execution_count": 79
        }
      ]
    },
    {
      "cell_type": "code",
      "metadata": {
        "id": "1OEuzYDX5pV1",
        "outputId": "7c9c98a3-808f-461e-e21a-950db01084c0"
      },
      "source": [
        "print(combine_data['epc_roof_energy_eff'].isnull().sum())"
      ],
      "execution_count": null,
      "outputs": [
        {
          "output_type": "stream",
          "text": [
            "1141996\n"
          ],
          "name": "stdout"
        }
      ]
    },
    {
      "cell_type": "code",
      "metadata": {
        "id": "Nu2pOmvv5pV2",
        "outputId": "bfae1dbe-0383-4393-d72c-46ca39aa6190"
      },
      "source": [
        "combine_data.epc_roof_energy_eff.unique()"
      ],
      "execution_count": null,
      "outputs": [
        {
          "output_type": "execute_result",
          "data": {
            "text/plain": [
              "array([nan, 'Average', 'Very Good', 'Good', 'Poor', 'Very Poor'],\n",
              "      dtype=object)"
            ]
          },
          "metadata": {
            "tags": []
          },
          "execution_count": 81
        }
      ]
    },
    {
      "cell_type": "code",
      "metadata": {
        "id": "TMPQ13P15pV2",
        "outputId": "694bb86c-6ce3-4f7e-f825-408bdf1ce005"
      },
      "source": [
        "combine_data['epc_walls_description'].describe()"
      ],
      "execution_count": null,
      "outputs": [
        {
          "output_type": "execute_result",
          "data": {
            "text/plain": [
              "count                                             960301\n",
              "unique                                              1067\n",
              "top       Solid brick, as built, no insulation (assumed)\n",
              "freq                                              193323\n",
              "Name: epc_walls_description, dtype: object"
            ]
          },
          "metadata": {
            "tags": []
          },
          "execution_count": 82
        }
      ]
    },
    {
      "cell_type": "code",
      "metadata": {
        "id": "uD0YMhIE5pV3",
        "outputId": "ffaddf22-0c40-4321-b336-255c177d472b"
      },
      "source": [
        "print(combine_data['epc_walls_description'].isnull().sum())"
      ],
      "execution_count": null,
      "outputs": [
        {
          "output_type": "stream",
          "text": [
            "1018476\n"
          ],
          "name": "stdout"
        }
      ]
    },
    {
      "cell_type": "code",
      "metadata": {
        "id": "MhO_2gN55pV3",
        "outputId": "cedf512c-a282-4f6f-fe55-faec33fee526"
      },
      "source": [
        "combine_data.epc_walls_description.unique()"
      ],
      "execution_count": null,
      "outputs": [
        {
          "output_type": "execute_result",
          "data": {
            "text/plain": [
              "array([nan, 'Cavity wall, as built, insulated (assumed)',\n",
              "       'Average thermal transmittance 0.24 W/m²K', ...,\n",
              "       'Average thermal transmittance 0.17 W/m2K',\n",
              "       'Average thermal transmittance 1.35 W/mA?K',\n",
              "       'Average thermal transmittance 0.21 W/m?K|Trawsyriannedd thermol cyfartalog 0.21 W/m?K'],\n",
              "      dtype=object)"
            ]
          },
          "metadata": {
            "tags": []
          },
          "execution_count": 84
        }
      ]
    },
    {
      "cell_type": "code",
      "metadata": {
        "id": "88kZRpnk5pV3",
        "outputId": "21141ac1-6f89-49f8-ac9b-53ed0ded3374"
      },
      "source": [
        "combine_data['epc_walls_energy_eff'].describe()"
      ],
      "execution_count": null,
      "outputs": [
        {
          "output_type": "execute_result",
          "data": {
            "text/plain": [
              "count     947395\n",
              "unique         5\n",
              "top         Good\n",
              "freq      432153\n",
              "Name: epc_walls_energy_eff, dtype: object"
            ]
          },
          "metadata": {
            "tags": []
          },
          "execution_count": 85
        }
      ]
    },
    {
      "cell_type": "code",
      "metadata": {
        "id": "UQiOR8i35pV3",
        "outputId": "da617a12-54c0-49f0-ede9-aeb906208bab"
      },
      "source": [
        "print(combine_data['epc_walls_energy_eff'].isnull().sum())"
      ],
      "execution_count": null,
      "outputs": [
        {
          "output_type": "stream",
          "text": [
            "1031382\n"
          ],
          "name": "stdout"
        }
      ]
    },
    {
      "cell_type": "code",
      "metadata": {
        "id": "aX2P9Onr5pV4",
        "outputId": "b6856335-b682-47fb-ceba-f9c120b47c8b"
      },
      "source": [
        "combine_data.epc_walls_energy_eff.unique()"
      ],
      "execution_count": null,
      "outputs": [
        {
          "output_type": "execute_result",
          "data": {
            "text/plain": [
              "array([nan, 'Good', 'Very Good', 'Very Poor', 'Poor', 'Average'],\n",
              "      dtype=object)"
            ]
          },
          "metadata": {
            "tags": []
          },
          "execution_count": 87
        }
      ]
    },
    {
      "cell_type": "code",
      "metadata": {
        "id": "jAddieYk5pV4",
        "outputId": "1088b4bb-33e0-4cbf-9784-bd277a3b3c35"
      },
      "source": [
        "combine_data['epc_windows_description'].describe()"
      ],
      "execution_count": null,
      "outputs": [
        {
          "output_type": "execute_result",
          "data": {
            "text/plain": [
              "count                  960348\n",
              "unique                     52\n",
              "top       Fully double glazed\n",
              "freq                   704779\n",
              "Name: epc_windows_description, dtype: object"
            ]
          },
          "metadata": {
            "tags": []
          },
          "execution_count": 88
        }
      ]
    },
    {
      "cell_type": "code",
      "metadata": {
        "id": "qraC0XpF5pV4",
        "outputId": "a5bc1804-038c-4b50-b018-4ac5e8b317e4"
      },
      "source": [
        "print(combine_data['epc_windows_description'].isnull().sum())"
      ],
      "execution_count": null,
      "outputs": [
        {
          "output_type": "stream",
          "text": [
            "1018429\n"
          ],
          "name": "stdout"
        }
      ]
    },
    {
      "cell_type": "code",
      "metadata": {
        "id": "mc129D745pV5",
        "outputId": "fbaec271-5f00-4641-f918-b4cded120565"
      },
      "source": [
        "combine_data.epc_windows_description.unique()"
      ],
      "execution_count": null,
      "outputs": [
        {
          "output_type": "execute_result",
          "data": {
            "text/plain": [
              "array([nan, 'Partial double glazing', 'High performance glazing',\n",
              "       'Window', 'Fully double glazed', 'Mostly secondary glazing',\n",
              "       'Single glazed', 'Partial secondary glazing',\n",
              "       'Mostly double glazing', 'Multiple glazing throughout',\n",
              "       'Some double glazing', 'Full secondary glazing', 'SAP05:Windows',\n",
              "       'Fully triple glazed', 'Partial multiple glazing',\n",
              "       'Gwydrau dwbl llawn', 'Single glazeddouble glazing',\n",
              "       'Some secondary glazing', 'Fully secondary glazing',\n",
              "       'Mostly multiple glazing', 'Single glazedsecondary glazing',\n",
              "       'Fully secondary glazed', 'Secondary glazing',\n",
              "       'Mostly  double glazing', 'Some  double glazing',\n",
              "       'Some multiple glazing', 'Partial triple glazing',\n",
              "       'Full triple glazing', 'double glazing',\n",
              "       'High performance glazing|Ffenestri perfformiad uchel',\n",
              "       'Fully double glazed|Gwydrau dwbl llawn', 'Mostly triple glazing',\n",
              "       'Multiple glazing throughout|Gwydrau lluosog ym mhobman',\n",
              "       'Multiple glazing throughout ', 'Partial double glazed',\n",
              "       'Single and multiple glazing', 'Single glazedSingle glazing',\n",
              "       'Some triple glazing', 'Single glazed|Gwydrau sengl',\n",
              "       'Some Single glazing', 'Mostly  multiple glazing',\n",
              "       'Fully double glazing', 'Single glazedtriple glazing',\n",
              "       'Ffenestri perfformiad uchel', 'Some  secondary glazing',\n",
              "       'Partial multiple glazingdouble glazing', 'secondary glazing',\n",
              "       'Multiple glazing throught', 'Mostly  secondary glazing',\n",
              "       'Unknown complex glazing regime', 'Gwydrau dwbl gan mwyaf',\n",
              "       'Some  multiple glazing', 'Fully double glazeddouble glazing'],\n",
              "      dtype=object)"
            ]
          },
          "metadata": {
            "tags": []
          },
          "execution_count": 90
        }
      ]
    },
    {
      "cell_type": "code",
      "metadata": {
        "id": "LorCTWGp5pV5",
        "outputId": "45b2ea71-304e-42ff-91ff-0b22a53943a5"
      },
      "source": [
        "combine_data['epc_windows_energy_eff'].describe()"
      ],
      "execution_count": null,
      "outputs": [
        {
          "output_type": "execute_result",
          "data": {
            "text/plain": [
              "count      952546\n",
              "unique          5\n",
              "top       Average\n",
              "freq       486525\n",
              "Name: epc_windows_energy_eff, dtype: object"
            ]
          },
          "metadata": {
            "tags": []
          },
          "execution_count": 91
        }
      ]
    },
    {
      "cell_type": "code",
      "metadata": {
        "id": "RcFEAygJ5pV5",
        "outputId": "acb00d3d-075e-47fc-9197-8936dd0abc17"
      },
      "source": [
        "print(combine_data['epc_windows_energy_eff'].isnull().sum())"
      ],
      "execution_count": null,
      "outputs": [
        {
          "output_type": "stream",
          "text": [
            "1026231\n"
          ],
          "name": "stdout"
        }
      ]
    },
    {
      "cell_type": "code",
      "metadata": {
        "id": "KujQYL725pV6",
        "outputId": "d0c63077-e7cb-4c4d-da0a-7984baafa526"
      },
      "source": [
        "combine_data.epc_windows_energy_eff.unique()"
      ],
      "execution_count": null,
      "outputs": [
        {
          "output_type": "execute_result",
          "data": {
            "text/plain": [
              "array([nan, 'Average', 'Very Good', 'Good', 'Poor', 'Very Poor'],\n",
              "      dtype=object)"
            ]
          },
          "metadata": {
            "tags": []
          },
          "execution_count": 93
        }
      ]
    },
    {
      "cell_type": "code",
      "metadata": {
        "id": "0Z8tVxHD5pV6"
      },
      "source": [
        ""
      ],
      "execution_count": null,
      "outputs": []
    }
  ]
}