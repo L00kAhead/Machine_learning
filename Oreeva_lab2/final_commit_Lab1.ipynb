{
  "nbformat": 4,
  "nbformat_minor": 0,
  "metadata": {
    "kernelspec": {
      "display_name": "Python 3",
      "language": "python",
      "name": "python3"
    },
    "language_info": {
      "codemirror_mode": {
        "name": "ipython",
        "version": 3
      },
      "file_extension": ".py",
      "mimetype": "text/x-python",
      "name": "python",
      "nbconvert_exporter": "python",
      "pygments_lexer": "ipython3",
      "version": "3.7.3"
    },
    "colab": {
      "name": "final_commit_Lab1.ipynb",
      "provenance": [],
      "collapsed_sections": []
    }
  },
  "cells": [
    {
      "cell_type": "markdown",
      "metadata": {
        "id": "LAtl4K_t3rte"
      },
      "source": [
        "<h1>Variant 4: </h1>\n",
        "\n",
        "\n",
        "<h3>Task 1</h3>\n",
        "\n",
        "\n"
      ]
    },
    {
      "cell_type": "code",
      "metadata": {
        "id": "HGJ8Aat13rth"
      },
      "source": [
        "import re \n",
        "\n",
        "def flatten_list(li):\n",
        "    if type(li) == list:\n",
        "      pattern = re.compile(r'[0-9]+')\n",
        "      temp = pattern.findall(str(li))\n",
        "      flat_list = [int(i) for i in temp]\n",
        "      return flat_list\n",
        "    return -1\n",
        "    "
      ],
      "execution_count": 1,
      "outputs": []
    },
    {
      "cell_type": "code",
      "metadata": {
        "colab": {
          "base_uri": "https://localhost:8080/"
        },
        "id": "fTQCaUCv3rti",
        "outputId": "b4db4c8d-8362-4040-880c-26e835ad6740"
      },
      "source": [
        "#test cases\n",
        "# Example: f([1, 2, [3, [4, [5]]]]) == [1, 2, 3, 4, 5]\n",
        "\n",
        "print(flatten_list([1,2,3,[4],44]))\n",
        "print(flatten_list([1,2,[3,[4,[34]],1]]))\n",
        "print(flatten_list([1, 2, [3, [4, [5]]]]))\n",
        "print(flatten_list((1,2,3,4)))"
      ],
      "execution_count": 2,
      "outputs": [
        {
          "output_type": "stream",
          "text": [
            "[1, 2, 3, 4, 44]\n",
            "[1, 2, 3, 4, 34, 1]\n",
            "[1, 2, 3, 4, 5]\n",
            "-1\n"
          ],
          "name": "stdout"
        }
      ]
    },
    {
      "cell_type": "markdown",
      "metadata": {
        "id": "_VMKRQ_h3rtj"
      },
      "source": [
        "<h3>Task 2</h3> Sort ascending columns of two-dimensionaly ndarray by sum. Exclude largest number in each column and repeat sorting."
      ]
    },
    {
      "cell_type": "code",
      "metadata": {
        "id": "Zc9ibVfJ3rtj"
      },
      "source": [
        "import numpy as np \n"
      ],
      "execution_count": 3,
      "outputs": []
    },
    {
      "cell_type": "code",
      "metadata": {
        "colab": {
          "base_uri": "https://localhost:8080/"
        },
        "id": "CFM2IWsC3rtj",
        "outputId": "8e56acf9-ed71-4bcb-f930-f9e75fa85747"
      },
      "source": [
        "arr = np.random.randint(0,30,(5,5))\n",
        "arr"
      ],
      "execution_count": 4,
      "outputs": [
        {
          "output_type": "execute_result",
          "data": {
            "text/plain": [
              "array([[18, 29, 22,  6, 17],\n",
              "       [11, 13, 20, 15, 18],\n",
              "       [19, 21, 22, 13, 18],\n",
              "       [29, 14, 29, 10, 25],\n",
              "       [24, 10, 10,  0,  0]])"
            ]
          },
          "metadata": {
            "tags": []
          },
          "execution_count": 4
        }
      ]
    },
    {
      "cell_type": "code",
      "metadata": {
        "colab": {
          "base_uri": "https://localhost:8080/"
        },
        "id": "iMC2JP6xPwff",
        "outputId": "46e3b67b-e44d-4b6a-cbfd-e21d87cc9a41"
      },
      "source": [
        "temp = np.sort(arr, axis=0)\n",
        "temp2 = temp.copy()\n",
        "temp2 = temp2[:,np.argsort(np.sum(temp2[:4], axis = 0))] #Excluding the largest number \n",
        "\n",
        "sum_temp2 = np.sum(temp2[:4],axis=0)\n",
        "sum_temp2"
      ],
      "execution_count": 5,
      "outputs": [
        {
          "output_type": "execute_result",
          "data": {
            "text/plain": [
              "array([29, 53, 58, 72, 74])"
            ]
          },
          "metadata": {
            "tags": []
          },
          "execution_count": 5
        }
      ]
    },
    {
      "cell_type": "code",
      "metadata": {
        "colab": {
          "base_uri": "https://localhost:8080/"
        },
        "id": "MLIPuvM4Q2Bp",
        "outputId": "2f2c1300-d29a-4915-9602-21cdd1f9257a"
      },
      "source": [
        "print(\"Original ndarray: \\n\",arr)\n",
        "print(\"#########################################################################################\")\n",
        "print(\"*****************************************************************************************\")\n",
        "print(\"Sorted by col sum(excluding max col element): \\n\",temp2)"
      ],
      "execution_count": 6,
      "outputs": [
        {
          "output_type": "stream",
          "text": [
            "Original ndarray: \n",
            " [[18 29 22  6 17]\n",
            " [11 13 20 15 18]\n",
            " [19 21 22 13 18]\n",
            " [29 14 29 10 25]\n",
            " [24 10 10  0  0]]\n",
            "#########################################################################################\n",
            "*****************************************************************************************\n",
            "Sorted by col sum(excluding max col element): \n",
            " [[ 0  0 10 11 10]\n",
            " [ 6 17 13 18 20]\n",
            " [10 18 14 19 22]\n",
            " [13 18 21 24 22]\n",
            " [15 25 29 29 29]]\n"
          ],
          "name": "stdout"
        }
      ]
    },
    {
      "cell_type": "code",
      "metadata": {
        "id": "uV4l7fVp3rtl"
      },
      "source": [
        "def col_sort(arr):\n",
        "    arr2 = np.sort(arr, axis=0)\n",
        "    arr2=arr2[:-1] # Excluding  largest number from each column\n",
        "    return arr2[:,np.argsort(arr2.sum(axis=0))]\n"
      ],
      "execution_count": 7,
      "outputs": []
    },
    {
      "cell_type": "code",
      "metadata": {
        "colab": {
          "base_uri": "https://localhost:8080/"
        },
        "id": "zJmbGP4r5m8o",
        "outputId": "6a66b546-e52e-4e76-94dc-140777606651"
      },
      "source": [
        "check = col_sort(arr)\n",
        "check"
      ],
      "execution_count": 9,
      "outputs": [
        {
          "output_type": "execute_result",
          "data": {
            "text/plain": [
              "array([[ 0,  0, 10, 11, 10],\n",
              "       [ 6, 17, 13, 18, 20],\n",
              "       [10, 18, 14, 19, 22],\n",
              "       [13, 18, 21, 24, 22]])"
            ]
          },
          "metadata": {
            "tags": []
          },
          "execution_count": 9
        }
      ]
    },
    {
      "cell_type": "code",
      "metadata": {
        "colab": {
          "base_uri": "https://localhost:8080/"
        },
        "id": "a7SzM8O7Sfb2",
        "outputId": "8ff4d744-979c-433e-d22c-eb5524dd58d0"
      },
      "source": [
        "def validate_sort(check,arr):\n",
        "  if (check == arr[:-1]).all() == True:\n",
        "    print(\"Sorted Successfully\")\n",
        "  else:\n",
        "    print(\"Error\")\n",
        "\n",
        "validate_sort(check,temp2)"
      ],
      "execution_count": 10,
      "outputs": [
        {
          "output_type": "stream",
          "text": [
            "Sorted Successfully\n"
          ],
          "name": "stdout"
        }
      ]
    },
    {
      "cell_type": "markdown",
      "metadata": {
        "id": "cMyFknVYUPR6"
      },
      "source": [
        "<h3> Task 3 <//h3>"
      ]
    },
    {
      "cell_type": "code",
      "metadata": {
        "id": "tIopG-x-Ov53"
      },
      "source": [
        "import math\n",
        "import matplotlib.pyplot as plt\n"
      ],
      "execution_count": 11,
      "outputs": []
    },
    {
      "cell_type": "code",
      "metadata": {
        "id": "260bNQ-5V3rq"
      },
      "source": [
        "class Point:\n",
        "    def __init__(self, x, y):\n",
        "        self.x = x\n",
        "        self.y = y\n",
        "    def __str__(self):\n",
        "        return \"(\"+str(self.x)+\",\"+str(self.y)+\")\"\n",
        "\n",
        "class Circle:\n",
        "    def __init__(self, r, p):\n",
        "        self.r = r\n",
        "        self.c = p\n",
        "    def __str__(self):\n",
        "        mystring = \"radius=\" + str(self.r) + \", center=\" + str(self.c)\n",
        "        return mystring\n",
        "    def area(self):\n",
        "        return str(PI*p(self.r))"
      ],
      "execution_count": 12,
      "outputs": []
    },
    {
      "cell_type": "code",
      "metadata": {
        "id": "RjaSOVEz3rtn"
      },
      "source": [
        "PI = 3.14159265359\n",
        "\n",
        "def p(x):\n",
        "    return pow(x,2)\n",
        "def s(x):\n",
        "    return pow(x,0.5)\n",
        "def sin(x):\n",
        "    return math.sin(x)\n",
        "def cos(x):\n",
        "    return math.cos(x)\n",
        "def acos(x):\n",
        "    return math.acos(x)\n",
        "#distance centers\n",
        "def distance(p1,p2):\n",
        "    return s(p(p1.x-p2.x)+p(p1.y-p2.y))\n",
        "\n",
        "#target angle is between a and b\n",
        "def cosine_rule(a,b,c):\n",
        "    angle=acos((p(a)+p(b)-p(c))/(2*a*b)) \n",
        "    return angle\n",
        "\n",
        "#theta is between a and b    \n",
        "def triangle_area(a,b,theta):\n",
        "    return 0.5*a*b*sin(theta)\n",
        "\n",
        "#area of sector\n",
        "def sector_area(r,theta):\n",
        "    return p(r)*PI*theta/(2*PI)   #pi*r**2 * (0)/2pi(360degree) #0 -> radians\n",
        "\n",
        "def result():\n",
        "  d = distance(c1.c, c2.c)\n",
        "  external_distance = c1.r + c2.r\n",
        "  internal_distance = math.fabs(c1.r - c2.r)\n",
        "\n",
        "  if d >= external_distance:\n",
        "      print(\"Two circles have no overlap.\")\n",
        "      \n",
        "  elif d <= internal_distance:\n",
        "    if r1 <= r2:\n",
        "      print(\"Circle 1 is totally inside Circle 2.\")\n",
        "      print(\"Overlap Area: \",r1*r1*PI)\n",
        "    elif r1 >= r2:\n",
        "      print(\"Circle 2 is totally inside Circle 1.\")\n",
        "      print(\"Overlap Area: \",r2*r2*PI)\n",
        "              \n",
        "  else:\n",
        "      theta1 = 2 * cosine_rule(c1.r, d, c2.r)\n",
        "      theta2 = 2 * cosine_rule(c2.r, d, c1.r)\n",
        "\n",
        "      t_area1 = triangle_area(c1.r, c1.r, theta1)\n",
        "      c_area1 = sector_area(c1.r,theta1)\n",
        "      t_area2 = triangle_area(c2.r,c2.r,theta2)\n",
        "      c_area2 = sector_area(c2.r,theta2)\n",
        "\n",
        "      two_circle_overlap_area = c_area1 + c_area2 - t_area1 - t_area2 \n",
        "      #Subtracting the area of triangle from sector from both circles\n",
        "      print(\"Overlap Area: \" + str(two_circle_overlap_area))\n"
      ],
      "execution_count": 13,
      "outputs": []
    },
    {
      "cell_type": "code",
      "metadata": {
        "colab": {
          "base_uri": "https://localhost:8080/",
          "height": 559
        },
        "id": "INwWMn7aNHoi",
        "outputId": "9ccaf3f1-42c3-4df1-a218-2a4864c45e04"
      },
      "source": [
        "x1,y1,r1 = 0, 0, 1\n",
        "x2,y2,r2 = 1, 1, 1\n",
        "p1 = Point(x1,y1)\n",
        "p2 = Point(x2,y2)\n",
        "c1 = Circle(r1,p1)\n",
        "c2 = Circle(r2,p2)\n",
        "\n",
        "print(\"Circle-1: \" + str(c1) + \" | Area=\" + c1.area())\n",
        "print(\"Circle-2: \" + str(c2) + \" | Area=\" + c2.area())\n",
        "result()\n",
        "\n",
        "plt.figure(figsize=(10,8))\n",
        "ax = plt.gca()\n",
        "circle1 = plt.Circle((x1,y1), r1, color='r', alpha=.2)\n",
        "circle2 = plt.Circle((x2,y2), r2, color='b', alpha=.2)\n",
        "ax.add_artist(circle1)\n",
        "ax.add_artist(circle2)\n",
        "ax.set_xlim(-5, 5)\n",
        "ax.set_ylim(-5, 5)\n",
        "ax.set_aspect('equal')\n",
        "plt.plot()\n"
      ],
      "execution_count": 14,
      "outputs": [
        {
          "output_type": "stream",
          "text": [
            "Circle-1: radius=1, center=(0,0) | Area=3.14159265359\n",
            "Circle-2: radius=1, center=(1,1) | Area=3.14159265359\n",
            "Overlap Area: 0.5707963267948961\n"
          ],
          "name": "stdout"
        },
        {
          "output_type": "execute_result",
          "data": {
            "text/plain": [
              "[]"
            ]
          },
          "metadata": {
            "tags": []
          },
          "execution_count": 14
        },
        {
          "output_type": "display_data",
          "data": {
            "image/png": "[encoded data removed]",
            "text/plain": [
              "<Figure size 720x576 with 1 Axes>"
            ]
          },
          "metadata": {
            "tags": [],
            "needs_background": "light"
          }
        }
      ]
    },
    {
      "cell_type": "code",
      "metadata": {
        "id": "KXiYIbBJWKmE"
      },
      "source": [
        ""
      ],
      "execution_count": null,
      "outputs": []
    },
    {
      "cell_type": "code",
      "metadata": {
        "id": "_CbNoekcDgw2"
      },
      "source": [
        "# import shapely.geometry as sg\n",
        "# import matplotlib.pyplot as plt\n",
        "# import descartes\n",
        "\n",
        "# # create the circles with shapely\n",
        "# a = sg.Point(x1,y1).buffer(r1)\n",
        "# b = sg.Point(x2,y2).buffer(r2)\n",
        "\n",
        "# # compute the 3 parts\n",
        "# left = a.difference(b)\n",
        "# right = b.difference(a)\n",
        "# middle = a.intersection(b)\n",
        "\n",
        "# # use descartes to create the matplotlib patches\n",
        "# ax = plt.gca()\n",
        "# ax.add_patch(descartes.PolygonPatch(left, fc='b', ec='k', alpha=0.2))\n",
        "# ax.add_patch(descartes.PolygonPatch(right, fc='r', ec='k', alpha=0.2))\n",
        "# ax.add_patch(descartes.PolygonPatch(middle, fc='g', ec='k', alpha=0.2))\n",
        "\n",
        "# # control display\n",
        "# ax.set_xlim(-5, 5); ax.set_ylim(-5, 5)\n",
        "# ax.set_aspect('equal')\n",
        "# plt.show()"
      ],
      "execution_count": null,
      "outputs": []
    },
    {
      "cell_type": "code",
      "metadata": {
        "id": "5KuLdOOcONFq"
      },
      "source": [
        ""
      ],
      "execution_count": null,
      "outputs": []
    }
  ]
}